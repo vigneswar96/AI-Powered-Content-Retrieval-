{
 "cells": [
  {
   "cell_type": "markdown",
   "id": "d362d661-213d-4167-a8ba-37f94d2b827a",
   "metadata": {},
   "source": [
    "### 1) Content Ingestion "
   ]
  },
  {
   "cell_type": "markdown",
   "id": "b6e13f79-e36b-42d1-aac2-ba44d102543d",
   "metadata": {},
   "source": [
    "### We need to deal with plethora of documents which is really necessary for the project. "
   ]
  },
  {
   "cell_type": "markdown",
   "id": "78d076dc-81eb-4c29-b4e1-2dd4e8b4d7b8",
   "metadata": {},
   "source": [
    "#### a) PDFs \n",
    "#### b) Word Documents\n",
    "#### c) HTML pages \n",
    "#### d) Databases ( can be any) "
   ]
  },
  {
   "cell_type": "markdown",
   "id": "0e41890a-5a59-43d6-b9cf-8fd64c277a11",
   "metadata": {},
   "source": [
    "#### We can use document parsers such as Apache Tika ( personally I feel this is a good one), PyMuPDF, BeautifulSoup for web scraping. \n",
    "#### Another proposed solution is using LlamaIndex as they a variety of connectors available in LlamaHub\n",
    "#### It is built in to LlamaIndex and can read a variety of formats including Markdown, PDFs, Word documents, PowerPoint decks, images, audio and video.\n",
    "#### For our use case we can use loading using SimpleDirectoryReader"
   ]
  },
  {
   "cell_type": "code",
   "execution_count": 29,
   "id": "a6101071-6b74-49c5-b2ab-a4e936874028",
   "metadata": {
    "tags": []
   },
   "outputs": [],
   "source": [
    "# System Utilities \n",
    "from spacy import displacy\n",
    "import pymupdf\n",
    "import requests\n",
    "from bs4 import BeautifulSoup \n",
    "import re\n",
    "import openai\n",
    "import spacy\n",
    "from spacy.lang.en import English\n",
    "\n",
    "# LlamaIndex\n",
    "from llama_index.core import SimpleDirectoryReader\n",
    "from llama_index.core.node_parser import SentenceWindowNodeParser\n",
    "from llama_index.core.node_parser import SentenceSplitter\n",
    "from llama_index.core import VectorStoreIndex\n",
    "from llama_index.core.postprocessor import MetadataReplacementPostProcessor\n",
    "from llama_index.core import Document\n",
    "from llama_index.vector_stores.neo4jvector import Neo4jVectorStore\n",
    "from llama_index.core import VectorStoreIndex, SimpleDirectoryReader\n",
    "from IPython.display import Markdown, display\n",
    "from neo4j import GraphDatabase\n",
    "from llama_index.core import StorageContext\n",
    "\n",
    "\n",
    "from sentence_transformers import SentenceTransformer, util\n",
    "\n",
    "import torch"
   ]
  },
  {
   "cell_type": "code",
   "execution_count": 23,
   "id": "ee61b72f-aa55-4d4a-9649-bca8e82afb32",
   "metadata": {
    "tags": []
   },
   "outputs": [
    {
     "name": "stdout",
     "output_type": "stream",
     "text": [
      "Thu Aug 15 19:43:31 2024       \n",
      "+-----------------------------------------------------------------------------------------+\n",
      "| NVIDIA-SMI 550.90.07              Driver Version: 550.90.07      CUDA Version: 12.4     |\n",
      "|-----------------------------------------+------------------------+----------------------+\n",
      "| GPU  Name                 Persistence-M | Bus-Id          Disp.A | Volatile Uncorr. ECC |\n",
      "| Fan  Temp   Perf          Pwr:Usage/Cap |           Memory-Usage | GPU-Util  Compute M. |\n",
      "|                                         |                        |               MIG M. |\n",
      "|=========================================+========================+======================|\n",
      "|   0  Tesla T4                       On  |   00000000:00:04.0 Off |                    0 |\n",
      "| N/A   70C    P0             31W /   70W |    1895MiB /  15360MiB |      0%      Default |\n",
      "|                                         |                        |                  N/A |\n",
      "+-----------------------------------------+------------------------+----------------------+\n",
      "                                                                                         \n",
      "+-----------------------------------------------------------------------------------------+\n",
      "| Processes:                                                                              |\n",
      "|  GPU   GI   CI        PID   Type   Process name                              GPU Memory |\n",
      "|        ID   ID                                                               Usage      |\n",
      "|=========================================================================================|\n",
      "|    0   N/A  N/A      3500      C   /opt/conda/envs/tensorflow/bin/python3        676MiB |\n",
      "|    0   N/A  N/A    301154      C   /opt/conda/envs/tensorflow/bin/python3       1216MiB |\n",
      "+-----------------------------------------------------------------------------------------+\n"
     ]
    }
   ],
   "source": [
    "!nvidia-smi"
   ]
  },
  {
   "cell_type": "code",
   "execution_count": 19,
   "id": "b0142e0a-8251-496d-aafb-30c9d8850054",
   "metadata": {
    "tags": []
   },
   "outputs": [],
   "source": [
    "model_name = 'paraphrase-multilingual-mpnet-base-v2'"
   ]
  },
  {
   "cell_type": "code",
   "execution_count": 20,
   "id": "cea468ed-a2cf-4686-998b-345e8621672f",
   "metadata": {
    "tags": []
   },
   "outputs": [],
   "source": [
    "encoded_model_path = 'semantic_search_model.pt'"
   ]
  },
  {
   "cell_type": "code",
   "execution_count": 21,
   "id": "1f8383bd-f87b-42ee-b264-9954e9cc9a0e",
   "metadata": {
    "tags": []
   },
   "outputs": [],
   "source": [
    "dataset_path = './SAP'"
   ]
  },
  {
   "cell_type": "code",
   "execution_count": 22,
   "id": "03652935-9b40-4010-ac44-f601f291bf24",
   "metadata": {
    "tags": []
   },
   "outputs": [
    {
     "data": {
      "application/vnd.jupyter.widget-view+json": {
       "model_id": "dde846338c804ae1bb7ed2f785cbdb61",
       "version_major": 2,
       "version_minor": 0
      },
      "text/plain": [
       "modules.json:   0%|          | 0.00/229 [00:00<?, ?B/s]"
      ]
     },
     "metadata": {},
     "output_type": "display_data"
    },
    {
     "data": {
      "application/vnd.jupyter.widget-view+json": {
       "model_id": "56e926c6c6654e5eb55da326044f98f1",
       "version_major": 2,
       "version_minor": 0
      },
      "text/plain": [
       "config_sentence_transformers.json:   0%|          | 0.00/122 [00:00<?, ?B/s]"
      ]
     },
     "metadata": {},
     "output_type": "display_data"
    },
    {
     "data": {
      "application/vnd.jupyter.widget-view+json": {
       "model_id": "16c8a15cda7945c69e6497fe59d557f4",
       "version_major": 2,
       "version_minor": 0
      },
      "text/plain": [
       "README.md:   0%|          | 0.00/4.13k [00:00<?, ?B/s]"
      ]
     },
     "metadata": {},
     "output_type": "display_data"
    },
    {
     "data": {
      "application/vnd.jupyter.widget-view+json": {
       "model_id": "6bb41db0fb8f4809aa0b5a0399ffda05",
       "version_major": 2,
       "version_minor": 0
      },
      "text/plain": [
       "sentence_bert_config.json:   0%|          | 0.00/53.0 [00:00<?, ?B/s]"
      ]
     },
     "metadata": {},
     "output_type": "display_data"
    },
    {
     "data": {
      "application/vnd.jupyter.widget-view+json": {
       "model_id": "ef272adfab6e48bc8914c612f120c45a",
       "version_major": 2,
       "version_minor": 0
      },
      "text/plain": [
       "config.json:   0%|          | 0.00/723 [00:00<?, ?B/s]"
      ]
     },
     "metadata": {},
     "output_type": "display_data"
    },
    {
     "data": {
      "application/vnd.jupyter.widget-view+json": {
       "model_id": "96f7b8a482e748b8aea33050612b1854",
       "version_major": 2,
       "version_minor": 0
      },
      "text/plain": [
       "model.safetensors:   0%|          | 0.00/1.11G [00:00<?, ?B/s]"
      ]
     },
     "metadata": {},
     "output_type": "display_data"
    },
    {
     "data": {
      "application/vnd.jupyter.widget-view+json": {
       "model_id": "fe08990aa66a4daebfa30ab8b7715ef1",
       "version_major": 2,
       "version_minor": 0
      },
      "text/plain": [
       "tokenizer_config.json:   0%|          | 0.00/402 [00:00<?, ?B/s]"
      ]
     },
     "metadata": {},
     "output_type": "display_data"
    },
    {
     "data": {
      "application/vnd.jupyter.widget-view+json": {
       "model_id": "37729929afd0401ca5d98bbe1ba3d6a6",
       "version_major": 2,
       "version_minor": 0
      },
      "text/plain": [
       "sentencepiece.bpe.model:   0%|          | 0.00/5.07M [00:00<?, ?B/s]"
      ]
     },
     "metadata": {},
     "output_type": "display_data"
    },
    {
     "data": {
      "application/vnd.jupyter.widget-view+json": {
       "model_id": "7f57e2a8f1f44aa0a023e577dbbea99c",
       "version_major": 2,
       "version_minor": 0
      },
      "text/plain": [
       "tokenizer.json:   0%|          | 0.00/9.08M [00:00<?, ?B/s]"
      ]
     },
     "metadata": {},
     "output_type": "display_data"
    },
    {
     "data": {
      "application/vnd.jupyter.widget-view+json": {
       "model_id": "1514cdd5311645a5899bd09adc53c479",
       "version_major": 2,
       "version_minor": 0
      },
      "text/plain": [
       "special_tokens_map.json:   0%|          | 0.00/239 [00:00<?, ?B/s]"
      ]
     },
     "metadata": {},
     "output_type": "display_data"
    },
    {
     "name": "stderr",
     "output_type": "stream",
     "text": [
      "/opt/conda/envs/tensorflow/lib/python3.10/site-packages/transformers/tokenization_utils_base.py:1601: FutureWarning: `clean_up_tokenization_spaces` was not set. It will be set to `True` by default. This behavior will be depracted in transformers v4.45, and will be then set to `False` by default. For more details check this issue: https://github.com/huggingface/transformers/issues/31884\n",
      "  warnings.warn(\n"
     ]
    },
    {
     "data": {
      "application/vnd.jupyter.widget-view+json": {
       "model_id": "7a74018c62c04026b4f7a9e2ca763c5b",
       "version_major": 2,
       "version_minor": 0
      },
      "text/plain": [
       "1_Pooling/config.json:   0%|          | 0.00/190 [00:00<?, ?B/s]"
      ]
     },
     "metadata": {},
     "output_type": "display_data"
    }
   ],
   "source": [
    "bi_encoder = SentenceTransformer(model_name)"
   ]
  },
  {
   "cell_type": "code",
   "execution_count": 3,
   "id": "2289672d-4657-44c5-9f16-24f477b6b41a",
   "metadata": {
    "tags": []
   },
   "outputs": [
    {
     "data": {
      "text/plain": [
       "<spacy.pipeline.sentencizer.Sentencizer at 0x7f98e426da00>"
      ]
     },
     "execution_count": 3,
     "metadata": {},
     "output_type": "execute_result"
    }
   ],
   "source": [
    "nlp = English()\n",
    "nlp.add_pipe(\"sentencizer\")"
   ]
  },
  {
   "cell_type": "code",
   "execution_count": 4,
   "id": "84c8c5ba-0d83-4dd5-b149-88c260711f8d",
   "metadata": {
    "tags": []
   },
   "outputs": [],
   "source": [
    "# :) The API Keys are removed after this project use. \n",
    "openai.api_key = \"########################################################\""
   ]
  },
  {
   "cell_type": "code",
   "execution_count": 5,
   "id": "cd268bf3-add9-446d-a205-8541b86d865b",
   "metadata": {
    "tags": []
   },
   "outputs": [],
   "source": [
    "username = \"neo4j\"\n",
    "password = \"Me4JIgtHmDrCJLjTvSFxxzIyKPzCAOWxeUg4nZiaDxo\"\n",
    "url = \"neo4j+s://cb52b641.databases.neo4j.io\""
   ]
  },
  {
   "cell_type": "code",
   "execution_count": 6,
   "id": "5e69b40a-d8cb-489a-a632-9e84630210bf",
   "metadata": {
    "tags": []
   },
   "outputs": [],
   "source": [
    "# Using PyMuPDF\n",
    "doc = pymupdf.open(\"./CENIBRA_ Taking the Next Steps Toward Sustainable Excellence with Intelligent Technologies.pdf\")\n",
    "for page in doc:\n",
    "    text = page.get_text()"
   ]
  },
  {
   "cell_type": "code",
   "execution_count": 7,
   "id": "544c24e9-7eb6-4b58-af74-7d70425aeb6b",
   "metadata": {
    "tags": []
   },
   "outputs": [
    {
     "data": {
      "text/plain": [
       "'One of the key challenges for Celulose Nipo-Brasileira S.A. (CENIBRA) was increasing \\nproductivity at a company that is already recognized globally for its high standard of \\noperations. The company is a merge of two cultures, Brazilian and Japanese, that \\nresulted in a unique vision of a consistent business and pragmatic quality improvements. \\nSAP S/4HANA® was a natural choice for its transformation, replacing the old ERP system \\nimplemented more than 17 years ago and integrating it with its logistics subsidiary, \\nCENIBRA Logística. CENIBRA’s aim was to create both process synergies and new \\nprocess designs to increase productivity.\\nThe 13-month project covered all main processes, including sales, finance, production, \\nHR, purchasing, warehouse, transportation, project document management, and treasury \\nand risk management. Even with challenges due to the COVID-19 pandemic, the team \\nwas able to work virtually and deliver the results as planned.\\nCENIBRA simplified its processes and increased customer service levels by adopting 320 \\nSAP Fiori® apps and mobile technology. Processes such as maintenance, finance, and \\nlogistics have benefited from the new technology, with the focus changed from manual \\nwork to a better evaluation of business scenarios and streamlined decision-making.\\nEnabling Next-Level Productivity by Simplifying \\nand Integrating Processes\\nProcesses with \\nSAP Fiori apps\\nFaster generation of \\nthe maintenance plan, \\nbenefiting several \\ncapital-intensive \\nprocesses\\n99%\\n“Simplification, increased performance of \\nbusiness processes, and preparation for the \\nnext steps of the transformation were the main \\nneeds of the business, but we also sought to \\nimprove the user experience. We brought mobility \\nfeatures into the scope and digitalized processes \\nthat were still manual – it was a big transformation.”\\nRonaldo Neves Ribeiro, CIO, Celulose Nipo-Brasileira \\nS.A. (CENIBRA)\\nImproved\\n'"
      ]
     },
     "execution_count": 7,
     "metadata": {},
     "output_type": "execute_result"
    }
   ],
   "source": [
    "text"
   ]
  },
  {
   "cell_type": "code",
   "execution_count": 8,
   "id": "8215f39c-99bb-429d-ab1e-939cda27735f",
   "metadata": {
    "tags": []
   },
   "outputs": [
    {
     "data": {
      "text/plain": [
       "'O'"
      ]
     },
     "execution_count": 8,
     "metadata": {},
     "output_type": "execute_result"
    }
   ],
   "source": [
    "text[0] # Character level encoding"
   ]
  },
  {
   "cell_type": "code",
   "execution_count": 10,
   "id": "d262335d-b27b-4689-8b68-22b1ba298706",
   "metadata": {
    "tags": []
   },
   "outputs": [
    {
     "name": "stdout",
     "output_type": "stream",
     "text": [
      "PUBLIC\n",
      "Since 1975, Celulose Nipo-Brasileira S.A. (CENIBRA) has been processing pulp and \n",
      "producing paper products with a focus on sustainability, biodiversity, and traceability.\n",
      "Pulp \n",
      "production requires large investments in capital, and asset utilization is a key component \n",
      "of a profitable producer.\n",
      "In addition, industry volatility has increased due to economic \n",
      "turmoil that is impacting prices and logistical resources.\n",
      "\n",
      "CENIBRA has a long history of achievements, however, it knew that transforming its IT \n",
      "landscape and processes was necessary to meet new market requirements and its \n",
      "business strategy.\n",
      "One of the challenges CENIBRA faced was integration with the group’s \n",
      "logistics company, CENIBRA Logística.\n",
      "The company also looked to create operational \n",
      "synergies, simplify processes, and increase productivity in areas including finance, \n",
      "maintenance, and operations.\n",
      "\n",
      "CENIBRA: Taking the Next Steps \n",
      "Toward Sustainable Excellence with \n",
      "Intelligent Technologies\n",
      "Picture Credit | Celulose Nipo-Brasileira S.A. (CENIBRA), Minas Gerais, Brazil.\n",
      "Used with permission.\n",
      "\n",
      "\n",
      "Before: Challenges and Opportunities\n",
      "• Aging ERP system that couldn’t meet the latest market requirements and lacked digital functions \n",
      "• Opportunity to decrease operational efforts for new IT developments and enable daily reports\n",
      "• Need for easier ways to integrate processes and people, such as a stronger use of mobile technology \n",
      "• Desire to move logistics company CENIBRA Logística from its legacy ERP system to SAP S/4HANA®\n",
      "Why SAP\n",
      "• SAP S/4HANA, which includes the latest digital capabilities that bring flexibility and productivity to \n",
      "CENIBRA’s IT department\n",
      "• SAP® Value Assurance program for a faster implementation, quality assurance, best practice selection, \n",
      "and knowledge transfer\n",
      "• Ability to reduce manual efforts with SAP S/4HANA and SAP Fiori® apps \n",
      "After: Value-Driven Results\n",
      "• Single source of truth for customers and suppliers\n",
      "• Flexible and faster cash-flow evaluation\n",
      "• Improved operations thanks to best practices from the SAP Extended Warehouse Management and \n",
      "SAP Transportation Management applications \n",
      "• Simplification of financial processes to accelerate monthly closing and greater financial insight, \n",
      "enabling 73% faster payroll report generation that considers complex legislation and 4,500 employees\n",
      "• Improvement in asset management, providing more integrated management of depreciation and usage\n",
      "• More-efficient IT process management using SAP Solution Manager and focused developments \n",
      "Executing a Digital Transformation Strategy with SAP S/4HANA®\n",
      "“The path to digital transformation begins with agile \n",
      "and efficient business management.\n",
      "This was one \n",
      "of the main drivers to migrate our SAP system to the \n",
      "latest SAP S/4HANA software, a totally remodeled \n",
      "version that’s faster and simpler and provides \n",
      "several possibilities to improve our processes.”\n",
      "\n",
      "Anamaria Ferreira de Oliveira, Information Systems Coordinator, \n",
      "Celulose Nipo-Brasileira S.A. (CENIBRA)\n",
      "95% \n",
      "Productivity gain for \n",
      "closing reporting \n",
      "procedures\n",
      "11 hours\n",
      "Saved in the generation of \n",
      "payroll reports\n",
      "Celulose Nipo-Brasileira \n",
      "S.A. (CENIBRA) \n",
      "Minas Gerais, Brazil \n",
      "www.cenibra.com.br\n",
      "Industry\n",
      "Mill products \n",
      "Employees\n",
      "4,500\n",
      "Revenue\n",
      "US$560 million\n",
      "Products and Services\n",
      "Pulp and paper production \n",
      "Featured Solutions and Services \n",
      "SAP S/4HANA and SAP Services \n",
      "and Support\n",
      "PUBLIC | 78152enUS (21/11) © 2021 SAP SE or an SAP affiliate company.\n",
      "\n",
      "sap.com/terms-of-use\n",
      "\n",
      "One of the key challenges for Celulose Nipo-Brasileira S.A. (CENIBRA) was increasing \n",
      "productivity at a company that is already recognized globally for its high standard of \n",
      "operations.\n",
      "The company is a merge of two cultures, Brazilian and Japanese, that \n",
      "resulted in a unique vision of a consistent business and pragmatic quality improvements.\n",
      "\n",
      "SAP S/4HANA® was a natural choice for its transformation, replacing the old ERP system \n",
      "implemented more than 17 years ago and integrating it with its logistics subsidiary, \n",
      "CENIBRA Logística.\n",
      "CENIBRA’s aim was to create both process synergies and new \n",
      "process designs to increase productivity.\n",
      "\n",
      "The 13-month project covered all main processes, including sales, finance, production, \n",
      "HR, purchasing, warehouse, transportation, project document management, and treasury \n",
      "and risk management.\n",
      "Even with challenges due to the COVID-19 pandemic, the team \n",
      "was able to work virtually and deliver the results as planned.\n",
      "\n",
      "CENIBRA simplified its processes and increased customer service levels by adopting 320 \n",
      "SAP Fiori® apps and mobile technology.\n",
      "Processes such as maintenance, finance, and \n",
      "logistics have benefited from the new technology, with the focus changed from manual \n",
      "work to a better evaluation of business scenarios and streamlined decision-making.\n",
      "\n",
      "Enabling Next-Level Productivity by Simplifying \n",
      "and Integrating Processes\n",
      "Processes with \n",
      "SAP Fiori apps\n",
      "Faster generation of \n",
      "the maintenance plan, \n",
      "benefiting several \n",
      "capital-intensive \n",
      "processes\n",
      "99%\n",
      "“Simplification, increased performance of \n",
      "business processes, and preparation for the \n",
      "next steps of the transformation were the main \n",
      "needs of the business, but we also sought to \n",
      "improve the user experience.\n",
      "We brought mobility \n",
      "features into the scope and digitalized processes \n",
      "that were still manual – it was a big transformation.”\n",
      "\n",
      "Ronaldo Neves Ribeiro, CIO, Celulose Nipo-Brasileira \n",
      "S.A. (CENIBRA)\n",
      "Improved\n",
      "\n",
      "Count : 24\n"
     ]
    }
   ],
   "source": [
    "all_sentences = [] # Sentence Level Extraction\n",
    "\n",
    "# Extract text from each page and apply the sentence splitter\n",
    "for page in doc:\n",
    "    text = page.get_text()  # Extract text from the page\n",
    "    spacy_doc = nlp(text)   # Process the text with spaCy\n",
    "    sentences = [sent.text for sent in spacy_doc.sents]  # Extract sentences\n",
    "    all_sentences.extend(sentences)  # Add sentences to the list\n",
    "\n",
    "# Print or process the sentences\n",
    "count = 0\n",
    "for sentence in all_sentences:\n",
    "    print(sentence)\n",
    "    count +=1\n",
    "    \n",
    "print(f'Count : {count}')"
   ]
  },
  {
   "cell_type": "code",
   "execution_count": 13,
   "id": "5b763d45-cd71-4f92-90f9-954bd857738c",
   "metadata": {
    "tags": []
   },
   "outputs": [
    {
     "data": {
      "text/plain": [
       "pymupdf.Document"
      ]
     },
     "execution_count": 13,
     "metadata": {},
     "output_type": "execute_result"
    }
   ],
   "source": [
    "type(doc)"
   ]
  },
  {
   "cell_type": "code",
   "execution_count": 14,
   "id": "05f6584f-72bb-4961-ba31-586d80cbb187",
   "metadata": {
    "tags": []
   },
   "outputs": [],
   "source": [
    "# Iterate over the pages and extract text\n",
    "text = \"\"\n",
    "for page_num in range(len(doc)):\n",
    "    page = doc.load_page(page_num)  # Load each page\n",
    "    text += page.get_text(\"text\")  # Extract text in simple text format"
   ]
  },
  {
   "cell_type": "code",
   "execution_count": 16,
   "id": "749d5773-9a7f-4bb5-b65e-aadcbef235c2",
   "metadata": {
    "tags": []
   },
   "outputs": [
    {
     "name": "stdout",
     "output_type": "stream",
     "text": [
      "PUBLIC     XXXX True False\n",
      "\n",
      "     \n",
      " False False\n",
      "Since     Xxxxx True True\n",
      "1975     dddd False False\n",
      ",     , False False\n",
      "Celulose     Xxxxx True False\n",
      "Nipo     Xxxx True False\n",
      "-     - False False\n",
      "Brasileira     Xxxxx True False\n",
      "S.A.     X.X. False False\n",
      "(     ( False False\n",
      "CENIBRA     XXXX True False\n",
      ")     ) False False\n",
      "has     xxx True True\n",
      "been     xxxx True True\n",
      "processing     xxxx True False\n",
      "pulp     xxxx True False\n",
      "and     xxx True True\n",
      "\n",
      "     \n",
      " False False\n",
      "producing     xxxx True False\n",
      "paper     xxxx True False\n",
      "products     xxxx True False\n",
      "with     xxxx True True\n",
      "a     x True True\n",
      "focus     xxxx True False\n",
      "on     xx True True\n",
      "sustainability     xxxx True False\n",
      ",     , False False\n",
      "biodiversity     xxxx True False\n",
      ",     , False False\n",
      "and     xxx True True\n",
      "traceability     xxxx True False\n",
      ".     . False False\n",
      "Pulp     Xxxx True False\n",
      "\n",
      "     \n",
      " False False\n",
      "production     xxxx True False\n",
      "requires     xxxx True False\n",
      "large     xxxx True False\n",
      "investments     xxxx True False\n",
      "in     xx True True\n",
      "capital     xxxx True False\n",
      ",     , False False\n",
      "and     xxx True True\n",
      "asset     xxxx True False\n",
      "utilization     xxxx True False\n",
      "is     xx True True\n",
      "a     x True True\n",
      "key     xxx True False\n",
      "component     xxxx True False\n",
      "\n",
      "     \n",
      " False False\n",
      "of     xx True True\n",
      "a     x True True\n",
      "profitable     xxxx True False\n",
      "producer     xxxx True False\n",
      ".     . False False\n",
      "In     Xx True True\n",
      "addition     xxxx True False\n",
      ",     , False False\n",
      "industry     xxxx True False\n",
      "volatility     xxxx True False\n",
      "has     xxx True True\n",
      "increased     xxxx True False\n",
      "due     xxx True True\n",
      "to     xx True True\n",
      "economic     xxxx True False\n",
      "\n",
      "     \n",
      " False False\n",
      "turmoil     xxxx True False\n",
      "that     xxxx True True\n",
      "is     xx True True\n",
      "impacting     xxxx True False\n",
      "prices     xxxx True False\n",
      "and     xxx True True\n",
      "logistical     xxxx True False\n",
      "resources     xxxx True False\n",
      ".     . False False\n",
      "\n",
      "     \n",
      " False False\n",
      "CENIBRA     XXXX True False\n",
      "has     xxx True True\n",
      "a     x True True\n",
      "long     xxxx True False\n",
      "history     xxxx True False\n",
      "of     xx True True\n",
      "achievements     xxxx True False\n",
      ",     , False False\n",
      "however     xxxx True True\n",
      ",     , False False\n",
      "it     xx True True\n",
      "knew     xxxx True False\n",
      "that     xxxx True True\n",
      "transforming     xxxx True False\n",
      "its     xxx True True\n",
      "IT     XX True True\n",
      "\n",
      "     \n",
      " False False\n",
      "landscape     xxxx True False\n",
      "and     xxx True True\n",
      "processes     xxxx True False\n",
      "was     xxx True True\n",
      "necessary     xxxx True False\n",
      "to     xx True True\n",
      "meet     xxxx True False\n",
      "new     xxx True False\n",
      "market     xxxx True False\n",
      "requirements     xxxx True False\n",
      "and     xxx True True\n",
      "its     xxx True True\n",
      "\n",
      "     \n",
      " False False\n",
      "business     xxxx True False\n",
      "strategy     xxxx True False\n",
      ".     . False False\n",
      "One     Xxx True True\n",
      "of     xx True True\n",
      "the     xxx True True\n",
      "challenges     xxxx True False\n",
      "CENIBRA     XXXX True False\n",
      "faced     xxxx True False\n",
      "was     xxx True True\n",
      "integration     xxxx True False\n",
      "with     xxxx True True\n",
      "the     xxx True True\n",
      "group     xxxx True False\n",
      "’s     ’x False True\n",
      "\n",
      "     \n",
      " False False\n",
      "logistics     xxxx True False\n",
      "company     xxxx True False\n",
      ",     , False False\n",
      "CENIBRA     XXXX True False\n",
      "Logística     Xxxxx True False\n",
      ".     . False False\n",
      "The     Xxx True True\n",
      "company     xxxx True False\n",
      "also     xxxx True True\n",
      "looked     xxxx True False\n",
      "to     xx True True\n",
      "create     xxxx True False\n",
      "operational     xxxx True False\n",
      "\n",
      "     \n",
      " False False\n",
      "synergies     xxxx True False\n",
      ",     , False False\n",
      "simplify     xxxx True False\n",
      "processes     xxxx True False\n",
      ",     , False False\n",
      "and     xxx True True\n",
      "increase     xxxx True False\n",
      "productivity     xxxx True False\n",
      "in     xx True True\n",
      "areas     xxxx True False\n",
      "including     xxxx True False\n",
      "finance     xxxx True False\n",
      ",     , False False\n",
      "\n",
      "     \n",
      " False False\n",
      "maintenance     xxxx True False\n",
      ",     , False False\n",
      "and     xxx True True\n",
      "operations     xxxx True False\n",
      ".     . False False\n",
      "\n",
      "     \n",
      " False False\n",
      "CENIBRA     XXXX True False\n",
      ":     : False False\n",
      "Taking     Xxxxx True False\n",
      "the     xxx True True\n",
      "Next     Xxxx True True\n",
      "Steps     Xxxxx True False\n",
      "\n",
      "     \n",
      " False False\n",
      "Toward     Xxxxx True True\n",
      "Sustainable     Xxxxx True False\n",
      "Excellence     Xxxxx True False\n",
      "with     xxxx True True\n",
      "\n",
      "     \n",
      " False False\n",
      "Intelligent     Xxxxx True False\n",
      "Technologies     Xxxxx True False\n",
      "\n",
      "     \n",
      " False False\n",
      "Picture     Xxxxx True False\n",
      "Credit     Xxxxx True False\n",
      "|     | False False\n",
      "Celulose     Xxxxx True False\n",
      "Nipo     Xxxx True False\n",
      "-     - False False\n",
      "Brasileira     Xxxxx True False\n",
      "S.A.     X.X. False False\n",
      "(     ( False False\n",
      "CENIBRA     XXXX True False\n",
      ")     ) False False\n",
      ",     , False False\n",
      "Minas     Xxxxx True False\n",
      "Gerais     Xxxxx True False\n",
      ",     , False False\n",
      "Brazil     Xxxxx True False\n",
      ".     . False False\n",
      "Used     Xxxx True True\n",
      "with     xxxx True True\n",
      "permission     xxxx True False\n",
      ".     . False False\n",
      "\n",
      "     \n",
      " False False\n",
      "Before     Xxxxx True True\n",
      ":     : False False\n",
      "Challenges     Xxxxx True False\n",
      "and     xxx True True\n",
      "Opportunities     Xxxxx True False\n",
      "\n",
      "     \n",
      " False False\n",
      "•     • False False\n",
      "Aging     Xxxxx True False\n",
      "ERP     XXX True False\n",
      "system     xxxx True False\n",
      "that     xxxx True True\n",
      "could     xxxx True True\n",
      "n’t     x’x False True\n",
      "meet     xxxx True False\n",
      "the     xxx True True\n",
      "latest     xxxx True False\n",
      "market     xxxx True False\n",
      "requirements     xxxx True False\n",
      "and     xxx True True\n",
      "lacked     xxxx True False\n",
      "digital     xxxx True False\n",
      "functions     xxxx True False\n",
      "\n",
      "     \n",
      " False False\n",
      "•     • False False\n",
      "Opportunity     Xxxxx True False\n",
      "to     xx True True\n",
      "decrease     xxxx True False\n",
      "operational     xxxx True False\n",
      "efforts     xxxx True False\n",
      "for     xxx True True\n",
      "new     xxx True False\n",
      "IT     XX True True\n",
      "developments     xxxx True False\n",
      "and     xxx True True\n",
      "enable     xxxx True False\n",
      "daily     xxxx True False\n",
      "reports     xxxx True False\n",
      "\n",
      "     \n",
      " False False\n",
      "•     • False False\n",
      "Need     Xxxx True False\n",
      "for     xxx True True\n",
      "easier     xxxx True False\n",
      "ways     xxxx True False\n",
      "to     xx True True\n",
      "integrate     xxxx True False\n",
      "processes     xxxx True False\n",
      "and     xxx True True\n",
      "people     xxxx True False\n",
      ",     , False False\n",
      "such     xxxx True True\n",
      "as     xx True True\n",
      "a     x True True\n",
      "stronger     xxxx True False\n",
      "use     xxx True False\n",
      "of     xx True True\n",
      "mobile     xxxx True False\n",
      "technology     xxxx True False\n",
      "\n",
      "     \n",
      " False False\n",
      "•     • False False\n",
      "Desire     Xxxxx True False\n",
      "to     xx True True\n",
      "move     xxxx True True\n",
      "logistics     xxxx True False\n",
      "company     xxxx True False\n",
      "CENIBRA     XXXX True False\n",
      "Logística     Xxxxx True False\n",
      "from     xxxx True True\n",
      "its     xxx True True\n",
      "legacy     xxxx True False\n",
      "ERP     XXX True False\n",
      "system     xxxx True False\n",
      "to     xx True True\n",
      "SAP     XXX True False\n",
      "S/4HANA     X/dXXXX False False\n",
      "®     ® False False\n",
      "\n",
      "     \n",
      " False False\n",
      "Why     Xxx True True\n",
      "SAP     XXX True False\n",
      "\n",
      "     \n",
      " False False\n",
      "•     • False False\n",
      "SAP     XXX True False\n",
      "S/4HANA     X/dXXXX False False\n",
      ",     , False False\n",
      "which     xxxx True True\n",
      "includes     xxxx True False\n",
      "the     xxx True True\n",
      "latest     xxxx True False\n",
      "digital     xxxx True False\n",
      "capabilities     xxxx True False\n",
      "that     xxxx True True\n",
      "bring     xxxx True False\n",
      "flexibility     xxxx True False\n",
      "and     xxx True True\n",
      "productivity     xxxx True False\n",
      "to     xx True True\n",
      "\n",
      "     \n",
      " False False\n",
      "CENIBRA     XXXX True False\n",
      "’s     ’x False True\n",
      "IT     XX True True\n",
      "department     xxxx True False\n",
      "\n",
      "     \n",
      " False False\n",
      "•     • False False\n",
      "SAP     XXX True False\n",
      "®     ® False False\n",
      "Value     Xxxxx True False\n",
      "Assurance     Xxxxx True False\n",
      "program     xxxx True False\n",
      "for     xxx True True\n",
      "a     x True True\n",
      "faster     xxxx True False\n",
      "implementation     xxxx True False\n",
      ",     , False False\n",
      "quality     xxxx True False\n",
      "assurance     xxxx True False\n",
      ",     , False False\n",
      "best     xxxx True False\n",
      "practice     xxxx True False\n",
      "selection     xxxx True False\n",
      ",     , False False\n",
      "\n",
      "     \n",
      " False False\n",
      "and     xxx True True\n",
      "knowledge     xxxx True False\n",
      "transfer     xxxx True False\n",
      "\n",
      "     \n",
      " False False\n",
      "•     • False False\n",
      "Ability     Xxxxx True False\n",
      "to     xx True True\n",
      "reduce     xxxx True False\n",
      "manual     xxxx True False\n",
      "efforts     xxxx True False\n",
      "with     xxxx True True\n",
      "SAP     XXX True False\n",
      "S/4HANA     X/dXXXX False False\n",
      "and     xxx True True\n",
      "SAP     XXX True False\n",
      "Fiori     Xxxxx True False\n",
      "®     ® False False\n",
      "apps     xxxx True False\n",
      "\n",
      "     \n",
      " False False\n",
      "After     Xxxxx True True\n",
      ":     : False False\n",
      "Value     Xxxxx True False\n",
      "-     - False False\n",
      "Driven     Xxxxx True False\n",
      "Results     Xxxxx True False\n",
      "\n",
      "     \n",
      " False False\n",
      "•     • False False\n",
      "Single     Xxxxx True False\n",
      "source     xxxx True False\n",
      "of     xx True True\n",
      "truth     xxxx True False\n",
      "for     xxx True True\n",
      "customers     xxxx True False\n",
      "and     xxx True True\n",
      "suppliers     xxxx True False\n",
      "\n",
      "     \n",
      " False False\n",
      "•     • False False\n",
      "Flexible     Xxxxx True False\n",
      "and     xxx True True\n",
      "faster     xxxx True False\n",
      "cash     xxxx True False\n",
      "-     - False False\n",
      "flow     xxxx True False\n",
      "evaluation     xxxx True False\n",
      "\n",
      "     \n",
      " False False\n",
      "•     • False False\n",
      "Improved     Xxxxx True False\n",
      "operations     xxxx True False\n",
      "thanks     xxxx True False\n",
      "to     xx True True\n",
      "best     xxxx True False\n",
      "practices     xxxx True False\n",
      "from     xxxx True True\n",
      "the     xxx True True\n",
      "SAP     XXX True False\n",
      "Extended     Xxxxx True False\n",
      "Warehouse     Xxxxx True False\n",
      "Management     Xxxxx True False\n",
      "and     xxx True True\n",
      "\n",
      "     \n",
      " False False\n",
      "SAP     XXX True False\n",
      "Transportation     Xxxxx True False\n",
      "Management     Xxxxx True False\n",
      "applications     xxxx True False\n",
      "\n",
      "     \n",
      " False False\n",
      "•     • False False\n",
      "Simplification     Xxxxx True False\n",
      "of     xx True True\n",
      "financial     xxxx True False\n",
      "processes     xxxx True False\n",
      "to     xx True True\n",
      "accelerate     xxxx True False\n",
      "monthly     xxxx True False\n",
      "closing     xxxx True False\n",
      "and     xxx True True\n",
      "greater     xxxx True False\n",
      "financial     xxxx True False\n",
      "insight     xxxx True False\n",
      ",     , False False\n",
      "\n",
      "     \n",
      " False False\n",
      "enabling     xxxx True False\n",
      "73     dd False False\n",
      "%     % False False\n",
      "faster     xxxx True False\n",
      "payroll     xxxx True False\n",
      "report     xxxx True False\n",
      "generation     xxxx True False\n",
      "that     xxxx True True\n",
      "considers     xxxx True False\n",
      "complex     xxxx True False\n",
      "legislation     xxxx True False\n",
      "and     xxx True True\n",
      "4,500     d,ddd False False\n",
      "employees     xxxx True False\n",
      "\n",
      "     \n",
      " False False\n",
      "•     • False False\n",
      "Improvement     Xxxxx True False\n",
      "in     xx True True\n",
      "asset     xxxx True False\n",
      "management     xxxx True False\n",
      ",     , False False\n",
      "providing     xxxx True False\n",
      "more     xxxx True True\n",
      "integrated     xxxx True False\n",
      "management     xxxx True False\n",
      "of     xx True True\n",
      "depreciation     xxxx True False\n",
      "and     xxx True True\n",
      "usage     xxxx True False\n",
      "\n",
      "     \n",
      " False False\n",
      "•     • False False\n",
      "More     Xxxx True True\n",
      "-     - False False\n",
      "efficient     xxxx True False\n",
      "IT     XX True True\n",
      "process     xxxx True False\n",
      "management     xxxx True False\n",
      "using     xxxx True True\n",
      "SAP     XXX True False\n",
      "Solution     Xxxxx True False\n",
      "Manager     Xxxxx True False\n",
      "and     xxx True True\n",
      "focused     xxxx True False\n",
      "developments     xxxx True False\n",
      "\n",
      "     \n",
      " False False\n",
      "Executing     Xxxxx True False\n",
      "a     x True True\n",
      "Digital     Xxxxx True False\n",
      "Transformation     Xxxxx True False\n",
      "Strategy     Xxxxx True False\n",
      "with     xxxx True True\n",
      "SAP     XXX True False\n",
      "S/4HANA     X/dXXXX False False\n",
      "®     ® False False\n",
      "\n",
      "     \n",
      " False False\n",
      "“     “ False False\n",
      "The     Xxx True True\n",
      "path     xxxx True False\n",
      "to     xx True True\n",
      "digital     xxxx True False\n",
      "transformation     xxxx True False\n",
      "begins     xxxx True False\n",
      "with     xxxx True True\n",
      "agile     xxxx True False\n",
      "\n",
      "     \n",
      " False False\n",
      "and     xxx True True\n",
      "efficient     xxxx True False\n",
      "business     xxxx True False\n",
      "management     xxxx True False\n",
      ".     . False False\n",
      "This     Xxxx True True\n",
      "was     xxx True True\n",
      "one     xxx True True\n",
      "\n",
      "     \n",
      " False False\n",
      "of     xx True True\n",
      "the     xxx True True\n",
      "main     xxxx True False\n",
      "drivers     xxxx True False\n",
      "to     xx True True\n",
      "migrate     xxxx True False\n",
      "our     xxx True True\n",
      "SAP     XXX True False\n",
      "system     xxxx True False\n",
      "to     xx True True\n",
      "the     xxx True True\n",
      "\n",
      "     \n",
      " False False\n",
      "latest     xxxx True False\n",
      "SAP     XXX True False\n",
      "S/4HANA     X/dXXXX False False\n",
      "software     xxxx True False\n",
      ",     , False False\n",
      "a     x True True\n",
      "totally     xxxx True False\n",
      "remodeled     xxxx True False\n",
      "\n",
      "     \n",
      " False False\n",
      "version     xxxx True False\n",
      "that     xxxx True True\n",
      "’s     ’x False True\n",
      "faster     xxxx True False\n",
      "and     xxx True True\n",
      "simpler     xxxx True False\n",
      "and     xxx True True\n",
      "provides     xxxx True False\n",
      "\n",
      "     \n",
      " False False\n",
      "several     xxxx True True\n",
      "possibilities     xxxx True False\n",
      "to     xx True True\n",
      "improve     xxxx True False\n",
      "our     xxx True True\n",
      "processes     xxxx True False\n",
      ".     . False False\n",
      "”     ” False False\n",
      "\n",
      "     \n",
      " False False\n",
      "Anamaria     Xxxxx True False\n",
      "Ferreira     Xxxxx True False\n",
      "de     xx True False\n",
      "Oliveira     Xxxxx True False\n",
      ",     , False False\n",
      "Information     Xxxxx True False\n",
      "Systems     Xxxxx True False\n",
      "Coordinator     Xxxxx True False\n",
      ",     , False False\n",
      "\n",
      "     \n",
      " False False\n",
      "Celulose     Xxxxx True False\n",
      "Nipo     Xxxx True False\n",
      "-     - False False\n",
      "Brasileira     Xxxxx True False\n",
      "S.A.     X.X. False False\n",
      "(     ( False False\n",
      "CENIBRA     XXXX True False\n",
      ")     ) False False\n",
      "\n",
      "     \n",
      " False False\n",
      "95     dd False False\n",
      "%     % False False\n",
      "\n",
      "     \n",
      " False False\n",
      "Productivity     Xxxxx True False\n",
      "gain     xxxx True False\n",
      "for     xxx True True\n",
      "\n",
      "     \n",
      " False False\n",
      "closing     xxxx True False\n",
      "reporting     xxxx True False\n",
      "\n",
      "     \n",
      " False False\n",
      "procedures     xxxx True False\n",
      "\n",
      "     \n",
      " False False\n",
      "11     dd False False\n",
      "hours     xxxx True False\n",
      "\n",
      "     \n",
      " False False\n",
      "Saved     Xxxxx True False\n",
      "in     xx True True\n",
      "the     xxx True True\n",
      "generation     xxxx True False\n",
      "of     xx True True\n",
      "\n",
      "     \n",
      " False False\n",
      "payroll     xxxx True False\n",
      "reports     xxxx True False\n",
      "\n",
      "     \n",
      " False False\n",
      "Celulose     Xxxxx True False\n",
      "Nipo     Xxxx True False\n",
      "-     - False False\n",
      "Brasileira     Xxxxx True False\n",
      "\n",
      "     \n",
      " False False\n",
      "S.A.     X.X. False False\n",
      "(     ( False False\n",
      "CENIBRA     XXXX True False\n",
      ")     ) False False\n",
      "\n",
      "     \n",
      " False False\n",
      "Minas     Xxxxx True False\n",
      "Gerais     Xxxxx True False\n",
      ",     , False False\n",
      "Brazil     Xxxxx True False\n",
      "\n",
      "     \n",
      " False False\n",
      "www.cenibra.com.br     xxx.xxxx.xxx.xx False False\n",
      "\n",
      "     \n",
      " False False\n",
      "Industry     Xxxxx True False\n",
      "\n",
      "     \n",
      " False False\n",
      "Mill     Xxxx True False\n",
      "products     xxxx True False\n",
      "\n",
      "     \n",
      " False False\n",
      "Employees     Xxxxx True False\n",
      "\n",
      "     \n",
      " False False\n",
      "4,500     d,ddd False False\n",
      "\n",
      "     \n",
      " False False\n",
      "Revenue     Xxxxx True False\n",
      "\n",
      "     \n",
      " False False\n",
      "US$     XX$ False False\n",
      "560     ddd False False\n",
      "million     xxxx True False\n",
      "\n",
      "     \n",
      " False False\n",
      "Products     Xxxxx True False\n",
      "and     xxx True True\n",
      "Services     Xxxxx True False\n",
      "\n",
      "     \n",
      " False False\n",
      "Pulp     Xxxx True False\n",
      "and     xxx True True\n",
      "paper     xxxx True False\n",
      "production     xxxx True False\n",
      "\n",
      "     \n",
      " False False\n",
      "Featured     Xxxxx True False\n",
      "Solutions     Xxxxx True False\n",
      "and     xxx True True\n",
      "Services     Xxxxx True False\n",
      "\n",
      "     \n",
      " False False\n",
      "SAP     XXX True False\n",
      "S/4HANA     X/dXXXX False False\n",
      "and     xxx True True\n",
      "SAP     XXX True False\n",
      "Services     Xxxxx True False\n",
      "\n",
      "     \n",
      " False False\n",
      "and     xxx True True\n",
      "Support     Xxxxx True False\n",
      "\n",
      "     \n",
      " False False\n",
      "PUBLIC     XXXX True False\n",
      "|     | False False\n",
      "78152enUS     ddddxxXX False False\n",
      "(     ( False False\n",
      "21/11     dd/dd False False\n",
      ")     ) False False\n",
      "©     © False False\n",
      "2021     dddd False False\n",
      "SAP     XXX True False\n",
      "SE     XX True False\n",
      "or     xx True True\n",
      "an     xx True True\n",
      "SAP     XXX True False\n",
      "affiliate     xxxx True False\n",
      "company     xxxx True False\n",
      ".     . False False\n",
      "\n",
      "     \n",
      " False False\n",
      "sap.com/terms-of-use     xxx.xxx/xxxx-xx-xxx False False\n",
      "\n",
      "     \n",
      " False False\n",
      "One     Xxx True True\n",
      "of     xx True True\n",
      "the     xxx True True\n",
      "key     xxx True False\n",
      "challenges     xxxx True False\n",
      "for     xxx True True\n",
      "Celulose     Xxxxx True False\n",
      "Nipo     Xxxx True False\n",
      "-     - False False\n",
      "Brasileira     Xxxxx True False\n",
      "S.A.     X.X. False False\n",
      "(     ( False False\n",
      "CENIBRA     XXXX True False\n",
      ")     ) False False\n",
      "was     xxx True True\n",
      "increasing     xxxx True False\n",
      "\n",
      "     \n",
      " False False\n",
      "productivity     xxxx True False\n",
      "at     xx True True\n",
      "a     x True True\n",
      "company     xxxx True False\n",
      "that     xxxx True True\n",
      "is     xx True True\n",
      "already     xxxx True True\n",
      "recognized     xxxx True False\n",
      "globally     xxxx True False\n",
      "for     xxx True True\n",
      "its     xxx True True\n",
      "high     xxxx True False\n",
      "standard     xxxx True False\n",
      "of     xx True True\n",
      "\n",
      "     \n",
      " False False\n",
      "operations     xxxx True False\n",
      ".     . False False\n",
      "The     Xxx True True\n",
      "company     xxxx True False\n",
      "is     xx True True\n",
      "a     x True True\n",
      "merge     xxxx True False\n",
      "of     xx True True\n",
      "two     xxx True True\n",
      "cultures     xxxx True False\n",
      ",     , False False\n",
      "Brazilian     Xxxxx True False\n",
      "and     xxx True True\n",
      "Japanese     Xxxxx True False\n",
      ",     , False False\n",
      "that     xxxx True True\n",
      "\n",
      "     \n",
      " False False\n",
      "resulted     xxxx True False\n",
      "in     xx True True\n",
      "a     x True True\n",
      "unique     xxxx True False\n",
      "vision     xxxx True False\n",
      "of     xx True True\n",
      "a     x True True\n",
      "consistent     xxxx True False\n",
      "business     xxxx True False\n",
      "and     xxx True True\n",
      "pragmatic     xxxx True False\n",
      "quality     xxxx True False\n",
      "improvements     xxxx True False\n",
      ".     . False False\n",
      "\n",
      "     \n",
      " False False\n",
      "SAP     XXX True False\n",
      "S/4HANA     X/dXXXX False False\n",
      "®     ® False False\n",
      "was     xxx True True\n",
      "a     x True True\n",
      "natural     xxxx True False\n",
      "choice     xxxx True False\n",
      "for     xxx True True\n",
      "its     xxx True True\n",
      "transformation     xxxx True False\n",
      ",     , False False\n",
      "replacing     xxxx True False\n",
      "the     xxx True True\n",
      "old     xxx True False\n",
      "ERP     XXX True False\n",
      "system     xxxx True False\n",
      "\n",
      "     \n",
      " False False\n",
      "implemented     xxxx True False\n",
      "more     xxxx True True\n",
      "than     xxxx True True\n",
      "17     dd False False\n",
      "years     xxxx True False\n",
      "ago     xxx True False\n",
      "and     xxx True True\n",
      "integrating     xxxx True False\n",
      "it     xx True True\n",
      "with     xxxx True True\n",
      "its     xxx True True\n",
      "logistics     xxxx True False\n",
      "subsidiary     xxxx True False\n",
      ",     , False False\n",
      "\n",
      "     \n",
      " False False\n",
      "CENIBRA     XXXX True False\n",
      "Logística     Xxxxx True False\n",
      ".     . False False\n",
      "CENIBRA     XXXX True False\n",
      "’s     ’x False True\n",
      "aim     xxx True False\n",
      "was     xxx True True\n",
      "to     xx True True\n",
      "create     xxxx True False\n",
      "both     xxxx True True\n",
      "process     xxxx True False\n",
      "synergies     xxxx True False\n",
      "and     xxx True True\n",
      "new     xxx True False\n",
      "\n",
      "     \n",
      " False False\n",
      "process     xxxx True False\n",
      "designs     xxxx True False\n",
      "to     xx True True\n",
      "increase     xxxx True False\n",
      "productivity     xxxx True False\n",
      ".     . False False\n",
      "\n",
      "     \n",
      " False False\n",
      "The     Xxx True True\n",
      "13     dd False False\n",
      "-     - False False\n",
      "month     xxxx True False\n",
      "project     xxxx True False\n",
      "covered     xxxx True False\n",
      "all     xxx True True\n",
      "main     xxxx True False\n",
      "processes     xxxx True False\n",
      ",     , False False\n",
      "including     xxxx True False\n",
      "sales     xxxx True False\n",
      ",     , False False\n",
      "finance     xxxx True False\n",
      ",     , False False\n",
      "production     xxxx True False\n",
      ",     , False False\n",
      "\n",
      "     \n",
      " False False\n",
      "HR     XX True False\n",
      ",     , False False\n",
      "purchasing     xxxx True False\n",
      ",     , False False\n",
      "warehouse     xxxx True False\n",
      ",     , False False\n",
      "transportation     xxxx True False\n",
      ",     , False False\n",
      "project     xxxx True False\n",
      "document     xxxx True False\n",
      "management     xxxx True False\n",
      ",     , False False\n",
      "and     xxx True True\n",
      "treasury     xxxx True False\n",
      "\n",
      "     \n",
      " False False\n",
      "and     xxx True True\n",
      "risk     xxxx True False\n",
      "management     xxxx True False\n",
      ".     . False False\n",
      "Even     Xxxx True True\n",
      "with     xxxx True True\n",
      "challenges     xxxx True False\n",
      "due     xxx True True\n",
      "to     xx True True\n",
      "the     xxx True True\n",
      "COVID-19     XXXX-dd False False\n",
      "pandemic     xxxx True False\n",
      ",     , False False\n",
      "the     xxx True True\n",
      "team     xxxx True False\n",
      "\n",
      "     \n",
      " False False\n",
      "was     xxx True True\n",
      "able     xxxx True False\n",
      "to     xx True True\n",
      "work     xxxx True False\n",
      "virtually     xxxx True False\n",
      "and     xxx True True\n",
      "deliver     xxxx True False\n",
      "the     xxx True True\n",
      "results     xxxx True False\n",
      "as     xx True True\n",
      "planned     xxxx True False\n",
      ".     . False False\n",
      "\n",
      "     \n",
      " False False\n",
      "CENIBRA     XXXX True False\n",
      "simplified     xxxx True False\n",
      "its     xxx True True\n",
      "processes     xxxx True False\n",
      "and     xxx True True\n",
      "increased     xxxx True False\n",
      "customer     xxxx True False\n",
      "service     xxxx True False\n",
      "levels     xxxx True False\n",
      "by     xx True True\n",
      "adopting     xxxx True False\n",
      "320     ddd False False\n",
      "\n",
      "     \n",
      " False False\n",
      "SAP     XXX True False\n",
      "Fiori     Xxxxx True False\n",
      "®     ® False False\n",
      "apps     xxxx True False\n",
      "and     xxx True True\n",
      "mobile     xxxx True False\n",
      "technology     xxxx True False\n",
      ".     . False False\n",
      "Processes     Xxxxx True False\n",
      "such     xxxx True True\n",
      "as     xx True True\n",
      "maintenance     xxxx True False\n",
      ",     , False False\n",
      "finance     xxxx True False\n",
      ",     , False False\n",
      "and     xxx True True\n",
      "\n",
      "     \n",
      " False False\n",
      "logistics     xxxx True False\n",
      "have     xxxx True True\n",
      "benefited     xxxx True False\n",
      "from     xxxx True True\n",
      "the     xxx True True\n",
      "new     xxx True False\n",
      "technology     xxxx True False\n",
      ",     , False False\n",
      "with     xxxx True True\n",
      "the     xxx True True\n",
      "focus     xxxx True False\n",
      "changed     xxxx True False\n",
      "from     xxxx True True\n",
      "manual     xxxx True False\n",
      "\n",
      "     \n",
      " False False\n",
      "work     xxxx True False\n",
      "to     xx True True\n",
      "a     x True True\n",
      "better     xxxx True False\n",
      "evaluation     xxxx True False\n",
      "of     xx True True\n",
      "business     xxxx True False\n",
      "scenarios     xxxx True False\n",
      "and     xxx True True\n",
      "streamlined     xxxx True False\n",
      "decision     xxxx True False\n",
      "-     - False False\n",
      "making     xxxx True False\n",
      ".     . False False\n",
      "\n",
      "     \n",
      " False False\n",
      "Enabling     Xxxxx True False\n",
      "Next     Xxxx True True\n",
      "-     - False False\n",
      "Level     Xxxxx True False\n",
      "Productivity     Xxxxx True False\n",
      "by     xx True True\n",
      "Simplifying     Xxxxx True False\n",
      "\n",
      "     \n",
      " False False\n",
      "and     xxx True True\n",
      "Integrating     Xxxxx True False\n",
      "Processes     Xxxxx True False\n",
      "\n",
      "     \n",
      " False False\n",
      "Processes     Xxxxx True False\n",
      "with     xxxx True True\n",
      "\n",
      "     \n",
      " False False\n",
      "SAP     XXX True False\n",
      "Fiori     Xxxxx True False\n",
      "apps     xxxx True False\n",
      "\n",
      "     \n",
      " False False\n",
      "Faster     Xxxxx True False\n",
      "generation     xxxx True False\n",
      "of     xx True True\n",
      "\n",
      "     \n",
      " False False\n",
      "the     xxx True True\n",
      "maintenance     xxxx True False\n",
      "plan     xxxx True False\n",
      ",     , False False\n",
      "\n",
      "     \n",
      " False False\n",
      "benefiting     xxxx True False\n",
      "several     xxxx True True\n",
      "\n",
      "     \n",
      " False False\n",
      "capital     xxxx True False\n",
      "-     - False False\n",
      "intensive     xxxx True False\n",
      "\n",
      "     \n",
      " False False\n",
      "processes     xxxx True False\n",
      "\n",
      "     \n",
      " False False\n",
      "99     dd False False\n",
      "%     % False False\n",
      "\n",
      "     \n",
      " False False\n",
      "“     “ False False\n",
      "Simplification     Xxxxx True False\n",
      ",     , False False\n",
      "increased     xxxx True False\n",
      "performance     xxxx True False\n",
      "of     xx True True\n",
      "\n",
      "     \n",
      " False False\n",
      "business     xxxx True False\n",
      "processes     xxxx True False\n",
      ",     , False False\n",
      "and     xxx True True\n",
      "preparation     xxxx True False\n",
      "for     xxx True True\n",
      "the     xxx True True\n",
      "\n",
      "     \n",
      " False False\n",
      "next     xxxx True True\n",
      "steps     xxxx True False\n",
      "of     xx True True\n",
      "the     xxx True True\n",
      "transformation     xxxx True False\n",
      "were     xxxx True True\n",
      "the     xxx True True\n",
      "main     xxxx True False\n",
      "\n",
      "     \n",
      " False False\n",
      "needs     xxxx True False\n",
      "of     xx True True\n",
      "the     xxx True True\n",
      "business     xxxx True False\n",
      ",     , False False\n",
      "but     xxx True True\n",
      "we     xx True True\n",
      "also     xxxx True True\n",
      "sought     xxxx True False\n",
      "to     xx True True\n",
      "\n",
      "     \n",
      " False False\n",
      "improve     xxxx True False\n",
      "the     xxx True True\n",
      "user     xxxx True False\n",
      "experience     xxxx True False\n",
      ".     . False False\n",
      "We     Xx True True\n",
      "brought     xxxx True False\n",
      "mobility     xxxx True False\n",
      "\n",
      "     \n",
      " False False\n",
      "features     xxxx True False\n",
      "into     xxxx True True\n",
      "the     xxx True True\n",
      "scope     xxxx True False\n",
      "and     xxx True True\n",
      "digitalized     xxxx True False\n",
      "processes     xxxx True False\n",
      "\n",
      "     \n",
      " False False\n",
      "that     xxxx True True\n",
      "were     xxxx True True\n",
      "still     xxxx True True\n",
      "manual     xxxx True False\n",
      "–     – False False\n",
      "it     xx True True\n",
      "was     xxx True True\n",
      "a     x True True\n",
      "big     xxx True False\n",
      "transformation     xxxx True False\n",
      ".     . False False\n",
      "”     ” False False\n",
      "\n",
      "     \n",
      " False False\n",
      "Ronaldo     Xxxxx True False\n",
      "Neves     Xxxxx True False\n",
      "Ribeiro     Xxxxx True False\n",
      ",     , False False\n",
      "CIO     XXX True False\n",
      ",     , False False\n",
      "Celulose     Xxxxx True False\n",
      "Nipo     Xxxx True False\n",
      "-     - False False\n",
      "Brasileira     Xxxxx True False\n",
      "\n",
      "     \n",
      " False False\n",
      "S.A.     X.X. False False\n",
      "(     ( False False\n",
      "CENIBRA     XXXX True False\n",
      ")     ) False False\n",
      "\n",
      "     \n",
      " False False\n",
      "Improved     Xxxxx True False\n",
      "\n",
      "     \n",
      " False False\n"
     ]
    }
   ],
   "source": [
    "# Process the extracted text\n",
    "doc = nlp(text)\n",
    "\n",
    "# Iterate over tokens and print details\n",
    "for token in doc:\n",
    "    print(token.text, token.lemma_, token.pos_, token.tag_, token.dep_,\n",
    "          token.shape_, token.is_alpha, token.is_stop)"
   ]
  },
  {
   "cell_type": "code",
   "execution_count": 24,
   "id": "bbe74b5e-5c40-4a04-928b-872df5f375b3",
   "metadata": {
    "tags": []
   },
   "outputs": [
    {
     "data": {
      "text/plain": [
       "24"
      ]
     },
     "execution_count": 24,
     "metadata": {},
     "output_type": "execute_result"
    }
   ],
   "source": [
    "len(all_sentences)"
   ]
  },
  {
   "cell_type": "markdown",
   "id": "3ab2c7c2-e634-474b-bf13-bf4b82ef65ec",
   "metadata": {},
   "source": [
    "### Creating our own Semantic Search Model"
   ]
  },
  {
   "cell_type": "code",
   "execution_count": 25,
   "id": "6be2044a-e377-4f71-bbc4-8dc91bc8399d",
   "metadata": {
    "tags": []
   },
   "outputs": [
    {
     "data": {
      "application/vnd.jupyter.widget-view+json": {
       "model_id": "a1c3865fed054d50a776c76129672b9f",
       "version_major": 2,
       "version_minor": 0
      },
      "text/plain": [
       "Batches:   0%|          | 0/1 [00:00<?, ?it/s]"
      ]
     },
     "metadata": {},
     "output_type": "display_data"
    }
   ],
   "source": [
    "# Encode the sentences using SentenceTransformer\n",
    "corpus_embeddings = bi_encoder.encode(\n",
    "    all_sentences, batch_size=32, convert_to_tensor=True, show_progress_bar=True)"
   ]
  },
  {
   "cell_type": "code",
   "execution_count": 26,
   "id": "71cc2254-f2df-4c83-9a6a-09af57f5fb3f",
   "metadata": {
    "tags": []
   },
   "outputs": [],
   "source": [
    "# Save the encoded embeddings\n",
    "torch.save(corpus_embeddings, encoded_model_path)"
   ]
  },
  {
   "cell_type": "code",
   "execution_count": 27,
   "id": "0b359b0a-7077-4153-890d-2c0d3b34e470",
   "metadata": {
    "tags": []
   },
   "outputs": [
    {
     "name": "stderr",
     "output_type": "stream",
     "text": [
      "/var/tmp/ipykernel_301154/3885871461.py:1: FutureWarning: You are using `torch.load` with `weights_only=False` (the current default value), which uses the default pickle module implicitly. It is possible to construct malicious pickle data which will execute arbitrary code during unpickling (See https://github.com/pytorch/pytorch/blob/main/SECURITY.md#untrusted-models for more details). In a future release, the default value for `weights_only` will be flipped to `True`. This limits the functions that could be executed during unpickling. Arbitrary objects will no longer be allowed to be loaded via this mode unless they are explicitly allowlisted by the user via `torch.serialization.add_safe_globals`. We recommend you start setting `weights_only=True` for any use case where you don't have full control of the loaded file. Please open an issue on GitHub for any issues related to this experimental feature.\n",
      "  semantic_search_model = torch.load('semantic_search_model.pt')\n"
     ]
    }
   ],
   "source": [
    "semantic_search_model = torch.load('semantic_search_model.pt')"
   ]
  },
  {
   "cell_type": "code",
   "execution_count": 33,
   "id": "23f8791d-12f0-4fbd-9076-99746c15899f",
   "metadata": {
    "tags": []
   },
   "outputs": [],
   "source": [
    "question_embedding = bi_encoder.encode(\n",
    "    \"What is SAP 4HANA?\", convert_to_tensor=True)\n",
    "hits = util.semantic_search(\n",
    "    question_embedding, semantic_search_model, top_k=3)\n",
    "hits = hits[0]\n",
    "\n",
    "result = {\"search_results\": [\n",
    "    {\"score\": hit['score'], \"text\": all_sentences[hit['corpus_id']]} for hit in hits]}"
   ]
  },
  {
   "cell_type": "code",
   "execution_count": 34,
   "id": "de95bd1c-9e23-4f9c-82a2-cdd32b64cd3a",
   "metadata": {
    "tags": []
   },
   "outputs": [
    {
     "data": {
      "text/plain": [
       "{'search_results': [{'score': 0.6921055912971497,\n",
       "   'text': 'This was one \\nof the main drivers to migrate our SAP system to the \\nlatest SAP S/4HANA software, a totally remodeled \\nversion that’s faster and simpler and provides \\nseveral possibilities to improve our processes.”'},\n",
       "  {'score': 0.6767340302467346, 'text': '\\nsap.com/terms-of-use\\n'},\n",
       "  {'score': 0.6698728203773499,\n",
       "   'text': '\\nSAP S/4HANA® was a natural choice for its transformation, replacing the old ERP system \\nimplemented more than 17 years ago and integrating it with its logistics subsidiary, \\nCENIBRA Logística.'}]}"
      ]
     },
     "execution_count": 34,
     "metadata": {},
     "output_type": "execute_result"
    }
   ],
   "source": [
    "result"
   ]
  },
  {
   "cell_type": "markdown",
   "id": "1d0bb144-db47-414d-9565-e70840397e95",
   "metadata": {},
   "source": [
    "### 2) Document parsing and Preprocessing"
   ]
  },
  {
   "cell_type": "code",
   "execution_count": 3,
   "id": "aa2d2120-4621-4e3e-98e3-c9cc871890bf",
   "metadata": {
    "tags": []
   },
   "outputs": [],
   "source": [
    "# Using LlamaIndex\n",
    "documents = SimpleDirectoryReader(\"./SAP\").load_data()"
   ]
  },
  {
   "cell_type": "code",
   "execution_count": 4,
   "id": "7abe8c60-be2e-4d34-a358-2238a23bc8f9",
   "metadata": {
    "tags": []
   },
   "outputs": [
    {
     "data": {
      "text/plain": [
       "[Document(id_='68564a1b-379c-4d6a-b127-aad93ea0ac12', embedding=None, metadata={'page_label': '1', 'file_name': 'CENIBRA_ Taking the Next Steps Toward Sustainable Excellence with Intelligent Technologies.pdf', 'file_path': '/home/jupyter/Untitled Folder/SAP/CENIBRA_ Taking the Next Steps Toward Sustainable Excellence with Intelligent Technologies.pdf', 'file_type': 'application/pdf', 'file_size': 434369, 'creation_date': '2024-08-15', 'last_modified_date': '2024-08-15'}, excluded_embed_metadata_keys=['file_name', 'file_type', 'file_size', 'creation_date', 'last_modified_date', 'last_accessed_date'], excluded_llm_metadata_keys=['file_name', 'file_type', 'file_size', 'creation_date', 'last_modified_date', 'last_accessed_date'], relationships={}, text='PUBLIC\\nSince 1975, Celulose Nipo -Brasileira S.A. (CENIBRA) has been processing pulp and \\nproducing paper products with a focus on sustainability, biodiversity, and traceability. Pulp \\nproduction requires large investments in capital, and asset utilization is a key component of a profitable producer. In addition, industry volatility has increased due to economic \\nturmoil that is impacting prices and logistical resources. \\nCENIBRA has a long history of achievements, however, it knew that transforming its IT \\nlandscape and processes was necessary to meet new market requirements and its \\nbusiness strategy. One of the challenges CENIBRA faced was integration with the group’s \\nlogistics company, CENIBRA Logística. The company also looked to create operational synergies, simplify processes, and increase productivity in areas including finance, maintenance, and operations.CENIBRA: Taking the Next Steps \\nToward Sustainable Excellence with \\nIntelligent Technologies\\nPicture Credit | Celulose Nipo- Brasileira S.A. (CENIBRA), Minas Gerais, Brazil . Used with permission.', mimetype='text/plain', start_char_idx=None, end_char_idx=None, text_template='{metadata_str}\\n\\n{content}', metadata_template='{key}: {value}', metadata_seperator='\\n'),\n",
       " Document(id_='8800c217-13a4-441e-b062-8ece17afdf8d', embedding=None, metadata={'page_label': '2', 'file_name': 'CENIBRA_ Taking the Next Steps Toward Sustainable Excellence with Intelligent Technologies.pdf', 'file_path': '/home/jupyter/Untitled Folder/SAP/CENIBRA_ Taking the Next Steps Toward Sustainable Excellence with Intelligent Technologies.pdf', 'file_type': 'application/pdf', 'file_size': 434369, 'creation_date': '2024-08-15', 'last_modified_date': '2024-08-15'}, excluded_embed_metadata_keys=['file_name', 'file_type', 'file_size', 'creation_date', 'last_modified_date', 'last_accessed_date'], excluded_llm_metadata_keys=['file_name', 'file_type', 'file_size', 'creation_date', 'last_modified_date', 'last_accessed_date'], relationships={}, text='Before: Challenges and Opportunities\\n•Aging ERP system that couldn’t meet the latest market requirements and lacked digital functions \\n•Opportunity to decrease operational efforts for new IT developments and enable daily reports\\n•Need for easier ways to integrate processes and people, such as a stronger use of mobile technology \\n•Desire to move logistics company CENIBRA Logística from its legacy ERP system to SAP S/4HANA®\\nWhy SAP\\n•SAP S/4HANA, which includes the latest digital capabilities that bring flexibility and productivity to \\nCENIBRA’s IT department\\n•SAP®Value Assurance program for a faster implementation, quality assurance, best practice selection, \\nand knowledge transfer\\n•Ability to reduce manual efforts with SAP S/4HANA and SAP Fiori®apps \\nAfter: Value -Driven Results\\n•Single source of truth for customers and suppliers\\n•Flexible and faster cash- flow evaluation\\n•Improved operations thanks to best practices from the SAP Extended Warehouse Management and SAP Transportation Management applications \\n•Simplification of financial processes to accelerate monthly closing and greater financial insight, enabling 73% faster payroll report generation that considers complex legislation and 4,500 employees\\n•Improvement in asset management, providing more integrated management of depreciation and usage\\n•More -efficient IT process management using SAP Solution Manager and focused developments Executing a Digital Transformation Strategy with SAP S/4HANA®\\n“The path to digital transformation begins with agile \\nand efficient business management . This was one \\nof the main drivers to migrate our SAP system to the latest SAP S/4HANA software, a totally remodeled version that’s faster and simpler and provides several possibilities to improve our processes.”\\nAnamaria Ferreira de Oliveira, Information Systems Coordinator, Celulose Nipo-Brasileira S.A. (CENIBRA)\\n95% \\nProductivity gain for \\nclosing reporting procedures11 hours\\nSaved in the generation of payroll reports\\nCelulose Nipo -Brasileira \\nS.A. (CENIBRA) \\nMinas Gerais, Brazil \\nwww.cenibra.com.brIndustryMill products Employees\\n4,500Revenue\\nUS$560 millionProducts and Services\\nPulp and paper production Featured Solutions and Services SAP S/4HANA and SAP Services and Support\\nPUBLIC | 78152enUS (21/11) © 2021 SAP SE or an SAP affiliate company. \\nsap.com/terms -of-use', mimetype='text/plain', start_char_idx=None, end_char_idx=None, text_template='{metadata_str}\\n\\n{content}', metadata_template='{key}: {value}', metadata_seperator='\\n'),\n",
       " Document(id_='ed6b1242-2a4d-42a9-adc8-cac0996a800a', embedding=None, metadata={'page_label': '3', 'file_name': 'CENIBRA_ Taking the Next Steps Toward Sustainable Excellence with Intelligent Technologies.pdf', 'file_path': '/home/jupyter/Untitled Folder/SAP/CENIBRA_ Taking the Next Steps Toward Sustainable Excellence with Intelligent Technologies.pdf', 'file_type': 'application/pdf', 'file_size': 434369, 'creation_date': '2024-08-15', 'last_modified_date': '2024-08-15'}, excluded_embed_metadata_keys=['file_name', 'file_type', 'file_size', 'creation_date', 'last_modified_date', 'last_accessed_date'], excluded_llm_metadata_keys=['file_name', 'file_type', 'file_size', 'creation_date', 'last_modified_date', 'last_accessed_date'], relationships={}, text='One of the key challenges for Celulose Nipo -Brasileira S.A. (CENIBRA) was increasing \\nproductivity at a company that is already recognized globally for its high standard of \\noperations. The company is a merge of two cultures, Brazilian and Japanese, that resulted in a unique vision of a consistent business and pragmatic quality improvements. SAP S/4HANA\\n®was a natural choice for its transformation, replacing the old ERP system \\nimplemented more than 17 years ago and integrating it with its logistics subsidiary, CENIBRA Logística. CENIBRA’s aim was to create both process synergies and new process designs to increase productivity.\\nThe 13 -month project covered all main processes, including sales, finance, production, \\nHR, purchasing, warehouse, transportation, project document management, and treasury and risk management. Even with challenges due to the COVID -19 pandemic, the team \\nwas able to work virtually and deliver the results as planned.\\nCENIBRA simplified its processes and increased customer service levels by adopting 320 \\nSAP Fiori\\n®apps and mobile technology. Processes such as maintenance, finance, and \\nlogistics have benefited from the new technology, with the focus changed from manual \\nwork to a better evaluation of business scenarios and streamlined decision -making.Enabling Next -Level Productivity by Simplifying \\nand Integrating Processes\\nProcesses with \\nSAP Fiori appsFaster generation of the maintenance plan, benefiting several capital -intensive \\nprocesses99%“Simplification, increased performance of \\nbusiness processes, and preparation for the next steps of the transformation were the main \\nneeds of the business ,but we also sought to \\nimprove the user experience. We brought mobility features into the scope and digitalized processes that were still manual –it was a big transformation.”\\nRonaldo Neves Ribeiro, CIO, Celulose Nipo- Brasileira \\nS.A. (CENIBRA)\\nImproved\\n', mimetype='text/plain', start_char_idx=None, end_char_idx=None, text_template='{metadata_str}\\n\\n{content}', metadata_template='{key}: {value}', metadata_seperator='\\n')]"
      ]
     },
     "execution_count": 4,
     "metadata": {},
     "output_type": "execute_result"
    }
   ],
   "source": [
    "documents"
   ]
  },
  {
   "cell_type": "code",
   "execution_count": 5,
   "id": "bac1cdb8-f2c1-43ac-bb50-37aa91875e62",
   "metadata": {
    "tags": []
   },
   "outputs": [],
   "source": [
    "### Here there are 3 pages so the the length of this document is also 3. \n",
    "### This is divided based on the number of pages. "
   ]
  },
  {
   "cell_type": "markdown",
   "id": "037f6bf3-e289-4448-a81f-8028e6843aaf",
   "metadata": {},
   "source": [
    "#### Similarly we can also use Notion Connectors, Slack Connectors, Discord Connectors, Apify connector Which can crawl the web, scrape webpages, etract text content download files including .pdf, .jpg, .png , .docx unstructures data. "
   ]
  },
  {
   "cell_type": "markdown",
   "id": "b41b9db5-8b64-4eb3-9397-d2482129a25d",
   "metadata": {},
   "source": [
    "### Now let's talk about meaningful extraction of data from the unstructured data. We can either chunk them up by sentences or of fixed length. Since chunking by sentences makes more coherent structures that would be more ideal. "
   ]
  },
  {
   "cell_type": "code",
   "execution_count": 7,
   "id": "9cbd64fb-5a7b-4e1a-997a-34681dc8f6a3",
   "metadata": {
    "tags": []
   },
   "outputs": [],
   "source": [
    "node_parser = SentenceWindowNodeParser.from_defaults(\n",
    "    # how many sentences on either side to capture\n",
    "    window_size=3,\n",
    "    # the metadata key that holds the window of surrounding sentences\n",
    "    window_metadata_key=\"window\",\n",
    "    # the metadata key that holds the original sentence\n",
    "    original_text_metadata_key=\"original_sentence\",\n",
    ")"
   ]
  },
  {
   "cell_type": "markdown",
   "id": "e3869939-f13f-4a76-abb4-ec869e7da785",
   "metadata": {},
   "source": [
    "### Splitting by sentences \n",
    "\n",
    "### We extract out the set of nodes that will be stored in the VectorIndex. This includes both the nodes with the sentence window parser, as well as the \"base\" nodes extracted using the standard parser."
   ]
  },
  {
   "cell_type": "code",
   "execution_count": 8,
   "id": "0ca8545d-d25a-45d9-8d2f-5fc3427c64df",
   "metadata": {
    "tags": []
   },
   "outputs": [],
   "source": [
    "text_splitter = SentenceSplitter()"
   ]
  },
  {
   "cell_type": "code",
   "execution_count": 9,
   "id": "c9bea6ef-00a5-4523-92cd-f47840ba25ac",
   "metadata": {
    "tags": []
   },
   "outputs": [],
   "source": [
    "nodes = node_parser.get_nodes_from_documents(documents)"
   ]
  },
  {
   "cell_type": "code",
   "execution_count": 10,
   "id": "4ccb7826-0347-4a66-8f3f-4e592be12bee",
   "metadata": {
    "tags": []
   },
   "outputs": [
    {
     "data": {
      "text/plain": [
       "[TextNode(id_='b5d13ab3-68f0-49ec-bdd4-f04e2f2b3bd7', embedding=None, metadata={'page_label': '1', 'file_name': 'CENIBRA_ Taking the Next Steps Toward Sustainable Excellence with Intelligent Technologies.pdf', 'file_path': '/home/jupyter/Untitled Folder/SAP/CENIBRA_ Taking the Next Steps Toward Sustainable Excellence with Intelligent Technologies.pdf', 'file_type': 'application/pdf', 'file_size': 434369, 'creation_date': '2024-08-15', 'last_modified_date': '2024-08-15', 'window': 'PUBLIC\\nSince 1975, Celulose Nipo -Brasileira S.A.  (CENIBRA) has been processing pulp and \\nproducing paper products with a focus on sustainability, biodiversity, and traceability.  Pulp \\nproduction requires large investments in capital, and asset utilization is a key component of a profitable producer.  In addition, industry volatility has increased due to economic \\nturmoil that is impacting prices and logistical resources. \\n', 'original_sentence': 'PUBLIC\\nSince 1975, Celulose Nipo -Brasileira S.A. '}, excluded_embed_metadata_keys=['file_name', 'file_type', 'file_size', 'creation_date', 'last_modified_date', 'last_accessed_date', 'window', 'original_sentence'], excluded_llm_metadata_keys=['file_name', 'file_type', 'file_size', 'creation_date', 'last_modified_date', 'last_accessed_date', 'window', 'original_sentence'], relationships={<NodeRelationship.SOURCE: '1'>: RelatedNodeInfo(node_id='68564a1b-379c-4d6a-b127-aad93ea0ac12', node_type=<ObjectType.DOCUMENT: '4'>, metadata={'page_label': '1', 'file_name': 'CENIBRA_ Taking the Next Steps Toward Sustainable Excellence with Intelligent Technologies.pdf', 'file_path': '/home/jupyter/Untitled Folder/SAP/CENIBRA_ Taking the Next Steps Toward Sustainable Excellence with Intelligent Technologies.pdf', 'file_type': 'application/pdf', 'file_size': 434369, 'creation_date': '2024-08-15', 'last_modified_date': '2024-08-15'}, hash='3a0cc6f2ede1df7e1fb4136d1129139e1b1bb84ab9e91bdccaddbcd17f4b8aef'), <NodeRelationship.NEXT: '3'>: RelatedNodeInfo(node_id='3d07c6b9-d368-42fd-ae44-18d6196649c9', node_type=<ObjectType.TEXT: '1'>, metadata={'window': 'PUBLIC\\nSince 1975, Celulose Nipo -Brasileira S.A.  (CENIBRA) has been processing pulp and \\nproducing paper products with a focus on sustainability, biodiversity, and traceability.  Pulp \\nproduction requires large investments in capital, and asset utilization is a key component of a profitable producer.  In addition, industry volatility has increased due to economic \\nturmoil that is impacting prices and logistical resources. \\n CENIBRA has a long history of achievements, however, it knew that transforming its IT \\nlandscape and processes was necessary to meet new market requirements and its \\nbusiness strategy. ', 'original_sentence': '(CENIBRA) has been processing pulp and \\nproducing paper products with a focus on sustainability, biodiversity, and traceability. '}, hash='8ca553b529aace9a2b0fd2a12ff0ff7ed109cbd55a48717678db69805c145ab5')}, text='PUBLIC\\nSince 1975, Celulose Nipo -Brasileira S.A. ', mimetype='text/plain', start_char_idx=0, end_char_idx=50, text_template='{metadata_str}\\n\\n{content}', metadata_template='{key}: {value}', metadata_seperator='\\n'),\n",
       " TextNode(id_='3d07c6b9-d368-42fd-ae44-18d6196649c9', embedding=None, metadata={'page_label': '1', 'file_name': 'CENIBRA_ Taking the Next Steps Toward Sustainable Excellence with Intelligent Technologies.pdf', 'file_path': '/home/jupyter/Untitled Folder/SAP/CENIBRA_ Taking the Next Steps Toward Sustainable Excellence with Intelligent Technologies.pdf', 'file_type': 'application/pdf', 'file_size': 434369, 'creation_date': '2024-08-15', 'last_modified_date': '2024-08-15', 'window': 'PUBLIC\\nSince 1975, Celulose Nipo -Brasileira S.A.  (CENIBRA) has been processing pulp and \\nproducing paper products with a focus on sustainability, biodiversity, and traceability.  Pulp \\nproduction requires large investments in capital, and asset utilization is a key component of a profitable producer.  In addition, industry volatility has increased due to economic \\nturmoil that is impacting prices and logistical resources. \\n CENIBRA has a long history of achievements, however, it knew that transforming its IT \\nlandscape and processes was necessary to meet new market requirements and its \\nbusiness strategy. ', 'original_sentence': '(CENIBRA) has been processing pulp and \\nproducing paper products with a focus on sustainability, biodiversity, and traceability. '}, excluded_embed_metadata_keys=['file_name', 'file_type', 'file_size', 'creation_date', 'last_modified_date', 'last_accessed_date', 'window', 'original_sentence'], excluded_llm_metadata_keys=['file_name', 'file_type', 'file_size', 'creation_date', 'last_modified_date', 'last_accessed_date', 'window', 'original_sentence'], relationships={<NodeRelationship.SOURCE: '1'>: RelatedNodeInfo(node_id='68564a1b-379c-4d6a-b127-aad93ea0ac12', node_type=<ObjectType.DOCUMENT: '4'>, metadata={'page_label': '1', 'file_name': 'CENIBRA_ Taking the Next Steps Toward Sustainable Excellence with Intelligent Technologies.pdf', 'file_path': '/home/jupyter/Untitled Folder/SAP/CENIBRA_ Taking the Next Steps Toward Sustainable Excellence with Intelligent Technologies.pdf', 'file_type': 'application/pdf', 'file_size': 434369, 'creation_date': '2024-08-15', 'last_modified_date': '2024-08-15'}, hash='3a0cc6f2ede1df7e1fb4136d1129139e1b1bb84ab9e91bdccaddbcd17f4b8aef'), <NodeRelationship.PREVIOUS: '2'>: RelatedNodeInfo(node_id='b5d13ab3-68f0-49ec-bdd4-f04e2f2b3bd7', node_type=<ObjectType.TEXT: '1'>, metadata={'page_label': '1', 'file_name': 'CENIBRA_ Taking the Next Steps Toward Sustainable Excellence with Intelligent Technologies.pdf', 'file_path': '/home/jupyter/Untitled Folder/SAP/CENIBRA_ Taking the Next Steps Toward Sustainable Excellence with Intelligent Technologies.pdf', 'file_type': 'application/pdf', 'file_size': 434369, 'creation_date': '2024-08-15', 'last_modified_date': '2024-08-15', 'window': 'PUBLIC\\nSince 1975, Celulose Nipo -Brasileira S.A.  (CENIBRA) has been processing pulp and \\nproducing paper products with a focus on sustainability, biodiversity, and traceability.  Pulp \\nproduction requires large investments in capital, and asset utilization is a key component of a profitable producer.  In addition, industry volatility has increased due to economic \\nturmoil that is impacting prices and logistical resources. \\n', 'original_sentence': 'PUBLIC\\nSince 1975, Celulose Nipo -Brasileira S.A. '}, hash='8d41bdc003f07f30ddd6f3cfa9ca6f661ed2824c5a4ddb9fa3630e51e66e48dd'), <NodeRelationship.NEXT: '3'>: RelatedNodeInfo(node_id='dbe62430-236e-459b-a974-7542e40850c4', node_type=<ObjectType.TEXT: '1'>, metadata={'window': 'PUBLIC\\nSince 1975, Celulose Nipo -Brasileira S.A.  (CENIBRA) has been processing pulp and \\nproducing paper products with a focus on sustainability, biodiversity, and traceability.  Pulp \\nproduction requires large investments in capital, and asset utilization is a key component of a profitable producer.  In addition, industry volatility has increased due to economic \\nturmoil that is impacting prices and logistical resources. \\n CENIBRA has a long history of achievements, however, it knew that transforming its IT \\nlandscape and processes was necessary to meet new market requirements and its \\nbusiness strategy.  One of the challenges CENIBRA faced was integration with the group’s \\nlogistics company, CENIBRA Logística. ', 'original_sentence': 'Pulp \\nproduction requires large investments in capital, and asset utilization is a key component of a profitable producer. '}, hash='6752b7575281f0e10b99f3231d5c7d87309d650798e6af1ef2341c4de42ff4c7')}, text='(CENIBRA) has been processing pulp and \\nproducing paper products with a focus on sustainability, biodiversity, and traceability. ', mimetype='text/plain', start_char_idx=50, end_char_idx=179, text_template='{metadata_str}\\n\\n{content}', metadata_template='{key}: {value}', metadata_seperator='\\n'),\n",
       " TextNode(id_='dbe62430-236e-459b-a974-7542e40850c4', embedding=None, metadata={'page_label': '1', 'file_name': 'CENIBRA_ Taking the Next Steps Toward Sustainable Excellence with Intelligent Technologies.pdf', 'file_path': '/home/jupyter/Untitled Folder/SAP/CENIBRA_ Taking the Next Steps Toward Sustainable Excellence with Intelligent Technologies.pdf', 'file_type': 'application/pdf', 'file_size': 434369, 'creation_date': '2024-08-15', 'last_modified_date': '2024-08-15', 'window': 'PUBLIC\\nSince 1975, Celulose Nipo -Brasileira S.A.  (CENIBRA) has been processing pulp and \\nproducing paper products with a focus on sustainability, biodiversity, and traceability.  Pulp \\nproduction requires large investments in capital, and asset utilization is a key component of a profitable producer.  In addition, industry volatility has increased due to economic \\nturmoil that is impacting prices and logistical resources. \\n CENIBRA has a long history of achievements, however, it knew that transforming its IT \\nlandscape and processes was necessary to meet new market requirements and its \\nbusiness strategy.  One of the challenges CENIBRA faced was integration with the group’s \\nlogistics company, CENIBRA Logística. ', 'original_sentence': 'Pulp \\nproduction requires large investments in capital, and asset utilization is a key component of a profitable producer. '}, excluded_embed_metadata_keys=['file_name', 'file_type', 'file_size', 'creation_date', 'last_modified_date', 'last_accessed_date', 'window', 'original_sentence'], excluded_llm_metadata_keys=['file_name', 'file_type', 'file_size', 'creation_date', 'last_modified_date', 'last_accessed_date', 'window', 'original_sentence'], relationships={<NodeRelationship.SOURCE: '1'>: RelatedNodeInfo(node_id='68564a1b-379c-4d6a-b127-aad93ea0ac12', node_type=<ObjectType.DOCUMENT: '4'>, metadata={'page_label': '1', 'file_name': 'CENIBRA_ Taking the Next Steps Toward Sustainable Excellence with Intelligent Technologies.pdf', 'file_path': '/home/jupyter/Untitled Folder/SAP/CENIBRA_ Taking the Next Steps Toward Sustainable Excellence with Intelligent Technologies.pdf', 'file_type': 'application/pdf', 'file_size': 434369, 'creation_date': '2024-08-15', 'last_modified_date': '2024-08-15'}, hash='3a0cc6f2ede1df7e1fb4136d1129139e1b1bb84ab9e91bdccaddbcd17f4b8aef'), <NodeRelationship.PREVIOUS: '2'>: RelatedNodeInfo(node_id='3d07c6b9-d368-42fd-ae44-18d6196649c9', node_type=<ObjectType.TEXT: '1'>, metadata={'page_label': '1', 'file_name': 'CENIBRA_ Taking the Next Steps Toward Sustainable Excellence with Intelligent Technologies.pdf', 'file_path': '/home/jupyter/Untitled Folder/SAP/CENIBRA_ Taking the Next Steps Toward Sustainable Excellence with Intelligent Technologies.pdf', 'file_type': 'application/pdf', 'file_size': 434369, 'creation_date': '2024-08-15', 'last_modified_date': '2024-08-15', 'window': 'PUBLIC\\nSince 1975, Celulose Nipo -Brasileira S.A.  (CENIBRA) has been processing pulp and \\nproducing paper products with a focus on sustainability, biodiversity, and traceability.  Pulp \\nproduction requires large investments in capital, and asset utilization is a key component of a profitable producer.  In addition, industry volatility has increased due to economic \\nturmoil that is impacting prices and logistical resources. \\n CENIBRA has a long history of achievements, however, it knew that transforming its IT \\nlandscape and processes was necessary to meet new market requirements and its \\nbusiness strategy. ', 'original_sentence': '(CENIBRA) has been processing pulp and \\nproducing paper products with a focus on sustainability, biodiversity, and traceability. '}, hash='ab9a6aed891682f89acb99694e4800da83bba985bee9d73a7345f1581c46d818'), <NodeRelationship.NEXT: '3'>: RelatedNodeInfo(node_id='8da6e5ad-7cbf-4567-aad9-75c7330d96f4', node_type=<ObjectType.TEXT: '1'>, metadata={'window': 'PUBLIC\\nSince 1975, Celulose Nipo -Brasileira S.A.  (CENIBRA) has been processing pulp and \\nproducing paper products with a focus on sustainability, biodiversity, and traceability.  Pulp \\nproduction requires large investments in capital, and asset utilization is a key component of a profitable producer.  In addition, industry volatility has increased due to economic \\nturmoil that is impacting prices and logistical resources. \\n CENIBRA has a long history of achievements, however, it knew that transforming its IT \\nlandscape and processes was necessary to meet new market requirements and its \\nbusiness strategy.  One of the challenges CENIBRA faced was integration with the group’s \\nlogistics company, CENIBRA Logística.  The company also looked to create operational synergies, simplify processes, and increase productivity in areas including finance, maintenance, and operations.CENIBRA: Taking the Next Steps \\nToward Sustainable Excellence with \\nIntelligent Technologies\\nPicture Credit | Celulose Nipo- Brasileira S.A. ', 'original_sentence': 'In addition, industry volatility has increased due to economic \\nturmoil that is impacting prices and logistical resources. \\n'}, hash='97866372185db123d2e1136e36801c5591011d109087963fe7a13e425aac8da1')}, text='Pulp \\nproduction requires large investments in capital, and asset utilization is a key component of a profitable producer. ', mimetype='text/plain', start_char_idx=179, end_char_idx=302, text_template='{metadata_str}\\n\\n{content}', metadata_template='{key}: {value}', metadata_seperator='\\n'),\n",
       " TextNode(id_='8da6e5ad-7cbf-4567-aad9-75c7330d96f4', embedding=None, metadata={'page_label': '1', 'file_name': 'CENIBRA_ Taking the Next Steps Toward Sustainable Excellence with Intelligent Technologies.pdf', 'file_path': '/home/jupyter/Untitled Folder/SAP/CENIBRA_ Taking the Next Steps Toward Sustainable Excellence with Intelligent Technologies.pdf', 'file_type': 'application/pdf', 'file_size': 434369, 'creation_date': '2024-08-15', 'last_modified_date': '2024-08-15', 'window': 'PUBLIC\\nSince 1975, Celulose Nipo -Brasileira S.A.  (CENIBRA) has been processing pulp and \\nproducing paper products with a focus on sustainability, biodiversity, and traceability.  Pulp \\nproduction requires large investments in capital, and asset utilization is a key component of a profitable producer.  In addition, industry volatility has increased due to economic \\nturmoil that is impacting prices and logistical resources. \\n CENIBRA has a long history of achievements, however, it knew that transforming its IT \\nlandscape and processes was necessary to meet new market requirements and its \\nbusiness strategy.  One of the challenges CENIBRA faced was integration with the group’s \\nlogistics company, CENIBRA Logística.  The company also looked to create operational synergies, simplify processes, and increase productivity in areas including finance, maintenance, and operations.CENIBRA: Taking the Next Steps \\nToward Sustainable Excellence with \\nIntelligent Technologies\\nPicture Credit | Celulose Nipo- Brasileira S.A. ', 'original_sentence': 'In addition, industry volatility has increased due to economic \\nturmoil that is impacting prices and logistical resources. \\n'}, excluded_embed_metadata_keys=['file_name', 'file_type', 'file_size', 'creation_date', 'last_modified_date', 'last_accessed_date', 'window', 'original_sentence'], excluded_llm_metadata_keys=['file_name', 'file_type', 'file_size', 'creation_date', 'last_modified_date', 'last_accessed_date', 'window', 'original_sentence'], relationships={<NodeRelationship.SOURCE: '1'>: RelatedNodeInfo(node_id='68564a1b-379c-4d6a-b127-aad93ea0ac12', node_type=<ObjectType.DOCUMENT: '4'>, metadata={'page_label': '1', 'file_name': 'CENIBRA_ Taking the Next Steps Toward Sustainable Excellence with Intelligent Technologies.pdf', 'file_path': '/home/jupyter/Untitled Folder/SAP/CENIBRA_ Taking the Next Steps Toward Sustainable Excellence with Intelligent Technologies.pdf', 'file_type': 'application/pdf', 'file_size': 434369, 'creation_date': '2024-08-15', 'last_modified_date': '2024-08-15'}, hash='3a0cc6f2ede1df7e1fb4136d1129139e1b1bb84ab9e91bdccaddbcd17f4b8aef'), <NodeRelationship.PREVIOUS: '2'>: RelatedNodeInfo(node_id='dbe62430-236e-459b-a974-7542e40850c4', node_type=<ObjectType.TEXT: '1'>, metadata={'page_label': '1', 'file_name': 'CENIBRA_ Taking the Next Steps Toward Sustainable Excellence with Intelligent Technologies.pdf', 'file_path': '/home/jupyter/Untitled Folder/SAP/CENIBRA_ Taking the Next Steps Toward Sustainable Excellence with Intelligent Technologies.pdf', 'file_type': 'application/pdf', 'file_size': 434369, 'creation_date': '2024-08-15', 'last_modified_date': '2024-08-15', 'window': 'PUBLIC\\nSince 1975, Celulose Nipo -Brasileira S.A.  (CENIBRA) has been processing pulp and \\nproducing paper products with a focus on sustainability, biodiversity, and traceability.  Pulp \\nproduction requires large investments in capital, and asset utilization is a key component of a profitable producer.  In addition, industry volatility has increased due to economic \\nturmoil that is impacting prices and logistical resources. \\n CENIBRA has a long history of achievements, however, it knew that transforming its IT \\nlandscape and processes was necessary to meet new market requirements and its \\nbusiness strategy.  One of the challenges CENIBRA faced was integration with the group’s \\nlogistics company, CENIBRA Logística. ', 'original_sentence': 'Pulp \\nproduction requires large investments in capital, and asset utilization is a key component of a profitable producer. '}, hash='4378d2801c769271e7f81a121eafb747e1899c516c032501e4771b5a0264ff97'), <NodeRelationship.NEXT: '3'>: RelatedNodeInfo(node_id='7f4c13a8-1d32-4730-bc69-689c6849a5dc', node_type=<ObjectType.TEXT: '1'>, metadata={'window': '(CENIBRA) has been processing pulp and \\nproducing paper products with a focus on sustainability, biodiversity, and traceability.  Pulp \\nproduction requires large investments in capital, and asset utilization is a key component of a profitable producer.  In addition, industry volatility has increased due to economic \\nturmoil that is impacting prices and logistical resources. \\n CENIBRA has a long history of achievements, however, it knew that transforming its IT \\nlandscape and processes was necessary to meet new market requirements and its \\nbusiness strategy.  One of the challenges CENIBRA faced was integration with the group’s \\nlogistics company, CENIBRA Logística.  The company also looked to create operational synergies, simplify processes, and increase productivity in areas including finance, maintenance, and operations.CENIBRA: Taking the Next Steps \\nToward Sustainable Excellence with \\nIntelligent Technologies\\nPicture Credit | Celulose Nipo- Brasileira S.A.  (CENIBRA), Minas Gerais, Brazil . ', 'original_sentence': 'CENIBRA has a long history of achievements, however, it knew that transforming its IT \\nlandscape and processes was necessary to meet new market requirements and its \\nbusiness strategy. '}, hash='eacd0e7a698d45b22ec4cb2d1af454ad057c614c64126cd486fa576b159f1ff6')}, text='In addition, industry volatility has increased due to economic \\nturmoil that is impacting prices and logistical resources. \\n', mimetype='text/plain', start_char_idx=302, end_char_idx=426, text_template='{metadata_str}\\n\\n{content}', metadata_template='{key}: {value}', metadata_seperator='\\n'),\n",
       " TextNode(id_='7f4c13a8-1d32-4730-bc69-689c6849a5dc', embedding=None, metadata={'page_label': '1', 'file_name': 'CENIBRA_ Taking the Next Steps Toward Sustainable Excellence with Intelligent Technologies.pdf', 'file_path': '/home/jupyter/Untitled Folder/SAP/CENIBRA_ Taking the Next Steps Toward Sustainable Excellence with Intelligent Technologies.pdf', 'file_type': 'application/pdf', 'file_size': 434369, 'creation_date': '2024-08-15', 'last_modified_date': '2024-08-15', 'window': '(CENIBRA) has been processing pulp and \\nproducing paper products with a focus on sustainability, biodiversity, and traceability.  Pulp \\nproduction requires large investments in capital, and asset utilization is a key component of a profitable producer.  In addition, industry volatility has increased due to economic \\nturmoil that is impacting prices and logistical resources. \\n CENIBRA has a long history of achievements, however, it knew that transforming its IT \\nlandscape and processes was necessary to meet new market requirements and its \\nbusiness strategy.  One of the challenges CENIBRA faced was integration with the group’s \\nlogistics company, CENIBRA Logística.  The company also looked to create operational synergies, simplify processes, and increase productivity in areas including finance, maintenance, and operations.CENIBRA: Taking the Next Steps \\nToward Sustainable Excellence with \\nIntelligent Technologies\\nPicture Credit | Celulose Nipo- Brasileira S.A.  (CENIBRA), Minas Gerais, Brazil . ', 'original_sentence': 'CENIBRA has a long history of achievements, however, it knew that transforming its IT \\nlandscape and processes was necessary to meet new market requirements and its \\nbusiness strategy. '}, excluded_embed_metadata_keys=['file_name', 'file_type', 'file_size', 'creation_date', 'last_modified_date', 'last_accessed_date', 'window', 'original_sentence'], excluded_llm_metadata_keys=['file_name', 'file_type', 'file_size', 'creation_date', 'last_modified_date', 'last_accessed_date', 'window', 'original_sentence'], relationships={<NodeRelationship.SOURCE: '1'>: RelatedNodeInfo(node_id='68564a1b-379c-4d6a-b127-aad93ea0ac12', node_type=<ObjectType.DOCUMENT: '4'>, metadata={'page_label': '1', 'file_name': 'CENIBRA_ Taking the Next Steps Toward Sustainable Excellence with Intelligent Technologies.pdf', 'file_path': '/home/jupyter/Untitled Folder/SAP/CENIBRA_ Taking the Next Steps Toward Sustainable Excellence with Intelligent Technologies.pdf', 'file_type': 'application/pdf', 'file_size': 434369, 'creation_date': '2024-08-15', 'last_modified_date': '2024-08-15'}, hash='3a0cc6f2ede1df7e1fb4136d1129139e1b1bb84ab9e91bdccaddbcd17f4b8aef'), <NodeRelationship.PREVIOUS: '2'>: RelatedNodeInfo(node_id='8da6e5ad-7cbf-4567-aad9-75c7330d96f4', node_type=<ObjectType.TEXT: '1'>, metadata={'page_label': '1', 'file_name': 'CENIBRA_ Taking the Next Steps Toward Sustainable Excellence with Intelligent Technologies.pdf', 'file_path': '/home/jupyter/Untitled Folder/SAP/CENIBRA_ Taking the Next Steps Toward Sustainable Excellence with Intelligent Technologies.pdf', 'file_type': 'application/pdf', 'file_size': 434369, 'creation_date': '2024-08-15', 'last_modified_date': '2024-08-15', 'window': 'PUBLIC\\nSince 1975, Celulose Nipo -Brasileira S.A.  (CENIBRA) has been processing pulp and \\nproducing paper products with a focus on sustainability, biodiversity, and traceability.  Pulp \\nproduction requires large investments in capital, and asset utilization is a key component of a profitable producer.  In addition, industry volatility has increased due to economic \\nturmoil that is impacting prices and logistical resources. \\n CENIBRA has a long history of achievements, however, it knew that transforming its IT \\nlandscape and processes was necessary to meet new market requirements and its \\nbusiness strategy.  One of the challenges CENIBRA faced was integration with the group’s \\nlogistics company, CENIBRA Logística.  The company also looked to create operational synergies, simplify processes, and increase productivity in areas including finance, maintenance, and operations.CENIBRA: Taking the Next Steps \\nToward Sustainable Excellence with \\nIntelligent Technologies\\nPicture Credit | Celulose Nipo- Brasileira S.A. ', 'original_sentence': 'In addition, industry volatility has increased due to economic \\nturmoil that is impacting prices and logistical resources. \\n'}, hash='cd6930d3b6dd83dc29e4bc0551aa5caf4a4e64bef740828f8c11e9a754460486'), <NodeRelationship.NEXT: '3'>: RelatedNodeInfo(node_id='d2890a4a-f9a0-405c-955c-f34fd06021c4', node_type=<ObjectType.TEXT: '1'>, metadata={'window': 'Pulp \\nproduction requires large investments in capital, and asset utilization is a key component of a profitable producer.  In addition, industry volatility has increased due to economic \\nturmoil that is impacting prices and logistical resources. \\n CENIBRA has a long history of achievements, however, it knew that transforming its IT \\nlandscape and processes was necessary to meet new market requirements and its \\nbusiness strategy.  One of the challenges CENIBRA faced was integration with the group’s \\nlogistics company, CENIBRA Logística.  The company also looked to create operational synergies, simplify processes, and increase productivity in areas including finance, maintenance, and operations.CENIBRA: Taking the Next Steps \\nToward Sustainable Excellence with \\nIntelligent Technologies\\nPicture Credit | Celulose Nipo- Brasileira S.A.  (CENIBRA), Minas Gerais, Brazil .  Used with permission.', 'original_sentence': 'One of the challenges CENIBRA faced was integration with the group’s \\nlogistics company, CENIBRA Logística. '}, hash='2a71d1f4e2eb07f86362165ad3c94b2bd2a18bd8997e7a9690d313441b0a4dc2')}, text='CENIBRA has a long history of achievements, however, it knew that transforming its IT \\nlandscape and processes was necessary to meet new market requirements and its \\nbusiness strategy. ', mimetype='text/plain', start_char_idx=426, end_char_idx=611, text_template='{metadata_str}\\n\\n{content}', metadata_template='{key}: {value}', metadata_seperator='\\n'),\n",
       " TextNode(id_='d2890a4a-f9a0-405c-955c-f34fd06021c4', embedding=None, metadata={'page_label': '1', 'file_name': 'CENIBRA_ Taking the Next Steps Toward Sustainable Excellence with Intelligent Technologies.pdf', 'file_path': '/home/jupyter/Untitled Folder/SAP/CENIBRA_ Taking the Next Steps Toward Sustainable Excellence with Intelligent Technologies.pdf', 'file_type': 'application/pdf', 'file_size': 434369, 'creation_date': '2024-08-15', 'last_modified_date': '2024-08-15', 'window': 'Pulp \\nproduction requires large investments in capital, and asset utilization is a key component of a profitable producer.  In addition, industry volatility has increased due to economic \\nturmoil that is impacting prices and logistical resources. \\n CENIBRA has a long history of achievements, however, it knew that transforming its IT \\nlandscape and processes was necessary to meet new market requirements and its \\nbusiness strategy.  One of the challenges CENIBRA faced was integration with the group’s \\nlogistics company, CENIBRA Logística.  The company also looked to create operational synergies, simplify processes, and increase productivity in areas including finance, maintenance, and operations.CENIBRA: Taking the Next Steps \\nToward Sustainable Excellence with \\nIntelligent Technologies\\nPicture Credit | Celulose Nipo- Brasileira S.A.  (CENIBRA), Minas Gerais, Brazil .  Used with permission.', 'original_sentence': 'One of the challenges CENIBRA faced was integration with the group’s \\nlogistics company, CENIBRA Logística. '}, excluded_embed_metadata_keys=['file_name', 'file_type', 'file_size', 'creation_date', 'last_modified_date', 'last_accessed_date', 'window', 'original_sentence'], excluded_llm_metadata_keys=['file_name', 'file_type', 'file_size', 'creation_date', 'last_modified_date', 'last_accessed_date', 'window', 'original_sentence'], relationships={<NodeRelationship.SOURCE: '1'>: RelatedNodeInfo(node_id='68564a1b-379c-4d6a-b127-aad93ea0ac12', node_type=<ObjectType.DOCUMENT: '4'>, metadata={'page_label': '1', 'file_name': 'CENIBRA_ Taking the Next Steps Toward Sustainable Excellence with Intelligent Technologies.pdf', 'file_path': '/home/jupyter/Untitled Folder/SAP/CENIBRA_ Taking the Next Steps Toward Sustainable Excellence with Intelligent Technologies.pdf', 'file_type': 'application/pdf', 'file_size': 434369, 'creation_date': '2024-08-15', 'last_modified_date': '2024-08-15'}, hash='3a0cc6f2ede1df7e1fb4136d1129139e1b1bb84ab9e91bdccaddbcd17f4b8aef'), <NodeRelationship.PREVIOUS: '2'>: RelatedNodeInfo(node_id='7f4c13a8-1d32-4730-bc69-689c6849a5dc', node_type=<ObjectType.TEXT: '1'>, metadata={'page_label': '1', 'file_name': 'CENIBRA_ Taking the Next Steps Toward Sustainable Excellence with Intelligent Technologies.pdf', 'file_path': '/home/jupyter/Untitled Folder/SAP/CENIBRA_ Taking the Next Steps Toward Sustainable Excellence with Intelligent Technologies.pdf', 'file_type': 'application/pdf', 'file_size': 434369, 'creation_date': '2024-08-15', 'last_modified_date': '2024-08-15', 'window': '(CENIBRA) has been processing pulp and \\nproducing paper products with a focus on sustainability, biodiversity, and traceability.  Pulp \\nproduction requires large investments in capital, and asset utilization is a key component of a profitable producer.  In addition, industry volatility has increased due to economic \\nturmoil that is impacting prices and logistical resources. \\n CENIBRA has a long history of achievements, however, it knew that transforming its IT \\nlandscape and processes was necessary to meet new market requirements and its \\nbusiness strategy.  One of the challenges CENIBRA faced was integration with the group’s \\nlogistics company, CENIBRA Logística.  The company also looked to create operational synergies, simplify processes, and increase productivity in areas including finance, maintenance, and operations.CENIBRA: Taking the Next Steps \\nToward Sustainable Excellence with \\nIntelligent Technologies\\nPicture Credit | Celulose Nipo- Brasileira S.A.  (CENIBRA), Minas Gerais, Brazil . ', 'original_sentence': 'CENIBRA has a long history of achievements, however, it knew that transforming its IT \\nlandscape and processes was necessary to meet new market requirements and its \\nbusiness strategy. '}, hash='c7795abc52724469fe215d93f437d2cd853b00c3bae86b947bf8c1c1582f38ae'), <NodeRelationship.NEXT: '3'>: RelatedNodeInfo(node_id='abf1c231-2f4d-4fa0-b061-230007fe04a8', node_type=<ObjectType.TEXT: '1'>, metadata={'window': 'In addition, industry volatility has increased due to economic \\nturmoil that is impacting prices and logistical resources. \\n CENIBRA has a long history of achievements, however, it knew that transforming its IT \\nlandscape and processes was necessary to meet new market requirements and its \\nbusiness strategy.  One of the challenges CENIBRA faced was integration with the group’s \\nlogistics company, CENIBRA Logística.  The company also looked to create operational synergies, simplify processes, and increase productivity in areas including finance, maintenance, and operations.CENIBRA: Taking the Next Steps \\nToward Sustainable Excellence with \\nIntelligent Technologies\\nPicture Credit | Celulose Nipo- Brasileira S.A.  (CENIBRA), Minas Gerais, Brazil .  Used with permission.', 'original_sentence': 'The company also looked to create operational synergies, simplify processes, and increase productivity in areas including finance, maintenance, and operations.CENIBRA: Taking the Next Steps \\nToward Sustainable Excellence with \\nIntelligent Technologies\\nPicture Credit | Celulose Nipo- Brasileira S.A. '}, hash='48746d5f8562af68812f245a8e7621c1a612f4ab41e1ccf70ff40dd8baaad17b')}, text='One of the challenges CENIBRA faced was integration with the group’s \\nlogistics company, CENIBRA Logística. ', mimetype='text/plain', start_char_idx=611, end_char_idx=719, text_template='{metadata_str}\\n\\n{content}', metadata_template='{key}: {value}', metadata_seperator='\\n'),\n",
       " TextNode(id_='abf1c231-2f4d-4fa0-b061-230007fe04a8', embedding=None, metadata={'page_label': '1', 'file_name': 'CENIBRA_ Taking the Next Steps Toward Sustainable Excellence with Intelligent Technologies.pdf', 'file_path': '/home/jupyter/Untitled Folder/SAP/CENIBRA_ Taking the Next Steps Toward Sustainable Excellence with Intelligent Technologies.pdf', 'file_type': 'application/pdf', 'file_size': 434369, 'creation_date': '2024-08-15', 'last_modified_date': '2024-08-15', 'window': 'In addition, industry volatility has increased due to economic \\nturmoil that is impacting prices and logistical resources. \\n CENIBRA has a long history of achievements, however, it knew that transforming its IT \\nlandscape and processes was necessary to meet new market requirements and its \\nbusiness strategy.  One of the challenges CENIBRA faced was integration with the group’s \\nlogistics company, CENIBRA Logística.  The company also looked to create operational synergies, simplify processes, and increase productivity in areas including finance, maintenance, and operations.CENIBRA: Taking the Next Steps \\nToward Sustainable Excellence with \\nIntelligent Technologies\\nPicture Credit | Celulose Nipo- Brasileira S.A.  (CENIBRA), Minas Gerais, Brazil .  Used with permission.', 'original_sentence': 'The company also looked to create operational synergies, simplify processes, and increase productivity in areas including finance, maintenance, and operations.CENIBRA: Taking the Next Steps \\nToward Sustainable Excellence with \\nIntelligent Technologies\\nPicture Credit | Celulose Nipo- Brasileira S.A. '}, excluded_embed_metadata_keys=['file_name', 'file_type', 'file_size', 'creation_date', 'last_modified_date', 'last_accessed_date', 'window', 'original_sentence'], excluded_llm_metadata_keys=['file_name', 'file_type', 'file_size', 'creation_date', 'last_modified_date', 'last_accessed_date', 'window', 'original_sentence'], relationships={<NodeRelationship.SOURCE: '1'>: RelatedNodeInfo(node_id='68564a1b-379c-4d6a-b127-aad93ea0ac12', node_type=<ObjectType.DOCUMENT: '4'>, metadata={'page_label': '1', 'file_name': 'CENIBRA_ Taking the Next Steps Toward Sustainable Excellence with Intelligent Technologies.pdf', 'file_path': '/home/jupyter/Untitled Folder/SAP/CENIBRA_ Taking the Next Steps Toward Sustainable Excellence with Intelligent Technologies.pdf', 'file_type': 'application/pdf', 'file_size': 434369, 'creation_date': '2024-08-15', 'last_modified_date': '2024-08-15'}, hash='3a0cc6f2ede1df7e1fb4136d1129139e1b1bb84ab9e91bdccaddbcd17f4b8aef'), <NodeRelationship.PREVIOUS: '2'>: RelatedNodeInfo(node_id='d2890a4a-f9a0-405c-955c-f34fd06021c4', node_type=<ObjectType.TEXT: '1'>, metadata={'page_label': '1', 'file_name': 'CENIBRA_ Taking the Next Steps Toward Sustainable Excellence with Intelligent Technologies.pdf', 'file_path': '/home/jupyter/Untitled Folder/SAP/CENIBRA_ Taking the Next Steps Toward Sustainable Excellence with Intelligent Technologies.pdf', 'file_type': 'application/pdf', 'file_size': 434369, 'creation_date': '2024-08-15', 'last_modified_date': '2024-08-15', 'window': 'Pulp \\nproduction requires large investments in capital, and asset utilization is a key component of a profitable producer.  In addition, industry volatility has increased due to economic \\nturmoil that is impacting prices and logistical resources. \\n CENIBRA has a long history of achievements, however, it knew that transforming its IT \\nlandscape and processes was necessary to meet new market requirements and its \\nbusiness strategy.  One of the challenges CENIBRA faced was integration with the group’s \\nlogistics company, CENIBRA Logística.  The company also looked to create operational synergies, simplify processes, and increase productivity in areas including finance, maintenance, and operations.CENIBRA: Taking the Next Steps \\nToward Sustainable Excellence with \\nIntelligent Technologies\\nPicture Credit | Celulose Nipo- Brasileira S.A.  (CENIBRA), Minas Gerais, Brazil .  Used with permission.', 'original_sentence': 'One of the challenges CENIBRA faced was integration with the group’s \\nlogistics company, CENIBRA Logística. '}, hash='15b1d68d4fca6905c1f5c1d2d607bc0e7e302faf4f08f826cb054d0932bb84ad'), <NodeRelationship.NEXT: '3'>: RelatedNodeInfo(node_id='e4919e2b-2597-40ad-a420-cbd66f4836ea', node_type=<ObjectType.TEXT: '1'>, metadata={'window': 'CENIBRA has a long history of achievements, however, it knew that transforming its IT \\nlandscape and processes was necessary to meet new market requirements and its \\nbusiness strategy.  One of the challenges CENIBRA faced was integration with the group’s \\nlogistics company, CENIBRA Logística.  The company also looked to create operational synergies, simplify processes, and increase productivity in areas including finance, maintenance, and operations.CENIBRA: Taking the Next Steps \\nToward Sustainable Excellence with \\nIntelligent Technologies\\nPicture Credit | Celulose Nipo- Brasileira S.A.  (CENIBRA), Minas Gerais, Brazil .  Used with permission.', 'original_sentence': '(CENIBRA), Minas Gerais, Brazil . '}, hash='f1b6ccb288cde6dbc62846e8d7c70f955238768d9518a79a671cb49dc5983852')}, text='The company also looked to create operational synergies, simplify processes, and increase productivity in areas including finance, maintenance, and operations.CENIBRA: Taking the Next Steps \\nToward Sustainable Excellence with \\nIntelligent Technologies\\nPicture Credit | Celulose Nipo- Brasileira S.A. ', mimetype='text/plain', start_char_idx=719, end_char_idx=1019, text_template='{metadata_str}\\n\\n{content}', metadata_template='{key}: {value}', metadata_seperator='\\n'),\n",
       " TextNode(id_='e4919e2b-2597-40ad-a420-cbd66f4836ea', embedding=None, metadata={'page_label': '1', 'file_name': 'CENIBRA_ Taking the Next Steps Toward Sustainable Excellence with Intelligent Technologies.pdf', 'file_path': '/home/jupyter/Untitled Folder/SAP/CENIBRA_ Taking the Next Steps Toward Sustainable Excellence with Intelligent Technologies.pdf', 'file_type': 'application/pdf', 'file_size': 434369, 'creation_date': '2024-08-15', 'last_modified_date': '2024-08-15', 'window': 'CENIBRA has a long history of achievements, however, it knew that transforming its IT \\nlandscape and processes was necessary to meet new market requirements and its \\nbusiness strategy.  One of the challenges CENIBRA faced was integration with the group’s \\nlogistics company, CENIBRA Logística.  The company also looked to create operational synergies, simplify processes, and increase productivity in areas including finance, maintenance, and operations.CENIBRA: Taking the Next Steps \\nToward Sustainable Excellence with \\nIntelligent Technologies\\nPicture Credit | Celulose Nipo- Brasileira S.A.  (CENIBRA), Minas Gerais, Brazil .  Used with permission.', 'original_sentence': '(CENIBRA), Minas Gerais, Brazil . '}, excluded_embed_metadata_keys=['file_name', 'file_type', 'file_size', 'creation_date', 'last_modified_date', 'last_accessed_date', 'window', 'original_sentence'], excluded_llm_metadata_keys=['file_name', 'file_type', 'file_size', 'creation_date', 'last_modified_date', 'last_accessed_date', 'window', 'original_sentence'], relationships={<NodeRelationship.SOURCE: '1'>: RelatedNodeInfo(node_id='68564a1b-379c-4d6a-b127-aad93ea0ac12', node_type=<ObjectType.DOCUMENT: '4'>, metadata={'page_label': '1', 'file_name': 'CENIBRA_ Taking the Next Steps Toward Sustainable Excellence with Intelligent Technologies.pdf', 'file_path': '/home/jupyter/Untitled Folder/SAP/CENIBRA_ Taking the Next Steps Toward Sustainable Excellence with Intelligent Technologies.pdf', 'file_type': 'application/pdf', 'file_size': 434369, 'creation_date': '2024-08-15', 'last_modified_date': '2024-08-15'}, hash='3a0cc6f2ede1df7e1fb4136d1129139e1b1bb84ab9e91bdccaddbcd17f4b8aef'), <NodeRelationship.PREVIOUS: '2'>: RelatedNodeInfo(node_id='abf1c231-2f4d-4fa0-b061-230007fe04a8', node_type=<ObjectType.TEXT: '1'>, metadata={'page_label': '1', 'file_name': 'CENIBRA_ Taking the Next Steps Toward Sustainable Excellence with Intelligent Technologies.pdf', 'file_path': '/home/jupyter/Untitled Folder/SAP/CENIBRA_ Taking the Next Steps Toward Sustainable Excellence with Intelligent Technologies.pdf', 'file_type': 'application/pdf', 'file_size': 434369, 'creation_date': '2024-08-15', 'last_modified_date': '2024-08-15', 'window': 'In addition, industry volatility has increased due to economic \\nturmoil that is impacting prices and logistical resources. \\n CENIBRA has a long history of achievements, however, it knew that transforming its IT \\nlandscape and processes was necessary to meet new market requirements and its \\nbusiness strategy.  One of the challenges CENIBRA faced was integration with the group’s \\nlogistics company, CENIBRA Logística.  The company also looked to create operational synergies, simplify processes, and increase productivity in areas including finance, maintenance, and operations.CENIBRA: Taking the Next Steps \\nToward Sustainable Excellence with \\nIntelligent Technologies\\nPicture Credit | Celulose Nipo- Brasileira S.A.  (CENIBRA), Minas Gerais, Brazil .  Used with permission.', 'original_sentence': 'The company also looked to create operational synergies, simplify processes, and increase productivity in areas including finance, maintenance, and operations.CENIBRA: Taking the Next Steps \\nToward Sustainable Excellence with \\nIntelligent Technologies\\nPicture Credit | Celulose Nipo- Brasileira S.A. '}, hash='ce892e2833cfba7e57fd82d520fe2cf2732932b7768eae6d33079c8a336f4d57'), <NodeRelationship.NEXT: '3'>: RelatedNodeInfo(node_id='ed408b60-2dfa-4cf7-8256-df356495793f', node_type=<ObjectType.TEXT: '1'>, metadata={'window': 'One of the challenges CENIBRA faced was integration with the group’s \\nlogistics company, CENIBRA Logística.  The company also looked to create operational synergies, simplify processes, and increase productivity in areas including finance, maintenance, and operations.CENIBRA: Taking the Next Steps \\nToward Sustainable Excellence with \\nIntelligent Technologies\\nPicture Credit | Celulose Nipo- Brasileira S.A.  (CENIBRA), Minas Gerais, Brazil .  Used with permission.', 'original_sentence': 'Used with permission.'}, hash='74e9bf8393e50bf220e50defecde53431206857ef12afec5f675cc14d09daecf')}, text='(CENIBRA), Minas Gerais, Brazil . ', mimetype='text/plain', start_char_idx=1019, end_char_idx=1053, text_template='{metadata_str}\\n\\n{content}', metadata_template='{key}: {value}', metadata_seperator='\\n'),\n",
       " TextNode(id_='ed408b60-2dfa-4cf7-8256-df356495793f', embedding=None, metadata={'page_label': '1', 'file_name': 'CENIBRA_ Taking the Next Steps Toward Sustainable Excellence with Intelligent Technologies.pdf', 'file_path': '/home/jupyter/Untitled Folder/SAP/CENIBRA_ Taking the Next Steps Toward Sustainable Excellence with Intelligent Technologies.pdf', 'file_type': 'application/pdf', 'file_size': 434369, 'creation_date': '2024-08-15', 'last_modified_date': '2024-08-15', 'window': 'One of the challenges CENIBRA faced was integration with the group’s \\nlogistics company, CENIBRA Logística.  The company also looked to create operational synergies, simplify processes, and increase productivity in areas including finance, maintenance, and operations.CENIBRA: Taking the Next Steps \\nToward Sustainable Excellence with \\nIntelligent Technologies\\nPicture Credit | Celulose Nipo- Brasileira S.A.  (CENIBRA), Minas Gerais, Brazil .  Used with permission.', 'original_sentence': 'Used with permission.'}, excluded_embed_metadata_keys=['file_name', 'file_type', 'file_size', 'creation_date', 'last_modified_date', 'last_accessed_date', 'window', 'original_sentence'], excluded_llm_metadata_keys=['file_name', 'file_type', 'file_size', 'creation_date', 'last_modified_date', 'last_accessed_date', 'window', 'original_sentence'], relationships={<NodeRelationship.SOURCE: '1'>: RelatedNodeInfo(node_id='68564a1b-379c-4d6a-b127-aad93ea0ac12', node_type=<ObjectType.DOCUMENT: '4'>, metadata={'page_label': '1', 'file_name': 'CENIBRA_ Taking the Next Steps Toward Sustainable Excellence with Intelligent Technologies.pdf', 'file_path': '/home/jupyter/Untitled Folder/SAP/CENIBRA_ Taking the Next Steps Toward Sustainable Excellence with Intelligent Technologies.pdf', 'file_type': 'application/pdf', 'file_size': 434369, 'creation_date': '2024-08-15', 'last_modified_date': '2024-08-15'}, hash='3a0cc6f2ede1df7e1fb4136d1129139e1b1bb84ab9e91bdccaddbcd17f4b8aef'), <NodeRelationship.PREVIOUS: '2'>: RelatedNodeInfo(node_id='e4919e2b-2597-40ad-a420-cbd66f4836ea', node_type=<ObjectType.TEXT: '1'>, metadata={'page_label': '1', 'file_name': 'CENIBRA_ Taking the Next Steps Toward Sustainable Excellence with Intelligent Technologies.pdf', 'file_path': '/home/jupyter/Untitled Folder/SAP/CENIBRA_ Taking the Next Steps Toward Sustainable Excellence with Intelligent Technologies.pdf', 'file_type': 'application/pdf', 'file_size': 434369, 'creation_date': '2024-08-15', 'last_modified_date': '2024-08-15', 'window': 'CENIBRA has a long history of achievements, however, it knew that transforming its IT \\nlandscape and processes was necessary to meet new market requirements and its \\nbusiness strategy.  One of the challenges CENIBRA faced was integration with the group’s \\nlogistics company, CENIBRA Logística.  The company also looked to create operational synergies, simplify processes, and increase productivity in areas including finance, maintenance, and operations.CENIBRA: Taking the Next Steps \\nToward Sustainable Excellence with \\nIntelligent Technologies\\nPicture Credit | Celulose Nipo- Brasileira S.A.  (CENIBRA), Minas Gerais, Brazil .  Used with permission.', 'original_sentence': '(CENIBRA), Minas Gerais, Brazil . '}, hash='688d2ad3b70ef8ed86aecfde78b0cb7b646d9d6f2201471e867c4a5a511a6332')}, text='Used with permission.', mimetype='text/plain', start_char_idx=1053, end_char_idx=1074, text_template='{metadata_str}\\n\\n{content}', metadata_template='{key}: {value}', metadata_seperator='\\n'),\n",
       " TextNode(id_='fd595988-811c-4947-9aeb-a9cbd690353d', embedding=None, metadata={'page_label': '2', 'file_name': 'CENIBRA_ Taking the Next Steps Toward Sustainable Excellence with Intelligent Technologies.pdf', 'file_path': '/home/jupyter/Untitled Folder/SAP/CENIBRA_ Taking the Next Steps Toward Sustainable Excellence with Intelligent Technologies.pdf', 'file_type': 'application/pdf', 'file_size': 434369, 'creation_date': '2024-08-15', 'last_modified_date': '2024-08-15', 'window': 'Before: Challenges and Opportunities\\n•Aging ERP system that couldn’t meet the latest market requirements and lacked digital functions \\n•Opportunity to decrease operational efforts for new IT developments and enable daily reports\\n•Need for easier ways to integrate processes and people, such as a stronger use of mobile technology \\n•Desire to move logistics company CENIBRA Logística from its legacy ERP system to SAP S/4HANA®\\nWhy SAP\\n•SAP S/4HANA, which includes the latest digital capabilities that bring flexibility and productivity to \\nCENIBRA’s IT department\\n•SAP®Value Assurance program for a faster implementation, quality assurance, best practice selection, \\nand knowledge transfer\\n•Ability to reduce manual efforts with SAP S/4HANA and SAP Fiori®apps \\nAfter: Value -Driven Results\\n•Single source of truth for customers and suppliers\\n•Flexible and faster cash- flow evaluation\\n•Improved operations thanks to best practices from the SAP Extended Warehouse Management and SAP Transportation Management applications \\n•Simplification of financial processes to accelerate monthly closing and greater financial insight, enabling 73% faster payroll report generation that considers complex legislation and 4,500 employees\\n•Improvement in asset management, providing more integrated management of depreciation and usage\\n•More -efficient IT process management using SAP Solution Manager and focused developments Executing a Digital Transformation Strategy with SAP S/4HANA®\\n“The path to digital transformation begins with agile \\nand efficient business management .  This was one \\nof the main drivers to migrate our SAP system to the latest SAP S/4HANA software, a totally remodeled version that’s faster and simpler and provides several possibilities to improve our processes.”\\nAnamaria Ferreira de Oliveira, Information Systems Coordinator, Celulose Nipo-Brasileira S.A.  (CENIBRA)\\n95% \\nProductivity gain for \\nclosing reporting procedures11 hours\\nSaved in the generation of payroll reports\\nCelulose Nipo -Brasileira \\nS.A.  (CENIBRA) \\nMinas Gerais, Brazil \\nwww.cenibra.com.brIndustryMill products Employees\\n4,500Revenue\\nUS$560 millionProducts and Services\\nPulp and paper production Featured Solutions and Services SAP S/4HANA and SAP Services and Support\\nPUBLIC | 78152enUS (21/11) © 2021 SAP SE or an SAP affiliate company. \\n', 'original_sentence': 'Before: Challenges and Opportunities\\n•Aging ERP system that couldn’t meet the latest market requirements and lacked digital functions \\n•Opportunity to decrease operational efforts for new IT developments and enable daily reports\\n•Need for easier ways to integrate processes and people, such as a stronger use of mobile technology \\n•Desire to move logistics company CENIBRA Logística from its legacy ERP system to SAP S/4HANA®\\nWhy SAP\\n•SAP S/4HANA, which includes the latest digital capabilities that bring flexibility and productivity to \\nCENIBRA’s IT department\\n•SAP®Value Assurance program for a faster implementation, quality assurance, best practice selection, \\nand knowledge transfer\\n•Ability to reduce manual efforts with SAP S/4HANA and SAP Fiori®apps \\nAfter: Value -Driven Results\\n•Single source of truth for customers and suppliers\\n•Flexible and faster cash- flow evaluation\\n•Improved operations thanks to best practices from the SAP Extended Warehouse Management and SAP Transportation Management applications \\n•Simplification of financial processes to accelerate monthly closing and greater financial insight, enabling 73% faster payroll report generation that considers complex legislation and 4,500 employees\\n•Improvement in asset management, providing more integrated management of depreciation and usage\\n•More -efficient IT process management using SAP Solution Manager and focused developments Executing a Digital Transformation Strategy with SAP S/4HANA®\\n“The path to digital transformation begins with agile \\nand efficient business management . '}, excluded_embed_metadata_keys=['file_name', 'file_type', 'file_size', 'creation_date', 'last_modified_date', 'last_accessed_date', 'window', 'original_sentence'], excluded_llm_metadata_keys=['file_name', 'file_type', 'file_size', 'creation_date', 'last_modified_date', 'last_accessed_date', 'window', 'original_sentence'], relationships={<NodeRelationship.SOURCE: '1'>: RelatedNodeInfo(node_id='8800c217-13a4-441e-b062-8ece17afdf8d', node_type=<ObjectType.DOCUMENT: '4'>, metadata={'page_label': '2', 'file_name': 'CENIBRA_ Taking the Next Steps Toward Sustainable Excellence with Intelligent Technologies.pdf', 'file_path': '/home/jupyter/Untitled Folder/SAP/CENIBRA_ Taking the Next Steps Toward Sustainable Excellence with Intelligent Technologies.pdf', 'file_type': 'application/pdf', 'file_size': 434369, 'creation_date': '2024-08-15', 'last_modified_date': '2024-08-15'}, hash='a9f537e3f35c803e7b1ac6c487ab52c7aa3995d35290e20665fca9f792771e8a'), <NodeRelationship.NEXT: '3'>: RelatedNodeInfo(node_id='66bf3c1a-469b-42b0-9804-a7cb87a05c63', node_type=<ObjectType.TEXT: '1'>, metadata={'window': 'Before: Challenges and Opportunities\\n•Aging ERP system that couldn’t meet the latest market requirements and lacked digital functions \\n•Opportunity to decrease operational efforts for new IT developments and enable daily reports\\n•Need for easier ways to integrate processes and people, such as a stronger use of mobile technology \\n•Desire to move logistics company CENIBRA Logística from its legacy ERP system to SAP S/4HANA®\\nWhy SAP\\n•SAP S/4HANA, which includes the latest digital capabilities that bring flexibility and productivity to \\nCENIBRA’s IT department\\n•SAP®Value Assurance program for a faster implementation, quality assurance, best practice selection, \\nand knowledge transfer\\n•Ability to reduce manual efforts with SAP S/4HANA and SAP Fiori®apps \\nAfter: Value -Driven Results\\n•Single source of truth for customers and suppliers\\n•Flexible and faster cash- flow evaluation\\n•Improved operations thanks to best practices from the SAP Extended Warehouse Management and SAP Transportation Management applications \\n•Simplification of financial processes to accelerate monthly closing and greater financial insight, enabling 73% faster payroll report generation that considers complex legislation and 4,500 employees\\n•Improvement in asset management, providing more integrated management of depreciation and usage\\n•More -efficient IT process management using SAP Solution Manager and focused developments Executing a Digital Transformation Strategy with SAP S/4HANA®\\n“The path to digital transformation begins with agile \\nand efficient business management .  This was one \\nof the main drivers to migrate our SAP system to the latest SAP S/4HANA software, a totally remodeled version that’s faster and simpler and provides several possibilities to improve our processes.”\\nAnamaria Ferreira de Oliveira, Information Systems Coordinator, Celulose Nipo-Brasileira S.A.  (CENIBRA)\\n95% \\nProductivity gain for \\nclosing reporting procedures11 hours\\nSaved in the generation of payroll reports\\nCelulose Nipo -Brasileira \\nS.A.  (CENIBRA) \\nMinas Gerais, Brazil \\nwww.cenibra.com.brIndustryMill products Employees\\n4,500Revenue\\nUS$560 millionProducts and Services\\nPulp and paper production Featured Solutions and Services SAP S/4HANA and SAP Services and Support\\nPUBLIC | 78152enUS (21/11) © 2021 SAP SE or an SAP affiliate company. \\n sap.com/terms -of-use', 'original_sentence': 'This was one \\nof the main drivers to migrate our SAP system to the latest SAP S/4HANA software, a totally remodeled version that’s faster and simpler and provides several possibilities to improve our processes.”\\nAnamaria Ferreira de Oliveira, Information Systems Coordinator, Celulose Nipo-Brasileira S.A. '}, hash='f4fa36531186ba5381ade7c7e9ce3678c763c46e70393bb24ad2d11cc8f5ceb9')}, text='Before: Challenges and Opportunities\\n•Aging ERP system that couldn’t meet the latest market requirements and lacked digital functions \\n•Opportunity to decrease operational efforts for new IT developments and enable daily reports\\n•Need for easier ways to integrate processes and people, such as a stronger use of mobile technology \\n•Desire to move logistics company CENIBRA Logística from its legacy ERP system to SAP S/4HANA®\\nWhy SAP\\n•SAP S/4HANA, which includes the latest digital capabilities that bring flexibility and productivity to \\nCENIBRA’s IT department\\n•SAP®Value Assurance program for a faster implementation, quality assurance, best practice selection, \\nand knowledge transfer\\n•Ability to reduce manual efforts with SAP S/4HANA and SAP Fiori®apps \\nAfter: Value -Driven Results\\n•Single source of truth for customers and suppliers\\n•Flexible and faster cash- flow evaluation\\n•Improved operations thanks to best practices from the SAP Extended Warehouse Management and SAP Transportation Management applications \\n•Simplification of financial processes to accelerate monthly closing and greater financial insight, enabling 73% faster payroll report generation that considers complex legislation and 4,500 employees\\n•Improvement in asset management, providing more integrated management of depreciation and usage\\n•More -efficient IT process management using SAP Solution Manager and focused developments Executing a Digital Transformation Strategy with SAP S/4HANA®\\n“The path to digital transformation begins with agile \\nand efficient business management . ', mimetype='text/plain', start_char_idx=0, end_char_idx=1563, text_template='{metadata_str}\\n\\n{content}', metadata_template='{key}: {value}', metadata_seperator='\\n'),\n",
       " TextNode(id_='66bf3c1a-469b-42b0-9804-a7cb87a05c63', embedding=None, metadata={'page_label': '2', 'file_name': 'CENIBRA_ Taking the Next Steps Toward Sustainable Excellence with Intelligent Technologies.pdf', 'file_path': '/home/jupyter/Untitled Folder/SAP/CENIBRA_ Taking the Next Steps Toward Sustainable Excellence with Intelligent Technologies.pdf', 'file_type': 'application/pdf', 'file_size': 434369, 'creation_date': '2024-08-15', 'last_modified_date': '2024-08-15', 'window': 'Before: Challenges and Opportunities\\n•Aging ERP system that couldn’t meet the latest market requirements and lacked digital functions \\n•Opportunity to decrease operational efforts for new IT developments and enable daily reports\\n•Need for easier ways to integrate processes and people, such as a stronger use of mobile technology \\n•Desire to move logistics company CENIBRA Logística from its legacy ERP system to SAP S/4HANA®\\nWhy SAP\\n•SAP S/4HANA, which includes the latest digital capabilities that bring flexibility and productivity to \\nCENIBRA’s IT department\\n•SAP®Value Assurance program for a faster implementation, quality assurance, best practice selection, \\nand knowledge transfer\\n•Ability to reduce manual efforts with SAP S/4HANA and SAP Fiori®apps \\nAfter: Value -Driven Results\\n•Single source of truth for customers and suppliers\\n•Flexible and faster cash- flow evaluation\\n•Improved operations thanks to best practices from the SAP Extended Warehouse Management and SAP Transportation Management applications \\n•Simplification of financial processes to accelerate monthly closing and greater financial insight, enabling 73% faster payroll report generation that considers complex legislation and 4,500 employees\\n•Improvement in asset management, providing more integrated management of depreciation and usage\\n•More -efficient IT process management using SAP Solution Manager and focused developments Executing a Digital Transformation Strategy with SAP S/4HANA®\\n“The path to digital transformation begins with agile \\nand efficient business management .  This was one \\nof the main drivers to migrate our SAP system to the latest SAP S/4HANA software, a totally remodeled version that’s faster and simpler and provides several possibilities to improve our processes.”\\nAnamaria Ferreira de Oliveira, Information Systems Coordinator, Celulose Nipo-Brasileira S.A.  (CENIBRA)\\n95% \\nProductivity gain for \\nclosing reporting procedures11 hours\\nSaved in the generation of payroll reports\\nCelulose Nipo -Brasileira \\nS.A.  (CENIBRA) \\nMinas Gerais, Brazil \\nwww.cenibra.com.brIndustryMill products Employees\\n4,500Revenue\\nUS$560 millionProducts and Services\\nPulp and paper production Featured Solutions and Services SAP S/4HANA and SAP Services and Support\\nPUBLIC | 78152enUS (21/11) © 2021 SAP SE or an SAP affiliate company. \\n sap.com/terms -of-use', 'original_sentence': 'This was one \\nof the main drivers to migrate our SAP system to the latest SAP S/4HANA software, a totally remodeled version that’s faster and simpler and provides several possibilities to improve our processes.”\\nAnamaria Ferreira de Oliveira, Information Systems Coordinator, Celulose Nipo-Brasileira S.A. '}, excluded_embed_metadata_keys=['file_name', 'file_type', 'file_size', 'creation_date', 'last_modified_date', 'last_accessed_date', 'window', 'original_sentence'], excluded_llm_metadata_keys=['file_name', 'file_type', 'file_size', 'creation_date', 'last_modified_date', 'last_accessed_date', 'window', 'original_sentence'], relationships={<NodeRelationship.SOURCE: '1'>: RelatedNodeInfo(node_id='8800c217-13a4-441e-b062-8ece17afdf8d', node_type=<ObjectType.DOCUMENT: '4'>, metadata={'page_label': '2', 'file_name': 'CENIBRA_ Taking the Next Steps Toward Sustainable Excellence with Intelligent Technologies.pdf', 'file_path': '/home/jupyter/Untitled Folder/SAP/CENIBRA_ Taking the Next Steps Toward Sustainable Excellence with Intelligent Technologies.pdf', 'file_type': 'application/pdf', 'file_size': 434369, 'creation_date': '2024-08-15', 'last_modified_date': '2024-08-15'}, hash='a9f537e3f35c803e7b1ac6c487ab52c7aa3995d35290e20665fca9f792771e8a'), <NodeRelationship.PREVIOUS: '2'>: RelatedNodeInfo(node_id='fd595988-811c-4947-9aeb-a9cbd690353d', node_type=<ObjectType.TEXT: '1'>, metadata={'page_label': '2', 'file_name': 'CENIBRA_ Taking the Next Steps Toward Sustainable Excellence with Intelligent Technologies.pdf', 'file_path': '/home/jupyter/Untitled Folder/SAP/CENIBRA_ Taking the Next Steps Toward Sustainable Excellence with Intelligent Technologies.pdf', 'file_type': 'application/pdf', 'file_size': 434369, 'creation_date': '2024-08-15', 'last_modified_date': '2024-08-15', 'window': 'Before: Challenges and Opportunities\\n•Aging ERP system that couldn’t meet the latest market requirements and lacked digital functions \\n•Opportunity to decrease operational efforts for new IT developments and enable daily reports\\n•Need for easier ways to integrate processes and people, such as a stronger use of mobile technology \\n•Desire to move logistics company CENIBRA Logística from its legacy ERP system to SAP S/4HANA®\\nWhy SAP\\n•SAP S/4HANA, which includes the latest digital capabilities that bring flexibility and productivity to \\nCENIBRA’s IT department\\n•SAP®Value Assurance program for a faster implementation, quality assurance, best practice selection, \\nand knowledge transfer\\n•Ability to reduce manual efforts with SAP S/4HANA and SAP Fiori®apps \\nAfter: Value -Driven Results\\n•Single source of truth for customers and suppliers\\n•Flexible and faster cash- flow evaluation\\n•Improved operations thanks to best practices from the SAP Extended Warehouse Management and SAP Transportation Management applications \\n•Simplification of financial processes to accelerate monthly closing and greater financial insight, enabling 73% faster payroll report generation that considers complex legislation and 4,500 employees\\n•Improvement in asset management, providing more integrated management of depreciation and usage\\n•More -efficient IT process management using SAP Solution Manager and focused developments Executing a Digital Transformation Strategy with SAP S/4HANA®\\n“The path to digital transformation begins with agile \\nand efficient business management .  This was one \\nof the main drivers to migrate our SAP system to the latest SAP S/4HANA software, a totally remodeled version that’s faster and simpler and provides several possibilities to improve our processes.”\\nAnamaria Ferreira de Oliveira, Information Systems Coordinator, Celulose Nipo-Brasileira S.A.  (CENIBRA)\\n95% \\nProductivity gain for \\nclosing reporting procedures11 hours\\nSaved in the generation of payroll reports\\nCelulose Nipo -Brasileira \\nS.A.  (CENIBRA) \\nMinas Gerais, Brazil \\nwww.cenibra.com.brIndustryMill products Employees\\n4,500Revenue\\nUS$560 millionProducts and Services\\nPulp and paper production Featured Solutions and Services SAP S/4HANA and SAP Services and Support\\nPUBLIC | 78152enUS (21/11) © 2021 SAP SE or an SAP affiliate company. \\n', 'original_sentence': 'Before: Challenges and Opportunities\\n•Aging ERP system that couldn’t meet the latest market requirements and lacked digital functions \\n•Opportunity to decrease operational efforts for new IT developments and enable daily reports\\n•Need for easier ways to integrate processes and people, such as a stronger use of mobile technology \\n•Desire to move logistics company CENIBRA Logística from its legacy ERP system to SAP S/4HANA®\\nWhy SAP\\n•SAP S/4HANA, which includes the latest digital capabilities that bring flexibility and productivity to \\nCENIBRA’s IT department\\n•SAP®Value Assurance program for a faster implementation, quality assurance, best practice selection, \\nand knowledge transfer\\n•Ability to reduce manual efforts with SAP S/4HANA and SAP Fiori®apps \\nAfter: Value -Driven Results\\n•Single source of truth for customers and suppliers\\n•Flexible and faster cash- flow evaluation\\n•Improved operations thanks to best practices from the SAP Extended Warehouse Management and SAP Transportation Management applications \\n•Simplification of financial processes to accelerate monthly closing and greater financial insight, enabling 73% faster payroll report generation that considers complex legislation and 4,500 employees\\n•Improvement in asset management, providing more integrated management of depreciation and usage\\n•More -efficient IT process management using SAP Solution Manager and focused developments Executing a Digital Transformation Strategy with SAP S/4HANA®\\n“The path to digital transformation begins with agile \\nand efficient business management . '}, hash='84bb5e149301d886a8260d17df4edf6f3de835a86bcc08ee5479d1d3eaaa8f57'), <NodeRelationship.NEXT: '3'>: RelatedNodeInfo(node_id='471df38f-2a76-40a0-b209-de7b535b664b', node_type=<ObjectType.TEXT: '1'>, metadata={'window': 'Before: Challenges and Opportunities\\n•Aging ERP system that couldn’t meet the latest market requirements and lacked digital functions \\n•Opportunity to decrease operational efforts for new IT developments and enable daily reports\\n•Need for easier ways to integrate processes and people, such as a stronger use of mobile technology \\n•Desire to move logistics company CENIBRA Logística from its legacy ERP system to SAP S/4HANA®\\nWhy SAP\\n•SAP S/4HANA, which includes the latest digital capabilities that bring flexibility and productivity to \\nCENIBRA’s IT department\\n•SAP®Value Assurance program for a faster implementation, quality assurance, best practice selection, \\nand knowledge transfer\\n•Ability to reduce manual efforts with SAP S/4HANA and SAP Fiori®apps \\nAfter: Value -Driven Results\\n•Single source of truth for customers and suppliers\\n•Flexible and faster cash- flow evaluation\\n•Improved operations thanks to best practices from the SAP Extended Warehouse Management and SAP Transportation Management applications \\n•Simplification of financial processes to accelerate monthly closing and greater financial insight, enabling 73% faster payroll report generation that considers complex legislation and 4,500 employees\\n•Improvement in asset management, providing more integrated management of depreciation and usage\\n•More -efficient IT process management using SAP Solution Manager and focused developments Executing a Digital Transformation Strategy with SAP S/4HANA®\\n“The path to digital transformation begins with agile \\nand efficient business management .  This was one \\nof the main drivers to migrate our SAP system to the latest SAP S/4HANA software, a totally remodeled version that’s faster and simpler and provides several possibilities to improve our processes.”\\nAnamaria Ferreira de Oliveira, Information Systems Coordinator, Celulose Nipo-Brasileira S.A.  (CENIBRA)\\n95% \\nProductivity gain for \\nclosing reporting procedures11 hours\\nSaved in the generation of payroll reports\\nCelulose Nipo -Brasileira \\nS.A.  (CENIBRA) \\nMinas Gerais, Brazil \\nwww.cenibra.com.brIndustryMill products Employees\\n4,500Revenue\\nUS$560 millionProducts and Services\\nPulp and paper production Featured Solutions and Services SAP S/4HANA and SAP Services and Support\\nPUBLIC | 78152enUS (21/11) © 2021 SAP SE or an SAP affiliate company. \\n sap.com/terms -of-use', 'original_sentence': '(CENIBRA)\\n95% \\nProductivity gain for \\nclosing reporting procedures11 hours\\nSaved in the generation of payroll reports\\nCelulose Nipo -Brasileira \\nS.A. '}, hash='f7493a6d86a9f4dacc299b9bde43c2dc488ad7257ef89145bea5a92a4c3efd4f')}, text='This was one \\nof the main drivers to migrate our SAP system to the latest SAP S/4HANA software, a totally remodeled version that’s faster and simpler and provides several possibilities to improve our processes.”\\nAnamaria Ferreira de Oliveira, Information Systems Coordinator, Celulose Nipo-Brasileira S.A. ', mimetype='text/plain', start_char_idx=1563, end_char_idx=1869, text_template='{metadata_str}\\n\\n{content}', metadata_template='{key}: {value}', metadata_seperator='\\n'),\n",
       " TextNode(id_='471df38f-2a76-40a0-b209-de7b535b664b', embedding=None, metadata={'page_label': '2', 'file_name': 'CENIBRA_ Taking the Next Steps Toward Sustainable Excellence with Intelligent Technologies.pdf', 'file_path': '/home/jupyter/Untitled Folder/SAP/CENIBRA_ Taking the Next Steps Toward Sustainable Excellence with Intelligent Technologies.pdf', 'file_type': 'application/pdf', 'file_size': 434369, 'creation_date': '2024-08-15', 'last_modified_date': '2024-08-15', 'window': 'Before: Challenges and Opportunities\\n•Aging ERP system that couldn’t meet the latest market requirements and lacked digital functions \\n•Opportunity to decrease operational efforts for new IT developments and enable daily reports\\n•Need for easier ways to integrate processes and people, such as a stronger use of mobile technology \\n•Desire to move logistics company CENIBRA Logística from its legacy ERP system to SAP S/4HANA®\\nWhy SAP\\n•SAP S/4HANA, which includes the latest digital capabilities that bring flexibility and productivity to \\nCENIBRA’s IT department\\n•SAP®Value Assurance program for a faster implementation, quality assurance, best practice selection, \\nand knowledge transfer\\n•Ability to reduce manual efforts with SAP S/4HANA and SAP Fiori®apps \\nAfter: Value -Driven Results\\n•Single source of truth for customers and suppliers\\n•Flexible and faster cash- flow evaluation\\n•Improved operations thanks to best practices from the SAP Extended Warehouse Management and SAP Transportation Management applications \\n•Simplification of financial processes to accelerate monthly closing and greater financial insight, enabling 73% faster payroll report generation that considers complex legislation and 4,500 employees\\n•Improvement in asset management, providing more integrated management of depreciation and usage\\n•More -efficient IT process management using SAP Solution Manager and focused developments Executing a Digital Transformation Strategy with SAP S/4HANA®\\n“The path to digital transformation begins with agile \\nand efficient business management .  This was one \\nof the main drivers to migrate our SAP system to the latest SAP S/4HANA software, a totally remodeled version that’s faster and simpler and provides several possibilities to improve our processes.”\\nAnamaria Ferreira de Oliveira, Information Systems Coordinator, Celulose Nipo-Brasileira S.A.  (CENIBRA)\\n95% \\nProductivity gain for \\nclosing reporting procedures11 hours\\nSaved in the generation of payroll reports\\nCelulose Nipo -Brasileira \\nS.A.  (CENIBRA) \\nMinas Gerais, Brazil \\nwww.cenibra.com.brIndustryMill products Employees\\n4,500Revenue\\nUS$560 millionProducts and Services\\nPulp and paper production Featured Solutions and Services SAP S/4HANA and SAP Services and Support\\nPUBLIC | 78152enUS (21/11) © 2021 SAP SE or an SAP affiliate company. \\n sap.com/terms -of-use', 'original_sentence': '(CENIBRA)\\n95% \\nProductivity gain for \\nclosing reporting procedures11 hours\\nSaved in the generation of payroll reports\\nCelulose Nipo -Brasileira \\nS.A. '}, excluded_embed_metadata_keys=['file_name', 'file_type', 'file_size', 'creation_date', 'last_modified_date', 'last_accessed_date', 'window', 'original_sentence'], excluded_llm_metadata_keys=['file_name', 'file_type', 'file_size', 'creation_date', 'last_modified_date', 'last_accessed_date', 'window', 'original_sentence'], relationships={<NodeRelationship.SOURCE: '1'>: RelatedNodeInfo(node_id='8800c217-13a4-441e-b062-8ece17afdf8d', node_type=<ObjectType.DOCUMENT: '4'>, metadata={'page_label': '2', 'file_name': 'CENIBRA_ Taking the Next Steps Toward Sustainable Excellence with Intelligent Technologies.pdf', 'file_path': '/home/jupyter/Untitled Folder/SAP/CENIBRA_ Taking the Next Steps Toward Sustainable Excellence with Intelligent Technologies.pdf', 'file_type': 'application/pdf', 'file_size': 434369, 'creation_date': '2024-08-15', 'last_modified_date': '2024-08-15'}, hash='a9f537e3f35c803e7b1ac6c487ab52c7aa3995d35290e20665fca9f792771e8a'), <NodeRelationship.PREVIOUS: '2'>: RelatedNodeInfo(node_id='66bf3c1a-469b-42b0-9804-a7cb87a05c63', node_type=<ObjectType.TEXT: '1'>, metadata={'page_label': '2', 'file_name': 'CENIBRA_ Taking the Next Steps Toward Sustainable Excellence with Intelligent Technologies.pdf', 'file_path': '/home/jupyter/Untitled Folder/SAP/CENIBRA_ Taking the Next Steps Toward Sustainable Excellence with Intelligent Technologies.pdf', 'file_type': 'application/pdf', 'file_size': 434369, 'creation_date': '2024-08-15', 'last_modified_date': '2024-08-15', 'window': 'Before: Challenges and Opportunities\\n•Aging ERP system that couldn’t meet the latest market requirements and lacked digital functions \\n•Opportunity to decrease operational efforts for new IT developments and enable daily reports\\n•Need for easier ways to integrate processes and people, such as a stronger use of mobile technology \\n•Desire to move logistics company CENIBRA Logística from its legacy ERP system to SAP S/4HANA®\\nWhy SAP\\n•SAP S/4HANA, which includes the latest digital capabilities that bring flexibility and productivity to \\nCENIBRA’s IT department\\n•SAP®Value Assurance program for a faster implementation, quality assurance, best practice selection, \\nand knowledge transfer\\n•Ability to reduce manual efforts with SAP S/4HANA and SAP Fiori®apps \\nAfter: Value -Driven Results\\n•Single source of truth for customers and suppliers\\n•Flexible and faster cash- flow evaluation\\n•Improved operations thanks to best practices from the SAP Extended Warehouse Management and SAP Transportation Management applications \\n•Simplification of financial processes to accelerate monthly closing and greater financial insight, enabling 73% faster payroll report generation that considers complex legislation and 4,500 employees\\n•Improvement in asset management, providing more integrated management of depreciation and usage\\n•More -efficient IT process management using SAP Solution Manager and focused developments Executing a Digital Transformation Strategy with SAP S/4HANA®\\n“The path to digital transformation begins with agile \\nand efficient business management .  This was one \\nof the main drivers to migrate our SAP system to the latest SAP S/4HANA software, a totally remodeled version that’s faster and simpler and provides several possibilities to improve our processes.”\\nAnamaria Ferreira de Oliveira, Information Systems Coordinator, Celulose Nipo-Brasileira S.A.  (CENIBRA)\\n95% \\nProductivity gain for \\nclosing reporting procedures11 hours\\nSaved in the generation of payroll reports\\nCelulose Nipo -Brasileira \\nS.A.  (CENIBRA) \\nMinas Gerais, Brazil \\nwww.cenibra.com.brIndustryMill products Employees\\n4,500Revenue\\nUS$560 millionProducts and Services\\nPulp and paper production Featured Solutions and Services SAP S/4HANA and SAP Services and Support\\nPUBLIC | 78152enUS (21/11) © 2021 SAP SE or an SAP affiliate company. \\n sap.com/terms -of-use', 'original_sentence': 'This was one \\nof the main drivers to migrate our SAP system to the latest SAP S/4HANA software, a totally remodeled version that’s faster and simpler and provides several possibilities to improve our processes.”\\nAnamaria Ferreira de Oliveira, Information Systems Coordinator, Celulose Nipo-Brasileira S.A. '}, hash='f3072ee74fa510ecee253b0e71b82da961517250304eb81192fa803c28b28d1a'), <NodeRelationship.NEXT: '3'>: RelatedNodeInfo(node_id='935de484-77f9-45e5-8b59-7081a66add87', node_type=<ObjectType.TEXT: '1'>, metadata={'window': 'Before: Challenges and Opportunities\\n•Aging ERP system that couldn’t meet the latest market requirements and lacked digital functions \\n•Opportunity to decrease operational efforts for new IT developments and enable daily reports\\n•Need for easier ways to integrate processes and people, such as a stronger use of mobile technology \\n•Desire to move logistics company CENIBRA Logística from its legacy ERP system to SAP S/4HANA®\\nWhy SAP\\n•SAP S/4HANA, which includes the latest digital capabilities that bring flexibility and productivity to \\nCENIBRA’s IT department\\n•SAP®Value Assurance program for a faster implementation, quality assurance, best practice selection, \\nand knowledge transfer\\n•Ability to reduce manual efforts with SAP S/4HANA and SAP Fiori®apps \\nAfter: Value -Driven Results\\n•Single source of truth for customers and suppliers\\n•Flexible and faster cash- flow evaluation\\n•Improved operations thanks to best practices from the SAP Extended Warehouse Management and SAP Transportation Management applications \\n•Simplification of financial processes to accelerate monthly closing and greater financial insight, enabling 73% faster payroll report generation that considers complex legislation and 4,500 employees\\n•Improvement in asset management, providing more integrated management of depreciation and usage\\n•More -efficient IT process management using SAP Solution Manager and focused developments Executing a Digital Transformation Strategy with SAP S/4HANA®\\n“The path to digital transformation begins with agile \\nand efficient business management .  This was one \\nof the main drivers to migrate our SAP system to the latest SAP S/4HANA software, a totally remodeled version that’s faster and simpler and provides several possibilities to improve our processes.”\\nAnamaria Ferreira de Oliveira, Information Systems Coordinator, Celulose Nipo-Brasileira S.A.  (CENIBRA)\\n95% \\nProductivity gain for \\nclosing reporting procedures11 hours\\nSaved in the generation of payroll reports\\nCelulose Nipo -Brasileira \\nS.A.  (CENIBRA) \\nMinas Gerais, Brazil \\nwww.cenibra.com.brIndustryMill products Employees\\n4,500Revenue\\nUS$560 millionProducts and Services\\nPulp and paper production Featured Solutions and Services SAP S/4HANA and SAP Services and Support\\nPUBLIC | 78152enUS (21/11) © 2021 SAP SE or an SAP affiliate company. \\n sap.com/terms -of-use', 'original_sentence': '(CENIBRA) \\nMinas Gerais, Brazil \\nwww.cenibra.com.brIndustryMill products Employees\\n4,500Revenue\\nUS$560 millionProducts and Services\\nPulp and paper production Featured Solutions and Services SAP S/4HANA and SAP Services and Support\\nPUBLIC | 78152enUS (21/11) © 2021 SAP SE or an SAP affiliate company. \\n'}, hash='a523ec46ff737660d6f1136d45290c8c91c41a15578f578b8cda7ba9ff0c3712')}, text='(CENIBRA)\\n95% \\nProductivity gain for \\nclosing reporting procedures11 hours\\nSaved in the generation of payroll reports\\nCelulose Nipo -Brasileira \\nS.A. ', mimetype='text/plain', start_char_idx=1869, end_char_idx=2019, text_template='{metadata_str}\\n\\n{content}', metadata_template='{key}: {value}', metadata_seperator='\\n'),\n",
       " TextNode(id_='935de484-77f9-45e5-8b59-7081a66add87', embedding=None, metadata={'page_label': '2', 'file_name': 'CENIBRA_ Taking the Next Steps Toward Sustainable Excellence with Intelligent Technologies.pdf', 'file_path': '/home/jupyter/Untitled Folder/SAP/CENIBRA_ Taking the Next Steps Toward Sustainable Excellence with Intelligent Technologies.pdf', 'file_type': 'application/pdf', 'file_size': 434369, 'creation_date': '2024-08-15', 'last_modified_date': '2024-08-15', 'window': 'Before: Challenges and Opportunities\\n•Aging ERP system that couldn’t meet the latest market requirements and lacked digital functions \\n•Opportunity to decrease operational efforts for new IT developments and enable daily reports\\n•Need for easier ways to integrate processes and people, such as a stronger use of mobile technology \\n•Desire to move logistics company CENIBRA Logística from its legacy ERP system to SAP S/4HANA®\\nWhy SAP\\n•SAP S/4HANA, which includes the latest digital capabilities that bring flexibility and productivity to \\nCENIBRA’s IT department\\n•SAP®Value Assurance program for a faster implementation, quality assurance, best practice selection, \\nand knowledge transfer\\n•Ability to reduce manual efforts with SAP S/4HANA and SAP Fiori®apps \\nAfter: Value -Driven Results\\n•Single source of truth for customers and suppliers\\n•Flexible and faster cash- flow evaluation\\n•Improved operations thanks to best practices from the SAP Extended Warehouse Management and SAP Transportation Management applications \\n•Simplification of financial processes to accelerate monthly closing and greater financial insight, enabling 73% faster payroll report generation that considers complex legislation and 4,500 employees\\n•Improvement in asset management, providing more integrated management of depreciation and usage\\n•More -efficient IT process management using SAP Solution Manager and focused developments Executing a Digital Transformation Strategy with SAP S/4HANA®\\n“The path to digital transformation begins with agile \\nand efficient business management .  This was one \\nof the main drivers to migrate our SAP system to the latest SAP S/4HANA software, a totally remodeled version that’s faster and simpler and provides several possibilities to improve our processes.”\\nAnamaria Ferreira de Oliveira, Information Systems Coordinator, Celulose Nipo-Brasileira S.A.  (CENIBRA)\\n95% \\nProductivity gain for \\nclosing reporting procedures11 hours\\nSaved in the generation of payroll reports\\nCelulose Nipo -Brasileira \\nS.A.  (CENIBRA) \\nMinas Gerais, Brazil \\nwww.cenibra.com.brIndustryMill products Employees\\n4,500Revenue\\nUS$560 millionProducts and Services\\nPulp and paper production Featured Solutions and Services SAP S/4HANA and SAP Services and Support\\nPUBLIC | 78152enUS (21/11) © 2021 SAP SE or an SAP affiliate company. \\n sap.com/terms -of-use', 'original_sentence': '(CENIBRA) \\nMinas Gerais, Brazil \\nwww.cenibra.com.brIndustryMill products Employees\\n4,500Revenue\\nUS$560 millionProducts and Services\\nPulp and paper production Featured Solutions and Services SAP S/4HANA and SAP Services and Support\\nPUBLIC | 78152enUS (21/11) © 2021 SAP SE or an SAP affiliate company. \\n'}, excluded_embed_metadata_keys=['file_name', 'file_type', 'file_size', 'creation_date', 'last_modified_date', 'last_accessed_date', 'window', 'original_sentence'], excluded_llm_metadata_keys=['file_name', 'file_type', 'file_size', 'creation_date', 'last_modified_date', 'last_accessed_date', 'window', 'original_sentence'], relationships={<NodeRelationship.SOURCE: '1'>: RelatedNodeInfo(node_id='8800c217-13a4-441e-b062-8ece17afdf8d', node_type=<ObjectType.DOCUMENT: '4'>, metadata={'page_label': '2', 'file_name': 'CENIBRA_ Taking the Next Steps Toward Sustainable Excellence with Intelligent Technologies.pdf', 'file_path': '/home/jupyter/Untitled Folder/SAP/CENIBRA_ Taking the Next Steps Toward Sustainable Excellence with Intelligent Technologies.pdf', 'file_type': 'application/pdf', 'file_size': 434369, 'creation_date': '2024-08-15', 'last_modified_date': '2024-08-15'}, hash='a9f537e3f35c803e7b1ac6c487ab52c7aa3995d35290e20665fca9f792771e8a'), <NodeRelationship.PREVIOUS: '2'>: RelatedNodeInfo(node_id='471df38f-2a76-40a0-b209-de7b535b664b', node_type=<ObjectType.TEXT: '1'>, metadata={'page_label': '2', 'file_name': 'CENIBRA_ Taking the Next Steps Toward Sustainable Excellence with Intelligent Technologies.pdf', 'file_path': '/home/jupyter/Untitled Folder/SAP/CENIBRA_ Taking the Next Steps Toward Sustainable Excellence with Intelligent Technologies.pdf', 'file_type': 'application/pdf', 'file_size': 434369, 'creation_date': '2024-08-15', 'last_modified_date': '2024-08-15', 'window': 'Before: Challenges and Opportunities\\n•Aging ERP system that couldn’t meet the latest market requirements and lacked digital functions \\n•Opportunity to decrease operational efforts for new IT developments and enable daily reports\\n•Need for easier ways to integrate processes and people, such as a stronger use of mobile technology \\n•Desire to move logistics company CENIBRA Logística from its legacy ERP system to SAP S/4HANA®\\nWhy SAP\\n•SAP S/4HANA, which includes the latest digital capabilities that bring flexibility and productivity to \\nCENIBRA’s IT department\\n•SAP®Value Assurance program for a faster implementation, quality assurance, best practice selection, \\nand knowledge transfer\\n•Ability to reduce manual efforts with SAP S/4HANA and SAP Fiori®apps \\nAfter: Value -Driven Results\\n•Single source of truth for customers and suppliers\\n•Flexible and faster cash- flow evaluation\\n•Improved operations thanks to best practices from the SAP Extended Warehouse Management and SAP Transportation Management applications \\n•Simplification of financial processes to accelerate monthly closing and greater financial insight, enabling 73% faster payroll report generation that considers complex legislation and 4,500 employees\\n•Improvement in asset management, providing more integrated management of depreciation and usage\\n•More -efficient IT process management using SAP Solution Manager and focused developments Executing a Digital Transformation Strategy with SAP S/4HANA®\\n“The path to digital transformation begins with agile \\nand efficient business management .  This was one \\nof the main drivers to migrate our SAP system to the latest SAP S/4HANA software, a totally remodeled version that’s faster and simpler and provides several possibilities to improve our processes.”\\nAnamaria Ferreira de Oliveira, Information Systems Coordinator, Celulose Nipo-Brasileira S.A.  (CENIBRA)\\n95% \\nProductivity gain for \\nclosing reporting procedures11 hours\\nSaved in the generation of payroll reports\\nCelulose Nipo -Brasileira \\nS.A.  (CENIBRA) \\nMinas Gerais, Brazil \\nwww.cenibra.com.brIndustryMill products Employees\\n4,500Revenue\\nUS$560 millionProducts and Services\\nPulp and paper production Featured Solutions and Services SAP S/4HANA and SAP Services and Support\\nPUBLIC | 78152enUS (21/11) © 2021 SAP SE or an SAP affiliate company. \\n sap.com/terms -of-use', 'original_sentence': '(CENIBRA)\\n95% \\nProductivity gain for \\nclosing reporting procedures11 hours\\nSaved in the generation of payroll reports\\nCelulose Nipo -Brasileira \\nS.A. '}, hash='678543a81c272ce34009e063c6977cd0035f8979fbf6af5c4d1d7bfa843a55f6'), <NodeRelationship.NEXT: '3'>: RelatedNodeInfo(node_id='20d8d06a-e60c-4ca3-9d61-b9105be6e75f', node_type=<ObjectType.TEXT: '1'>, metadata={'window': 'This was one \\nof the main drivers to migrate our SAP system to the latest SAP S/4HANA software, a totally remodeled version that’s faster and simpler and provides several possibilities to improve our processes.”\\nAnamaria Ferreira de Oliveira, Information Systems Coordinator, Celulose Nipo-Brasileira S.A.  (CENIBRA)\\n95% \\nProductivity gain for \\nclosing reporting procedures11 hours\\nSaved in the generation of payroll reports\\nCelulose Nipo -Brasileira \\nS.A.  (CENIBRA) \\nMinas Gerais, Brazil \\nwww.cenibra.com.brIndustryMill products Employees\\n4,500Revenue\\nUS$560 millionProducts and Services\\nPulp and paper production Featured Solutions and Services SAP S/4HANA and SAP Services and Support\\nPUBLIC | 78152enUS (21/11) © 2021 SAP SE or an SAP affiliate company. \\n sap.com/terms -of-use', 'original_sentence': 'sap.com/terms -of-use'}, hash='0e4cf67e8d9cb261f51100a53da3691fe598593f9cc88cbde6f2c229f475c2f9')}, text='(CENIBRA) \\nMinas Gerais, Brazil \\nwww.cenibra.com.brIndustryMill products Employees\\n4,500Revenue\\nUS$560 millionProducts and Services\\nPulp and paper production Featured Solutions and Services SAP S/4HANA and SAP Services and Support\\nPUBLIC | 78152enUS (21/11) © 2021 SAP SE or an SAP affiliate company. \\n', mimetype='text/plain', start_char_idx=2019, end_char_idx=2321, text_template='{metadata_str}\\n\\n{content}', metadata_template='{key}: {value}', metadata_seperator='\\n'),\n",
       " TextNode(id_='20d8d06a-e60c-4ca3-9d61-b9105be6e75f', embedding=None, metadata={'page_label': '2', 'file_name': 'CENIBRA_ Taking the Next Steps Toward Sustainable Excellence with Intelligent Technologies.pdf', 'file_path': '/home/jupyter/Untitled Folder/SAP/CENIBRA_ Taking the Next Steps Toward Sustainable Excellence with Intelligent Technologies.pdf', 'file_type': 'application/pdf', 'file_size': 434369, 'creation_date': '2024-08-15', 'last_modified_date': '2024-08-15', 'window': 'This was one \\nof the main drivers to migrate our SAP system to the latest SAP S/4HANA software, a totally remodeled version that’s faster and simpler and provides several possibilities to improve our processes.”\\nAnamaria Ferreira de Oliveira, Information Systems Coordinator, Celulose Nipo-Brasileira S.A.  (CENIBRA)\\n95% \\nProductivity gain for \\nclosing reporting procedures11 hours\\nSaved in the generation of payroll reports\\nCelulose Nipo -Brasileira \\nS.A.  (CENIBRA) \\nMinas Gerais, Brazil \\nwww.cenibra.com.brIndustryMill products Employees\\n4,500Revenue\\nUS$560 millionProducts and Services\\nPulp and paper production Featured Solutions and Services SAP S/4HANA and SAP Services and Support\\nPUBLIC | 78152enUS (21/11) © 2021 SAP SE or an SAP affiliate company. \\n sap.com/terms -of-use', 'original_sentence': 'sap.com/terms -of-use'}, excluded_embed_metadata_keys=['file_name', 'file_type', 'file_size', 'creation_date', 'last_modified_date', 'last_accessed_date', 'window', 'original_sentence'], excluded_llm_metadata_keys=['file_name', 'file_type', 'file_size', 'creation_date', 'last_modified_date', 'last_accessed_date', 'window', 'original_sentence'], relationships={<NodeRelationship.SOURCE: '1'>: RelatedNodeInfo(node_id='8800c217-13a4-441e-b062-8ece17afdf8d', node_type=<ObjectType.DOCUMENT: '4'>, metadata={'page_label': '2', 'file_name': 'CENIBRA_ Taking the Next Steps Toward Sustainable Excellence with Intelligent Technologies.pdf', 'file_path': '/home/jupyter/Untitled Folder/SAP/CENIBRA_ Taking the Next Steps Toward Sustainable Excellence with Intelligent Technologies.pdf', 'file_type': 'application/pdf', 'file_size': 434369, 'creation_date': '2024-08-15', 'last_modified_date': '2024-08-15'}, hash='a9f537e3f35c803e7b1ac6c487ab52c7aa3995d35290e20665fca9f792771e8a'), <NodeRelationship.PREVIOUS: '2'>: RelatedNodeInfo(node_id='935de484-77f9-45e5-8b59-7081a66add87', node_type=<ObjectType.TEXT: '1'>, metadata={'page_label': '2', 'file_name': 'CENIBRA_ Taking the Next Steps Toward Sustainable Excellence with Intelligent Technologies.pdf', 'file_path': '/home/jupyter/Untitled Folder/SAP/CENIBRA_ Taking the Next Steps Toward Sustainable Excellence with Intelligent Technologies.pdf', 'file_type': 'application/pdf', 'file_size': 434369, 'creation_date': '2024-08-15', 'last_modified_date': '2024-08-15', 'window': 'Before: Challenges and Opportunities\\n•Aging ERP system that couldn’t meet the latest market requirements and lacked digital functions \\n•Opportunity to decrease operational efforts for new IT developments and enable daily reports\\n•Need for easier ways to integrate processes and people, such as a stronger use of mobile technology \\n•Desire to move logistics company CENIBRA Logística from its legacy ERP system to SAP S/4HANA®\\nWhy SAP\\n•SAP S/4HANA, which includes the latest digital capabilities that bring flexibility and productivity to \\nCENIBRA’s IT department\\n•SAP®Value Assurance program for a faster implementation, quality assurance, best practice selection, \\nand knowledge transfer\\n•Ability to reduce manual efforts with SAP S/4HANA and SAP Fiori®apps \\nAfter: Value -Driven Results\\n•Single source of truth for customers and suppliers\\n•Flexible and faster cash- flow evaluation\\n•Improved operations thanks to best practices from the SAP Extended Warehouse Management and SAP Transportation Management applications \\n•Simplification of financial processes to accelerate monthly closing and greater financial insight, enabling 73% faster payroll report generation that considers complex legislation and 4,500 employees\\n•Improvement in asset management, providing more integrated management of depreciation and usage\\n•More -efficient IT process management using SAP Solution Manager and focused developments Executing a Digital Transformation Strategy with SAP S/4HANA®\\n“The path to digital transformation begins with agile \\nand efficient business management .  This was one \\nof the main drivers to migrate our SAP system to the latest SAP S/4HANA software, a totally remodeled version that’s faster and simpler and provides several possibilities to improve our processes.”\\nAnamaria Ferreira de Oliveira, Information Systems Coordinator, Celulose Nipo-Brasileira S.A.  (CENIBRA)\\n95% \\nProductivity gain for \\nclosing reporting procedures11 hours\\nSaved in the generation of payroll reports\\nCelulose Nipo -Brasileira \\nS.A.  (CENIBRA) \\nMinas Gerais, Brazil \\nwww.cenibra.com.brIndustryMill products Employees\\n4,500Revenue\\nUS$560 millionProducts and Services\\nPulp and paper production Featured Solutions and Services SAP S/4HANA and SAP Services and Support\\nPUBLIC | 78152enUS (21/11) © 2021 SAP SE or an SAP affiliate company. \\n sap.com/terms -of-use', 'original_sentence': '(CENIBRA) \\nMinas Gerais, Brazil \\nwww.cenibra.com.brIndustryMill products Employees\\n4,500Revenue\\nUS$560 millionProducts and Services\\nPulp and paper production Featured Solutions and Services SAP S/4HANA and SAP Services and Support\\nPUBLIC | 78152enUS (21/11) © 2021 SAP SE or an SAP affiliate company. \\n'}, hash='3ab8be9b79e63875de1058d8030a0b096b333eef4078b69fa7a671973e52548d')}, text='sap.com/terms -of-use', mimetype='text/plain', start_char_idx=2321, end_char_idx=2342, text_template='{metadata_str}\\n\\n{content}', metadata_template='{key}: {value}', metadata_seperator='\\n'),\n",
       " TextNode(id_='cd8c7292-2f5b-44dc-9e3a-e9461089fd3a', embedding=None, metadata={'page_label': '3', 'file_name': 'CENIBRA_ Taking the Next Steps Toward Sustainable Excellence with Intelligent Technologies.pdf', 'file_path': '/home/jupyter/Untitled Folder/SAP/CENIBRA_ Taking the Next Steps Toward Sustainable Excellence with Intelligent Technologies.pdf', 'file_type': 'application/pdf', 'file_size': 434369, 'creation_date': '2024-08-15', 'last_modified_date': '2024-08-15', 'window': 'One of the key challenges for Celulose Nipo -Brasileira S.A.  (CENIBRA) was increasing \\nproductivity at a company that is already recognized globally for its high standard of \\noperations.  The company is a merge of two cultures, Brazilian and Japanese, that resulted in a unique vision of a consistent business and pragmatic quality improvements.  SAP S/4HANA\\n®was a natural choice for its transformation, replacing the old ERP system \\nimplemented more than 17 years ago and integrating it with its logistics subsidiary, CENIBRA Logística. ', 'original_sentence': 'One of the key challenges for Celulose Nipo -Brasileira S.A. '}, excluded_embed_metadata_keys=['file_name', 'file_type', 'file_size', 'creation_date', 'last_modified_date', 'last_accessed_date', 'window', 'original_sentence'], excluded_llm_metadata_keys=['file_name', 'file_type', 'file_size', 'creation_date', 'last_modified_date', 'last_accessed_date', 'window', 'original_sentence'], relationships={<NodeRelationship.SOURCE: '1'>: RelatedNodeInfo(node_id='ed6b1242-2a4d-42a9-adc8-cac0996a800a', node_type=<ObjectType.DOCUMENT: '4'>, metadata={'page_label': '3', 'file_name': 'CENIBRA_ Taking the Next Steps Toward Sustainable Excellence with Intelligent Technologies.pdf', 'file_path': '/home/jupyter/Untitled Folder/SAP/CENIBRA_ Taking the Next Steps Toward Sustainable Excellence with Intelligent Technologies.pdf', 'file_type': 'application/pdf', 'file_size': 434369, 'creation_date': '2024-08-15', 'last_modified_date': '2024-08-15'}, hash='16764ffea6e25e5293bcab5255ac07d964447809fb7f5aa4af29edbc79658f16'), <NodeRelationship.NEXT: '3'>: RelatedNodeInfo(node_id='52ad0121-9f48-46f3-8146-4819fafbb3bf', node_type=<ObjectType.TEXT: '1'>, metadata={'window': 'One of the key challenges for Celulose Nipo -Brasileira S.A.  (CENIBRA) was increasing \\nproductivity at a company that is already recognized globally for its high standard of \\noperations.  The company is a merge of two cultures, Brazilian and Japanese, that resulted in a unique vision of a consistent business and pragmatic quality improvements.  SAP S/4HANA\\n®was a natural choice for its transformation, replacing the old ERP system \\nimplemented more than 17 years ago and integrating it with its logistics subsidiary, CENIBRA Logística.  CENIBRA’s aim was to create both process synergies and new process designs to increase productivity.\\n', 'original_sentence': '(CENIBRA) was increasing \\nproductivity at a company that is already recognized globally for its high standard of \\noperations. '}, hash='29449c7adf18eb041f41d00efb5231565dcdfc7221019479d5eb18ce24f878bf')}, text='One of the key challenges for Celulose Nipo -Brasileira S.A. ', mimetype='text/plain', start_char_idx=0, end_char_idx=61, text_template='{metadata_str}\\n\\n{content}', metadata_template='{key}: {value}', metadata_seperator='\\n'),\n",
       " TextNode(id_='52ad0121-9f48-46f3-8146-4819fafbb3bf', embedding=None, metadata={'page_label': '3', 'file_name': 'CENIBRA_ Taking the Next Steps Toward Sustainable Excellence with Intelligent Technologies.pdf', 'file_path': '/home/jupyter/Untitled Folder/SAP/CENIBRA_ Taking the Next Steps Toward Sustainable Excellence with Intelligent Technologies.pdf', 'file_type': 'application/pdf', 'file_size': 434369, 'creation_date': '2024-08-15', 'last_modified_date': '2024-08-15', 'window': 'One of the key challenges for Celulose Nipo -Brasileira S.A.  (CENIBRA) was increasing \\nproductivity at a company that is already recognized globally for its high standard of \\noperations.  The company is a merge of two cultures, Brazilian and Japanese, that resulted in a unique vision of a consistent business and pragmatic quality improvements.  SAP S/4HANA\\n®was a natural choice for its transformation, replacing the old ERP system \\nimplemented more than 17 years ago and integrating it with its logistics subsidiary, CENIBRA Logística.  CENIBRA’s aim was to create both process synergies and new process designs to increase productivity.\\n', 'original_sentence': '(CENIBRA) was increasing \\nproductivity at a company that is already recognized globally for its high standard of \\noperations. '}, excluded_embed_metadata_keys=['file_name', 'file_type', 'file_size', 'creation_date', 'last_modified_date', 'last_accessed_date', 'window', 'original_sentence'], excluded_llm_metadata_keys=['file_name', 'file_type', 'file_size', 'creation_date', 'last_modified_date', 'last_accessed_date', 'window', 'original_sentence'], relationships={<NodeRelationship.SOURCE: '1'>: RelatedNodeInfo(node_id='ed6b1242-2a4d-42a9-adc8-cac0996a800a', node_type=<ObjectType.DOCUMENT: '4'>, metadata={'page_label': '3', 'file_name': 'CENIBRA_ Taking the Next Steps Toward Sustainable Excellence with Intelligent Technologies.pdf', 'file_path': '/home/jupyter/Untitled Folder/SAP/CENIBRA_ Taking the Next Steps Toward Sustainable Excellence with Intelligent Technologies.pdf', 'file_type': 'application/pdf', 'file_size': 434369, 'creation_date': '2024-08-15', 'last_modified_date': '2024-08-15'}, hash='16764ffea6e25e5293bcab5255ac07d964447809fb7f5aa4af29edbc79658f16'), <NodeRelationship.PREVIOUS: '2'>: RelatedNodeInfo(node_id='cd8c7292-2f5b-44dc-9e3a-e9461089fd3a', node_type=<ObjectType.TEXT: '1'>, metadata={'page_label': '3', 'file_name': 'CENIBRA_ Taking the Next Steps Toward Sustainable Excellence with Intelligent Technologies.pdf', 'file_path': '/home/jupyter/Untitled Folder/SAP/CENIBRA_ Taking the Next Steps Toward Sustainable Excellence with Intelligent Technologies.pdf', 'file_type': 'application/pdf', 'file_size': 434369, 'creation_date': '2024-08-15', 'last_modified_date': '2024-08-15', 'window': 'One of the key challenges for Celulose Nipo -Brasileira S.A.  (CENIBRA) was increasing \\nproductivity at a company that is already recognized globally for its high standard of \\noperations.  The company is a merge of two cultures, Brazilian and Japanese, that resulted in a unique vision of a consistent business and pragmatic quality improvements.  SAP S/4HANA\\n®was a natural choice for its transformation, replacing the old ERP system \\nimplemented more than 17 years ago and integrating it with its logistics subsidiary, CENIBRA Logística. ', 'original_sentence': 'One of the key challenges for Celulose Nipo -Brasileira S.A. '}, hash='2ce0cc7b0cb45a3e155a5b6b947711bbd4f63dd31879903c27c62e8163ee2e83'), <NodeRelationship.NEXT: '3'>: RelatedNodeInfo(node_id='58f7fc00-5579-4788-a6f8-5ce5ce8c25dc', node_type=<ObjectType.TEXT: '1'>, metadata={'window': 'One of the key challenges for Celulose Nipo -Brasileira S.A.  (CENIBRA) was increasing \\nproductivity at a company that is already recognized globally for its high standard of \\noperations.  The company is a merge of two cultures, Brazilian and Japanese, that resulted in a unique vision of a consistent business and pragmatic quality improvements.  SAP S/4HANA\\n®was a natural choice for its transformation, replacing the old ERP system \\nimplemented more than 17 years ago and integrating it with its logistics subsidiary, CENIBRA Logística.  CENIBRA’s aim was to create both process synergies and new process designs to increase productivity.\\n The 13 -month project covered all main processes, including sales, finance, production, \\nHR, purchasing, warehouse, transportation, project document management, and treasury and risk management. ', 'original_sentence': 'The company is a merge of two cultures, Brazilian and Japanese, that resulted in a unique vision of a consistent business and pragmatic quality improvements. '}, hash='1f6b2f73d8b04954ac5162abfa53a86c095c29a019e27db2833c9bfe9b4dec03')}, text='(CENIBRA) was increasing \\nproductivity at a company that is already recognized globally for its high standard of \\noperations. ', mimetype='text/plain', start_char_idx=61, end_char_idx=187, text_template='{metadata_str}\\n\\n{content}', metadata_template='{key}: {value}', metadata_seperator='\\n'),\n",
       " TextNode(id_='58f7fc00-5579-4788-a6f8-5ce5ce8c25dc', embedding=None, metadata={'page_label': '3', 'file_name': 'CENIBRA_ Taking the Next Steps Toward Sustainable Excellence with Intelligent Technologies.pdf', 'file_path': '/home/jupyter/Untitled Folder/SAP/CENIBRA_ Taking the Next Steps Toward Sustainable Excellence with Intelligent Technologies.pdf', 'file_type': 'application/pdf', 'file_size': 434369, 'creation_date': '2024-08-15', 'last_modified_date': '2024-08-15', 'window': 'One of the key challenges for Celulose Nipo -Brasileira S.A.  (CENIBRA) was increasing \\nproductivity at a company that is already recognized globally for its high standard of \\noperations.  The company is a merge of two cultures, Brazilian and Japanese, that resulted in a unique vision of a consistent business and pragmatic quality improvements.  SAP S/4HANA\\n®was a natural choice for its transformation, replacing the old ERP system \\nimplemented more than 17 years ago and integrating it with its logistics subsidiary, CENIBRA Logística.  CENIBRA’s aim was to create both process synergies and new process designs to increase productivity.\\n The 13 -month project covered all main processes, including sales, finance, production, \\nHR, purchasing, warehouse, transportation, project document management, and treasury and risk management. ', 'original_sentence': 'The company is a merge of two cultures, Brazilian and Japanese, that resulted in a unique vision of a consistent business and pragmatic quality improvements. '}, excluded_embed_metadata_keys=['file_name', 'file_type', 'file_size', 'creation_date', 'last_modified_date', 'last_accessed_date', 'window', 'original_sentence'], excluded_llm_metadata_keys=['file_name', 'file_type', 'file_size', 'creation_date', 'last_modified_date', 'last_accessed_date', 'window', 'original_sentence'], relationships={<NodeRelationship.SOURCE: '1'>: RelatedNodeInfo(node_id='ed6b1242-2a4d-42a9-adc8-cac0996a800a', node_type=<ObjectType.DOCUMENT: '4'>, metadata={'page_label': '3', 'file_name': 'CENIBRA_ Taking the Next Steps Toward Sustainable Excellence with Intelligent Technologies.pdf', 'file_path': '/home/jupyter/Untitled Folder/SAP/CENIBRA_ Taking the Next Steps Toward Sustainable Excellence with Intelligent Technologies.pdf', 'file_type': 'application/pdf', 'file_size': 434369, 'creation_date': '2024-08-15', 'last_modified_date': '2024-08-15'}, hash='16764ffea6e25e5293bcab5255ac07d964447809fb7f5aa4af29edbc79658f16'), <NodeRelationship.PREVIOUS: '2'>: RelatedNodeInfo(node_id='52ad0121-9f48-46f3-8146-4819fafbb3bf', node_type=<ObjectType.TEXT: '1'>, metadata={'page_label': '3', 'file_name': 'CENIBRA_ Taking the Next Steps Toward Sustainable Excellence with Intelligent Technologies.pdf', 'file_path': '/home/jupyter/Untitled Folder/SAP/CENIBRA_ Taking the Next Steps Toward Sustainable Excellence with Intelligent Technologies.pdf', 'file_type': 'application/pdf', 'file_size': 434369, 'creation_date': '2024-08-15', 'last_modified_date': '2024-08-15', 'window': 'One of the key challenges for Celulose Nipo -Brasileira S.A.  (CENIBRA) was increasing \\nproductivity at a company that is already recognized globally for its high standard of \\noperations.  The company is a merge of two cultures, Brazilian and Japanese, that resulted in a unique vision of a consistent business and pragmatic quality improvements.  SAP S/4HANA\\n®was a natural choice for its transformation, replacing the old ERP system \\nimplemented more than 17 years ago and integrating it with its logistics subsidiary, CENIBRA Logística.  CENIBRA’s aim was to create both process synergies and new process designs to increase productivity.\\n', 'original_sentence': '(CENIBRA) was increasing \\nproductivity at a company that is already recognized globally for its high standard of \\noperations. '}, hash='5629267ccfa28cda24555bb322fa9e3c80adbad26baa4adaf9bb67e3dee325c9'), <NodeRelationship.NEXT: '3'>: RelatedNodeInfo(node_id='0791d0e5-5aef-43c1-a05c-10ea959249ac', node_type=<ObjectType.TEXT: '1'>, metadata={'window': 'One of the key challenges for Celulose Nipo -Brasileira S.A.  (CENIBRA) was increasing \\nproductivity at a company that is already recognized globally for its high standard of \\noperations.  The company is a merge of two cultures, Brazilian and Japanese, that resulted in a unique vision of a consistent business and pragmatic quality improvements.  SAP S/4HANA\\n®was a natural choice for its transformation, replacing the old ERP system \\nimplemented more than 17 years ago and integrating it with its logistics subsidiary, CENIBRA Logística.  CENIBRA’s aim was to create both process synergies and new process designs to increase productivity.\\n The 13 -month project covered all main processes, including sales, finance, production, \\nHR, purchasing, warehouse, transportation, project document management, and treasury and risk management.  Even with challenges due to the COVID -19 pandemic, the team \\nwas able to work virtually and deliver the results as planned.\\n', 'original_sentence': 'SAP S/4HANA\\n®was a natural choice for its transformation, replacing the old ERP system \\nimplemented more than 17 years ago and integrating it with its logistics subsidiary, CENIBRA Logística. '}, hash='54d06f815a98c2c5fadf4f6d1c05d8d25bd82ca2fc3e5bc0c91b6ea37df1797e')}, text='The company is a merge of two cultures, Brazilian and Japanese, that resulted in a unique vision of a consistent business and pragmatic quality improvements. ', mimetype='text/plain', start_char_idx=187, end_char_idx=345, text_template='{metadata_str}\\n\\n{content}', metadata_template='{key}: {value}', metadata_seperator='\\n'),\n",
       " TextNode(id_='0791d0e5-5aef-43c1-a05c-10ea959249ac', embedding=None, metadata={'page_label': '3', 'file_name': 'CENIBRA_ Taking the Next Steps Toward Sustainable Excellence with Intelligent Technologies.pdf', 'file_path': '/home/jupyter/Untitled Folder/SAP/CENIBRA_ Taking the Next Steps Toward Sustainable Excellence with Intelligent Technologies.pdf', 'file_type': 'application/pdf', 'file_size': 434369, 'creation_date': '2024-08-15', 'last_modified_date': '2024-08-15', 'window': 'One of the key challenges for Celulose Nipo -Brasileira S.A.  (CENIBRA) was increasing \\nproductivity at a company that is already recognized globally for its high standard of \\noperations.  The company is a merge of two cultures, Brazilian and Japanese, that resulted in a unique vision of a consistent business and pragmatic quality improvements.  SAP S/4HANA\\n®was a natural choice for its transformation, replacing the old ERP system \\nimplemented more than 17 years ago and integrating it with its logistics subsidiary, CENIBRA Logística.  CENIBRA’s aim was to create both process synergies and new process designs to increase productivity.\\n The 13 -month project covered all main processes, including sales, finance, production, \\nHR, purchasing, warehouse, transportation, project document management, and treasury and risk management.  Even with challenges due to the COVID -19 pandemic, the team \\nwas able to work virtually and deliver the results as planned.\\n', 'original_sentence': 'SAP S/4HANA\\n®was a natural choice for its transformation, replacing the old ERP system \\nimplemented more than 17 years ago and integrating it with its logistics subsidiary, CENIBRA Logística. '}, excluded_embed_metadata_keys=['file_name', 'file_type', 'file_size', 'creation_date', 'last_modified_date', 'last_accessed_date', 'window', 'original_sentence'], excluded_llm_metadata_keys=['file_name', 'file_type', 'file_size', 'creation_date', 'last_modified_date', 'last_accessed_date', 'window', 'original_sentence'], relationships={<NodeRelationship.SOURCE: '1'>: RelatedNodeInfo(node_id='ed6b1242-2a4d-42a9-adc8-cac0996a800a', node_type=<ObjectType.DOCUMENT: '4'>, metadata={'page_label': '3', 'file_name': 'CENIBRA_ Taking the Next Steps Toward Sustainable Excellence with Intelligent Technologies.pdf', 'file_path': '/home/jupyter/Untitled Folder/SAP/CENIBRA_ Taking the Next Steps Toward Sustainable Excellence with Intelligent Technologies.pdf', 'file_type': 'application/pdf', 'file_size': 434369, 'creation_date': '2024-08-15', 'last_modified_date': '2024-08-15'}, hash='16764ffea6e25e5293bcab5255ac07d964447809fb7f5aa4af29edbc79658f16'), <NodeRelationship.PREVIOUS: '2'>: RelatedNodeInfo(node_id='58f7fc00-5579-4788-a6f8-5ce5ce8c25dc', node_type=<ObjectType.TEXT: '1'>, metadata={'page_label': '3', 'file_name': 'CENIBRA_ Taking the Next Steps Toward Sustainable Excellence with Intelligent Technologies.pdf', 'file_path': '/home/jupyter/Untitled Folder/SAP/CENIBRA_ Taking the Next Steps Toward Sustainable Excellence with Intelligent Technologies.pdf', 'file_type': 'application/pdf', 'file_size': 434369, 'creation_date': '2024-08-15', 'last_modified_date': '2024-08-15', 'window': 'One of the key challenges for Celulose Nipo -Brasileira S.A.  (CENIBRA) was increasing \\nproductivity at a company that is already recognized globally for its high standard of \\noperations.  The company is a merge of two cultures, Brazilian and Japanese, that resulted in a unique vision of a consistent business and pragmatic quality improvements.  SAP S/4HANA\\n®was a natural choice for its transformation, replacing the old ERP system \\nimplemented more than 17 years ago and integrating it with its logistics subsidiary, CENIBRA Logística.  CENIBRA’s aim was to create both process synergies and new process designs to increase productivity.\\n The 13 -month project covered all main processes, including sales, finance, production, \\nHR, purchasing, warehouse, transportation, project document management, and treasury and risk management. ', 'original_sentence': 'The company is a merge of two cultures, Brazilian and Japanese, that resulted in a unique vision of a consistent business and pragmatic quality improvements. '}, hash='3195a62f4e4601bbb7853511eceb37933de77bf149a4bf6e8d479b1d58c5bb53'), <NodeRelationship.NEXT: '3'>: RelatedNodeInfo(node_id='db838424-ab84-4917-8c01-49bb4c76fd72', node_type=<ObjectType.TEXT: '1'>, metadata={'window': '(CENIBRA) was increasing \\nproductivity at a company that is already recognized globally for its high standard of \\noperations.  The company is a merge of two cultures, Brazilian and Japanese, that resulted in a unique vision of a consistent business and pragmatic quality improvements.  SAP S/4HANA\\n®was a natural choice for its transformation, replacing the old ERP system \\nimplemented more than 17 years ago and integrating it with its logistics subsidiary, CENIBRA Logística.  CENIBRA’s aim was to create both process synergies and new process designs to increase productivity.\\n The 13 -month project covered all main processes, including sales, finance, production, \\nHR, purchasing, warehouse, transportation, project document management, and treasury and risk management.  Even with challenges due to the COVID -19 pandemic, the team \\nwas able to work virtually and deliver the results as planned.\\n CENIBRA simplified its processes and increased customer service levels by adopting 320 \\nSAP Fiori\\n®apps and mobile technology. ', 'original_sentence': 'CENIBRA’s aim was to create both process synergies and new process designs to increase productivity.\\n'}, hash='38f1be426abe710a549c74624a667450176d3a9d617713fe10bfa3d62f3b3a7e')}, text='SAP S/4HANA\\n®was a natural choice for its transformation, replacing the old ERP system \\nimplemented more than 17 years ago and integrating it with its logistics subsidiary, CENIBRA Logística. ', mimetype='text/plain', start_char_idx=345, end_char_idx=537, text_template='{metadata_str}\\n\\n{content}', metadata_template='{key}: {value}', metadata_seperator='\\n'),\n",
       " TextNode(id_='db838424-ab84-4917-8c01-49bb4c76fd72', embedding=None, metadata={'page_label': '3', 'file_name': 'CENIBRA_ Taking the Next Steps Toward Sustainable Excellence with Intelligent Technologies.pdf', 'file_path': '/home/jupyter/Untitled Folder/SAP/CENIBRA_ Taking the Next Steps Toward Sustainable Excellence with Intelligent Technologies.pdf', 'file_type': 'application/pdf', 'file_size': 434369, 'creation_date': '2024-08-15', 'last_modified_date': '2024-08-15', 'window': '(CENIBRA) was increasing \\nproductivity at a company that is already recognized globally for its high standard of \\noperations.  The company is a merge of two cultures, Brazilian and Japanese, that resulted in a unique vision of a consistent business and pragmatic quality improvements.  SAP S/4HANA\\n®was a natural choice for its transformation, replacing the old ERP system \\nimplemented more than 17 years ago and integrating it with its logistics subsidiary, CENIBRA Logística.  CENIBRA’s aim was to create both process synergies and new process designs to increase productivity.\\n The 13 -month project covered all main processes, including sales, finance, production, \\nHR, purchasing, warehouse, transportation, project document management, and treasury and risk management.  Even with challenges due to the COVID -19 pandemic, the team \\nwas able to work virtually and deliver the results as planned.\\n CENIBRA simplified its processes and increased customer service levels by adopting 320 \\nSAP Fiori\\n®apps and mobile technology. ', 'original_sentence': 'CENIBRA’s aim was to create both process synergies and new process designs to increase productivity.\\n'}, excluded_embed_metadata_keys=['file_name', 'file_type', 'file_size', 'creation_date', 'last_modified_date', 'last_accessed_date', 'window', 'original_sentence'], excluded_llm_metadata_keys=['file_name', 'file_type', 'file_size', 'creation_date', 'last_modified_date', 'last_accessed_date', 'window', 'original_sentence'], relationships={<NodeRelationship.SOURCE: '1'>: RelatedNodeInfo(node_id='ed6b1242-2a4d-42a9-adc8-cac0996a800a', node_type=<ObjectType.DOCUMENT: '4'>, metadata={'page_label': '3', 'file_name': 'CENIBRA_ Taking the Next Steps Toward Sustainable Excellence with Intelligent Technologies.pdf', 'file_path': '/home/jupyter/Untitled Folder/SAP/CENIBRA_ Taking the Next Steps Toward Sustainable Excellence with Intelligent Technologies.pdf', 'file_type': 'application/pdf', 'file_size': 434369, 'creation_date': '2024-08-15', 'last_modified_date': '2024-08-15'}, hash='16764ffea6e25e5293bcab5255ac07d964447809fb7f5aa4af29edbc79658f16'), <NodeRelationship.PREVIOUS: '2'>: RelatedNodeInfo(node_id='0791d0e5-5aef-43c1-a05c-10ea959249ac', node_type=<ObjectType.TEXT: '1'>, metadata={'page_label': '3', 'file_name': 'CENIBRA_ Taking the Next Steps Toward Sustainable Excellence with Intelligent Technologies.pdf', 'file_path': '/home/jupyter/Untitled Folder/SAP/CENIBRA_ Taking the Next Steps Toward Sustainable Excellence with Intelligent Technologies.pdf', 'file_type': 'application/pdf', 'file_size': 434369, 'creation_date': '2024-08-15', 'last_modified_date': '2024-08-15', 'window': 'One of the key challenges for Celulose Nipo -Brasileira S.A.  (CENIBRA) was increasing \\nproductivity at a company that is already recognized globally for its high standard of \\noperations.  The company is a merge of two cultures, Brazilian and Japanese, that resulted in a unique vision of a consistent business and pragmatic quality improvements.  SAP S/4HANA\\n®was a natural choice for its transformation, replacing the old ERP system \\nimplemented more than 17 years ago and integrating it with its logistics subsidiary, CENIBRA Logística.  CENIBRA’s aim was to create both process synergies and new process designs to increase productivity.\\n The 13 -month project covered all main processes, including sales, finance, production, \\nHR, purchasing, warehouse, transportation, project document management, and treasury and risk management.  Even with challenges due to the COVID -19 pandemic, the team \\nwas able to work virtually and deliver the results as planned.\\n', 'original_sentence': 'SAP S/4HANA\\n®was a natural choice for its transformation, replacing the old ERP system \\nimplemented more than 17 years ago and integrating it with its logistics subsidiary, CENIBRA Logística. '}, hash='8aff6ce8fb71f65d53a8bde93f25566de0071a6f1249ef1fc7d7554a26510b7a'), <NodeRelationship.NEXT: '3'>: RelatedNodeInfo(node_id='e034981b-d8d1-4f4c-9936-d6eedec967a0', node_type=<ObjectType.TEXT: '1'>, metadata={'window': 'The company is a merge of two cultures, Brazilian and Japanese, that resulted in a unique vision of a consistent business and pragmatic quality improvements.  SAP S/4HANA\\n®was a natural choice for its transformation, replacing the old ERP system \\nimplemented more than 17 years ago and integrating it with its logistics subsidiary, CENIBRA Logística.  CENIBRA’s aim was to create both process synergies and new process designs to increase productivity.\\n The 13 -month project covered all main processes, including sales, finance, production, \\nHR, purchasing, warehouse, transportation, project document management, and treasury and risk management.  Even with challenges due to the COVID -19 pandemic, the team \\nwas able to work virtually and deliver the results as planned.\\n CENIBRA simplified its processes and increased customer service levels by adopting 320 \\nSAP Fiori\\n®apps and mobile technology.  Processes such as maintenance, finance, and \\nlogistics have benefited from the new technology, with the focus changed from manual \\nwork to a better evaluation of business scenarios and streamlined decision -making.Enabling Next -Level Productivity by Simplifying \\nand Integrating Processes\\nProcesses with \\nSAP Fiori appsFaster generation of the maintenance plan, benefiting several capital -intensive \\nprocesses99%“Simplification, increased performance of \\nbusiness processes, and preparation for the next steps of the transformation were the main \\nneeds of the business ,but we also sought to \\nimprove the user experience. ', 'original_sentence': 'The 13 -month project covered all main processes, including sales, finance, production, \\nHR, purchasing, warehouse, transportation, project document management, and treasury and risk management. '}, hash='7ebab42f1875b0428c3af9ee59d0c27aa4e9e775018cc66c9604b36c660b1261')}, text='CENIBRA’s aim was to create both process synergies and new process designs to increase productivity.\\n', mimetype='text/plain', start_char_idx=537, end_char_idx=638, text_template='{metadata_str}\\n\\n{content}', metadata_template='{key}: {value}', metadata_seperator='\\n'),\n",
       " TextNode(id_='e034981b-d8d1-4f4c-9936-d6eedec967a0', embedding=None, metadata={'page_label': '3', 'file_name': 'CENIBRA_ Taking the Next Steps Toward Sustainable Excellence with Intelligent Technologies.pdf', 'file_path': '/home/jupyter/Untitled Folder/SAP/CENIBRA_ Taking the Next Steps Toward Sustainable Excellence with Intelligent Technologies.pdf', 'file_type': 'application/pdf', 'file_size': 434369, 'creation_date': '2024-08-15', 'last_modified_date': '2024-08-15', 'window': 'The company is a merge of two cultures, Brazilian and Japanese, that resulted in a unique vision of a consistent business and pragmatic quality improvements.  SAP S/4HANA\\n®was a natural choice for its transformation, replacing the old ERP system \\nimplemented more than 17 years ago and integrating it with its logistics subsidiary, CENIBRA Logística.  CENIBRA’s aim was to create both process synergies and new process designs to increase productivity.\\n The 13 -month project covered all main processes, including sales, finance, production, \\nHR, purchasing, warehouse, transportation, project document management, and treasury and risk management.  Even with challenges due to the COVID -19 pandemic, the team \\nwas able to work virtually and deliver the results as planned.\\n CENIBRA simplified its processes and increased customer service levels by adopting 320 \\nSAP Fiori\\n®apps and mobile technology.  Processes such as maintenance, finance, and \\nlogistics have benefited from the new technology, with the focus changed from manual \\nwork to a better evaluation of business scenarios and streamlined decision -making.Enabling Next -Level Productivity by Simplifying \\nand Integrating Processes\\nProcesses with \\nSAP Fiori appsFaster generation of the maintenance plan, benefiting several capital -intensive \\nprocesses99%“Simplification, increased performance of \\nbusiness processes, and preparation for the next steps of the transformation were the main \\nneeds of the business ,but we also sought to \\nimprove the user experience. ', 'original_sentence': 'The 13 -month project covered all main processes, including sales, finance, production, \\nHR, purchasing, warehouse, transportation, project document management, and treasury and risk management. '}, excluded_embed_metadata_keys=['file_name', 'file_type', 'file_size', 'creation_date', 'last_modified_date', 'last_accessed_date', 'window', 'original_sentence'], excluded_llm_metadata_keys=['file_name', 'file_type', 'file_size', 'creation_date', 'last_modified_date', 'last_accessed_date', 'window', 'original_sentence'], relationships={<NodeRelationship.SOURCE: '1'>: RelatedNodeInfo(node_id='ed6b1242-2a4d-42a9-adc8-cac0996a800a', node_type=<ObjectType.DOCUMENT: '4'>, metadata={'page_label': '3', 'file_name': 'CENIBRA_ Taking the Next Steps Toward Sustainable Excellence with Intelligent Technologies.pdf', 'file_path': '/home/jupyter/Untitled Folder/SAP/CENIBRA_ Taking the Next Steps Toward Sustainable Excellence with Intelligent Technologies.pdf', 'file_type': 'application/pdf', 'file_size': 434369, 'creation_date': '2024-08-15', 'last_modified_date': '2024-08-15'}, hash='16764ffea6e25e5293bcab5255ac07d964447809fb7f5aa4af29edbc79658f16'), <NodeRelationship.PREVIOUS: '2'>: RelatedNodeInfo(node_id='db838424-ab84-4917-8c01-49bb4c76fd72', node_type=<ObjectType.TEXT: '1'>, metadata={'page_label': '3', 'file_name': 'CENIBRA_ Taking the Next Steps Toward Sustainable Excellence with Intelligent Technologies.pdf', 'file_path': '/home/jupyter/Untitled Folder/SAP/CENIBRA_ Taking the Next Steps Toward Sustainable Excellence with Intelligent Technologies.pdf', 'file_type': 'application/pdf', 'file_size': 434369, 'creation_date': '2024-08-15', 'last_modified_date': '2024-08-15', 'window': '(CENIBRA) was increasing \\nproductivity at a company that is already recognized globally for its high standard of \\noperations.  The company is a merge of two cultures, Brazilian and Japanese, that resulted in a unique vision of a consistent business and pragmatic quality improvements.  SAP S/4HANA\\n®was a natural choice for its transformation, replacing the old ERP system \\nimplemented more than 17 years ago and integrating it with its logistics subsidiary, CENIBRA Logística.  CENIBRA’s aim was to create both process synergies and new process designs to increase productivity.\\n The 13 -month project covered all main processes, including sales, finance, production, \\nHR, purchasing, warehouse, transportation, project document management, and treasury and risk management.  Even with challenges due to the COVID -19 pandemic, the team \\nwas able to work virtually and deliver the results as planned.\\n CENIBRA simplified its processes and increased customer service levels by adopting 320 \\nSAP Fiori\\n®apps and mobile technology. ', 'original_sentence': 'CENIBRA’s aim was to create both process synergies and new process designs to increase productivity.\\n'}, hash='5418748d5893e6f825df83419527af9d5b7e8ad695ff51c65b6110ef35716711'), <NodeRelationship.NEXT: '3'>: RelatedNodeInfo(node_id='1858297d-abf0-486b-b0f3-aaf89b866af5', node_type=<ObjectType.TEXT: '1'>, metadata={'window': 'SAP S/4HANA\\n®was a natural choice for its transformation, replacing the old ERP system \\nimplemented more than 17 years ago and integrating it with its logistics subsidiary, CENIBRA Logística.  CENIBRA’s aim was to create both process synergies and new process designs to increase productivity.\\n The 13 -month project covered all main processes, including sales, finance, production, \\nHR, purchasing, warehouse, transportation, project document management, and treasury and risk management.  Even with challenges due to the COVID -19 pandemic, the team \\nwas able to work virtually and deliver the results as planned.\\n CENIBRA simplified its processes and increased customer service levels by adopting 320 \\nSAP Fiori\\n®apps and mobile technology.  Processes such as maintenance, finance, and \\nlogistics have benefited from the new technology, with the focus changed from manual \\nwork to a better evaluation of business scenarios and streamlined decision -making.Enabling Next -Level Productivity by Simplifying \\nand Integrating Processes\\nProcesses with \\nSAP Fiori appsFaster generation of the maintenance plan, benefiting several capital -intensive \\nprocesses99%“Simplification, increased performance of \\nbusiness processes, and preparation for the next steps of the transformation were the main \\nneeds of the business ,but we also sought to \\nimprove the user experience.  We brought mobility features into the scope and digitalized processes that were still manual –it was a big transformation.”\\nRonaldo Neves Ribeiro, CIO, Celulose Nipo- Brasileira \\nS.A. ', 'original_sentence': 'Even with challenges due to the COVID -19 pandemic, the team \\nwas able to work virtually and deliver the results as planned.\\n'}, hash='864934f46cdf6e43f6b940d9e8fb967e5a0e1a8a5fb18d59a6c7547bec06be1d')}, text='The 13 -month project covered all main processes, including sales, finance, production, \\nHR, purchasing, warehouse, transportation, project document management, and treasury and risk management. ', mimetype='text/plain', start_char_idx=638, end_char_idx=833, text_template='{metadata_str}\\n\\n{content}', metadata_template='{key}: {value}', metadata_seperator='\\n'),\n",
       " TextNode(id_='1858297d-abf0-486b-b0f3-aaf89b866af5', embedding=None, metadata={'page_label': '3', 'file_name': 'CENIBRA_ Taking the Next Steps Toward Sustainable Excellence with Intelligent Technologies.pdf', 'file_path': '/home/jupyter/Untitled Folder/SAP/CENIBRA_ Taking the Next Steps Toward Sustainable Excellence with Intelligent Technologies.pdf', 'file_type': 'application/pdf', 'file_size': 434369, 'creation_date': '2024-08-15', 'last_modified_date': '2024-08-15', 'window': 'SAP S/4HANA\\n®was a natural choice for its transformation, replacing the old ERP system \\nimplemented more than 17 years ago and integrating it with its logistics subsidiary, CENIBRA Logística.  CENIBRA’s aim was to create both process synergies and new process designs to increase productivity.\\n The 13 -month project covered all main processes, including sales, finance, production, \\nHR, purchasing, warehouse, transportation, project document management, and treasury and risk management.  Even with challenges due to the COVID -19 pandemic, the team \\nwas able to work virtually and deliver the results as planned.\\n CENIBRA simplified its processes and increased customer service levels by adopting 320 \\nSAP Fiori\\n®apps and mobile technology.  Processes such as maintenance, finance, and \\nlogistics have benefited from the new technology, with the focus changed from manual \\nwork to a better evaluation of business scenarios and streamlined decision -making.Enabling Next -Level Productivity by Simplifying \\nand Integrating Processes\\nProcesses with \\nSAP Fiori appsFaster generation of the maintenance plan, benefiting several capital -intensive \\nprocesses99%“Simplification, increased performance of \\nbusiness processes, and preparation for the next steps of the transformation were the main \\nneeds of the business ,but we also sought to \\nimprove the user experience.  We brought mobility features into the scope and digitalized processes that were still manual –it was a big transformation.”\\nRonaldo Neves Ribeiro, CIO, Celulose Nipo- Brasileira \\nS.A. ', 'original_sentence': 'Even with challenges due to the COVID -19 pandemic, the team \\nwas able to work virtually and deliver the results as planned.\\n'}, excluded_embed_metadata_keys=['file_name', 'file_type', 'file_size', 'creation_date', 'last_modified_date', 'last_accessed_date', 'window', 'original_sentence'], excluded_llm_metadata_keys=['file_name', 'file_type', 'file_size', 'creation_date', 'last_modified_date', 'last_accessed_date', 'window', 'original_sentence'], relationships={<NodeRelationship.SOURCE: '1'>: RelatedNodeInfo(node_id='ed6b1242-2a4d-42a9-adc8-cac0996a800a', node_type=<ObjectType.DOCUMENT: '4'>, metadata={'page_label': '3', 'file_name': 'CENIBRA_ Taking the Next Steps Toward Sustainable Excellence with Intelligent Technologies.pdf', 'file_path': '/home/jupyter/Untitled Folder/SAP/CENIBRA_ Taking the Next Steps Toward Sustainable Excellence with Intelligent Technologies.pdf', 'file_type': 'application/pdf', 'file_size': 434369, 'creation_date': '2024-08-15', 'last_modified_date': '2024-08-15'}, hash='16764ffea6e25e5293bcab5255ac07d964447809fb7f5aa4af29edbc79658f16'), <NodeRelationship.PREVIOUS: '2'>: RelatedNodeInfo(node_id='e034981b-d8d1-4f4c-9936-d6eedec967a0', node_type=<ObjectType.TEXT: '1'>, metadata={'page_label': '3', 'file_name': 'CENIBRA_ Taking the Next Steps Toward Sustainable Excellence with Intelligent Technologies.pdf', 'file_path': '/home/jupyter/Untitled Folder/SAP/CENIBRA_ Taking the Next Steps Toward Sustainable Excellence with Intelligent Technologies.pdf', 'file_type': 'application/pdf', 'file_size': 434369, 'creation_date': '2024-08-15', 'last_modified_date': '2024-08-15', 'window': 'The company is a merge of two cultures, Brazilian and Japanese, that resulted in a unique vision of a consistent business and pragmatic quality improvements.  SAP S/4HANA\\n®was a natural choice for its transformation, replacing the old ERP system \\nimplemented more than 17 years ago and integrating it with its logistics subsidiary, CENIBRA Logística.  CENIBRA’s aim was to create both process synergies and new process designs to increase productivity.\\n The 13 -month project covered all main processes, including sales, finance, production, \\nHR, purchasing, warehouse, transportation, project document management, and treasury and risk management.  Even with challenges due to the COVID -19 pandemic, the team \\nwas able to work virtually and deliver the results as planned.\\n CENIBRA simplified its processes and increased customer service levels by adopting 320 \\nSAP Fiori\\n®apps and mobile technology.  Processes such as maintenance, finance, and \\nlogistics have benefited from the new technology, with the focus changed from manual \\nwork to a better evaluation of business scenarios and streamlined decision -making.Enabling Next -Level Productivity by Simplifying \\nand Integrating Processes\\nProcesses with \\nSAP Fiori appsFaster generation of the maintenance plan, benefiting several capital -intensive \\nprocesses99%“Simplification, increased performance of \\nbusiness processes, and preparation for the next steps of the transformation were the main \\nneeds of the business ,but we also sought to \\nimprove the user experience. ', 'original_sentence': 'The 13 -month project covered all main processes, including sales, finance, production, \\nHR, purchasing, warehouse, transportation, project document management, and treasury and risk management. '}, hash='4314625f58223038b2ff09bdebc437e447d9146c11ffe7d1a2a87bf2e32ab814'), <NodeRelationship.NEXT: '3'>: RelatedNodeInfo(node_id='7de07b62-358f-4969-898c-2e9de9763579', node_type=<ObjectType.TEXT: '1'>, metadata={'window': 'CENIBRA’s aim was to create both process synergies and new process designs to increase productivity.\\n The 13 -month project covered all main processes, including sales, finance, production, \\nHR, purchasing, warehouse, transportation, project document management, and treasury and risk management.  Even with challenges due to the COVID -19 pandemic, the team \\nwas able to work virtually and deliver the results as planned.\\n CENIBRA simplified its processes and increased customer service levels by adopting 320 \\nSAP Fiori\\n®apps and mobile technology.  Processes such as maintenance, finance, and \\nlogistics have benefited from the new technology, with the focus changed from manual \\nwork to a better evaluation of business scenarios and streamlined decision -making.Enabling Next -Level Productivity by Simplifying \\nand Integrating Processes\\nProcesses with \\nSAP Fiori appsFaster generation of the maintenance plan, benefiting several capital -intensive \\nprocesses99%“Simplification, increased performance of \\nbusiness processes, and preparation for the next steps of the transformation were the main \\nneeds of the business ,but we also sought to \\nimprove the user experience.  We brought mobility features into the scope and digitalized processes that were still manual –it was a big transformation.”\\nRonaldo Neves Ribeiro, CIO, Celulose Nipo- Brasileira \\nS.A.  (CENIBRA)\\nImproved\\n', 'original_sentence': 'CENIBRA simplified its processes and increased customer service levels by adopting 320 \\nSAP Fiori\\n®apps and mobile technology. '}, hash='560b4f02321d6eb5d978f3ba2dd7b32fb89db989c21f15078d769ef59d4dfe36')}, text='Even with challenges due to the COVID -19 pandemic, the team \\nwas able to work virtually and deliver the results as planned.\\n', mimetype='text/plain', start_char_idx=833, end_char_idx=958, text_template='{metadata_str}\\n\\n{content}', metadata_template='{key}: {value}', metadata_seperator='\\n'),\n",
       " TextNode(id_='7de07b62-358f-4969-898c-2e9de9763579', embedding=None, metadata={'page_label': '3', 'file_name': 'CENIBRA_ Taking the Next Steps Toward Sustainable Excellence with Intelligent Technologies.pdf', 'file_path': '/home/jupyter/Untitled Folder/SAP/CENIBRA_ Taking the Next Steps Toward Sustainable Excellence with Intelligent Technologies.pdf', 'file_type': 'application/pdf', 'file_size': 434369, 'creation_date': '2024-08-15', 'last_modified_date': '2024-08-15', 'window': 'CENIBRA’s aim was to create both process synergies and new process designs to increase productivity.\\n The 13 -month project covered all main processes, including sales, finance, production, \\nHR, purchasing, warehouse, transportation, project document management, and treasury and risk management.  Even with challenges due to the COVID -19 pandemic, the team \\nwas able to work virtually and deliver the results as planned.\\n CENIBRA simplified its processes and increased customer service levels by adopting 320 \\nSAP Fiori\\n®apps and mobile technology.  Processes such as maintenance, finance, and \\nlogistics have benefited from the new technology, with the focus changed from manual \\nwork to a better evaluation of business scenarios and streamlined decision -making.Enabling Next -Level Productivity by Simplifying \\nand Integrating Processes\\nProcesses with \\nSAP Fiori appsFaster generation of the maintenance plan, benefiting several capital -intensive \\nprocesses99%“Simplification, increased performance of \\nbusiness processes, and preparation for the next steps of the transformation were the main \\nneeds of the business ,but we also sought to \\nimprove the user experience.  We brought mobility features into the scope and digitalized processes that were still manual –it was a big transformation.”\\nRonaldo Neves Ribeiro, CIO, Celulose Nipo- Brasileira \\nS.A.  (CENIBRA)\\nImproved\\n', 'original_sentence': 'CENIBRA simplified its processes and increased customer service levels by adopting 320 \\nSAP Fiori\\n®apps and mobile technology. '}, excluded_embed_metadata_keys=['file_name', 'file_type', 'file_size', 'creation_date', 'last_modified_date', 'last_accessed_date', 'window', 'original_sentence'], excluded_llm_metadata_keys=['file_name', 'file_type', 'file_size', 'creation_date', 'last_modified_date', 'last_accessed_date', 'window', 'original_sentence'], relationships={<NodeRelationship.SOURCE: '1'>: RelatedNodeInfo(node_id='ed6b1242-2a4d-42a9-adc8-cac0996a800a', node_type=<ObjectType.DOCUMENT: '4'>, metadata={'page_label': '3', 'file_name': 'CENIBRA_ Taking the Next Steps Toward Sustainable Excellence with Intelligent Technologies.pdf', 'file_path': '/home/jupyter/Untitled Folder/SAP/CENIBRA_ Taking the Next Steps Toward Sustainable Excellence with Intelligent Technologies.pdf', 'file_type': 'application/pdf', 'file_size': 434369, 'creation_date': '2024-08-15', 'last_modified_date': '2024-08-15'}, hash='16764ffea6e25e5293bcab5255ac07d964447809fb7f5aa4af29edbc79658f16'), <NodeRelationship.PREVIOUS: '2'>: RelatedNodeInfo(node_id='1858297d-abf0-486b-b0f3-aaf89b866af5', node_type=<ObjectType.TEXT: '1'>, metadata={'page_label': '3', 'file_name': 'CENIBRA_ Taking the Next Steps Toward Sustainable Excellence with Intelligent Technologies.pdf', 'file_path': '/home/jupyter/Untitled Folder/SAP/CENIBRA_ Taking the Next Steps Toward Sustainable Excellence with Intelligent Technologies.pdf', 'file_type': 'application/pdf', 'file_size': 434369, 'creation_date': '2024-08-15', 'last_modified_date': '2024-08-15', 'window': 'SAP S/4HANA\\n®was a natural choice for its transformation, replacing the old ERP system \\nimplemented more than 17 years ago and integrating it with its logistics subsidiary, CENIBRA Logística.  CENIBRA’s aim was to create both process synergies and new process designs to increase productivity.\\n The 13 -month project covered all main processes, including sales, finance, production, \\nHR, purchasing, warehouse, transportation, project document management, and treasury and risk management.  Even with challenges due to the COVID -19 pandemic, the team \\nwas able to work virtually and deliver the results as planned.\\n CENIBRA simplified its processes and increased customer service levels by adopting 320 \\nSAP Fiori\\n®apps and mobile technology.  Processes such as maintenance, finance, and \\nlogistics have benefited from the new technology, with the focus changed from manual \\nwork to a better evaluation of business scenarios and streamlined decision -making.Enabling Next -Level Productivity by Simplifying \\nand Integrating Processes\\nProcesses with \\nSAP Fiori appsFaster generation of the maintenance plan, benefiting several capital -intensive \\nprocesses99%“Simplification, increased performance of \\nbusiness processes, and preparation for the next steps of the transformation were the main \\nneeds of the business ,but we also sought to \\nimprove the user experience.  We brought mobility features into the scope and digitalized processes that were still manual –it was a big transformation.”\\nRonaldo Neves Ribeiro, CIO, Celulose Nipo- Brasileira \\nS.A. ', 'original_sentence': 'Even with challenges due to the COVID -19 pandemic, the team \\nwas able to work virtually and deliver the results as planned.\\n'}, hash='431af1cfb442b26083efed4c75dcbec211c2f0c1623776b3b5ad605377764ab2'), <NodeRelationship.NEXT: '3'>: RelatedNodeInfo(node_id='9a3ba4fb-4044-4934-820e-3f1d13e8b869', node_type=<ObjectType.TEXT: '1'>, metadata={'window': 'The 13 -month project covered all main processes, including sales, finance, production, \\nHR, purchasing, warehouse, transportation, project document management, and treasury and risk management.  Even with challenges due to the COVID -19 pandemic, the team \\nwas able to work virtually and deliver the results as planned.\\n CENIBRA simplified its processes and increased customer service levels by adopting 320 \\nSAP Fiori\\n®apps and mobile technology.  Processes such as maintenance, finance, and \\nlogistics have benefited from the new technology, with the focus changed from manual \\nwork to a better evaluation of business scenarios and streamlined decision -making.Enabling Next -Level Productivity by Simplifying \\nand Integrating Processes\\nProcesses with \\nSAP Fiori appsFaster generation of the maintenance plan, benefiting several capital -intensive \\nprocesses99%“Simplification, increased performance of \\nbusiness processes, and preparation for the next steps of the transformation were the main \\nneeds of the business ,but we also sought to \\nimprove the user experience.  We brought mobility features into the scope and digitalized processes that were still manual –it was a big transformation.”\\nRonaldo Neves Ribeiro, CIO, Celulose Nipo- Brasileira \\nS.A.  (CENIBRA)\\nImproved\\n', 'original_sentence': 'Processes such as maintenance, finance, and \\nlogistics have benefited from the new technology, with the focus changed from manual \\nwork to a better evaluation of business scenarios and streamlined decision -making.Enabling Next -Level Productivity by Simplifying \\nand Integrating Processes\\nProcesses with \\nSAP Fiori appsFaster generation of the maintenance plan, benefiting several capital -intensive \\nprocesses99%“Simplification, increased performance of \\nbusiness processes, and preparation for the next steps of the transformation were the main \\nneeds of the business ,but we also sought to \\nimprove the user experience. '}, hash='2529590f4e2b74e4d9af3b5acb04115996a0bc3bd3d6ae52041ab7f4725e9bd6')}, text='CENIBRA simplified its processes and increased customer service levels by adopting 320 \\nSAP Fiori\\n®apps and mobile technology. ', mimetype='text/plain', start_char_idx=958, end_char_idx=1085, text_template='{metadata_str}\\n\\n{content}', metadata_template='{key}: {value}', metadata_seperator='\\n'),\n",
       " TextNode(id_='9a3ba4fb-4044-4934-820e-3f1d13e8b869', embedding=None, metadata={'page_label': '3', 'file_name': 'CENIBRA_ Taking the Next Steps Toward Sustainable Excellence with Intelligent Technologies.pdf', 'file_path': '/home/jupyter/Untitled Folder/SAP/CENIBRA_ Taking the Next Steps Toward Sustainable Excellence with Intelligent Technologies.pdf', 'file_type': 'application/pdf', 'file_size': 434369, 'creation_date': '2024-08-15', 'last_modified_date': '2024-08-15', 'window': 'The 13 -month project covered all main processes, including sales, finance, production, \\nHR, purchasing, warehouse, transportation, project document management, and treasury and risk management.  Even with challenges due to the COVID -19 pandemic, the team \\nwas able to work virtually and deliver the results as planned.\\n CENIBRA simplified its processes and increased customer service levels by adopting 320 \\nSAP Fiori\\n®apps and mobile technology.  Processes such as maintenance, finance, and \\nlogistics have benefited from the new technology, with the focus changed from manual \\nwork to a better evaluation of business scenarios and streamlined decision -making.Enabling Next -Level Productivity by Simplifying \\nand Integrating Processes\\nProcesses with \\nSAP Fiori appsFaster generation of the maintenance plan, benefiting several capital -intensive \\nprocesses99%“Simplification, increased performance of \\nbusiness processes, and preparation for the next steps of the transformation were the main \\nneeds of the business ,but we also sought to \\nimprove the user experience.  We brought mobility features into the scope and digitalized processes that were still manual –it was a big transformation.”\\nRonaldo Neves Ribeiro, CIO, Celulose Nipo- Brasileira \\nS.A.  (CENIBRA)\\nImproved\\n', 'original_sentence': 'Processes such as maintenance, finance, and \\nlogistics have benefited from the new technology, with the focus changed from manual \\nwork to a better evaluation of business scenarios and streamlined decision -making.Enabling Next -Level Productivity by Simplifying \\nand Integrating Processes\\nProcesses with \\nSAP Fiori appsFaster generation of the maintenance plan, benefiting several capital -intensive \\nprocesses99%“Simplification, increased performance of \\nbusiness processes, and preparation for the next steps of the transformation were the main \\nneeds of the business ,but we also sought to \\nimprove the user experience. '}, excluded_embed_metadata_keys=['file_name', 'file_type', 'file_size', 'creation_date', 'last_modified_date', 'last_accessed_date', 'window', 'original_sentence'], excluded_llm_metadata_keys=['file_name', 'file_type', 'file_size', 'creation_date', 'last_modified_date', 'last_accessed_date', 'window', 'original_sentence'], relationships={<NodeRelationship.SOURCE: '1'>: RelatedNodeInfo(node_id='ed6b1242-2a4d-42a9-adc8-cac0996a800a', node_type=<ObjectType.DOCUMENT: '4'>, metadata={'page_label': '3', 'file_name': 'CENIBRA_ Taking the Next Steps Toward Sustainable Excellence with Intelligent Technologies.pdf', 'file_path': '/home/jupyter/Untitled Folder/SAP/CENIBRA_ Taking the Next Steps Toward Sustainable Excellence with Intelligent Technologies.pdf', 'file_type': 'application/pdf', 'file_size': 434369, 'creation_date': '2024-08-15', 'last_modified_date': '2024-08-15'}, hash='16764ffea6e25e5293bcab5255ac07d964447809fb7f5aa4af29edbc79658f16'), <NodeRelationship.PREVIOUS: '2'>: RelatedNodeInfo(node_id='7de07b62-358f-4969-898c-2e9de9763579', node_type=<ObjectType.TEXT: '1'>, metadata={'page_label': '3', 'file_name': 'CENIBRA_ Taking the Next Steps Toward Sustainable Excellence with Intelligent Technologies.pdf', 'file_path': '/home/jupyter/Untitled Folder/SAP/CENIBRA_ Taking the Next Steps Toward Sustainable Excellence with Intelligent Technologies.pdf', 'file_type': 'application/pdf', 'file_size': 434369, 'creation_date': '2024-08-15', 'last_modified_date': '2024-08-15', 'window': 'CENIBRA’s aim was to create both process synergies and new process designs to increase productivity.\\n The 13 -month project covered all main processes, including sales, finance, production, \\nHR, purchasing, warehouse, transportation, project document management, and treasury and risk management.  Even with challenges due to the COVID -19 pandemic, the team \\nwas able to work virtually and deliver the results as planned.\\n CENIBRA simplified its processes and increased customer service levels by adopting 320 \\nSAP Fiori\\n®apps and mobile technology.  Processes such as maintenance, finance, and \\nlogistics have benefited from the new technology, with the focus changed from manual \\nwork to a better evaluation of business scenarios and streamlined decision -making.Enabling Next -Level Productivity by Simplifying \\nand Integrating Processes\\nProcesses with \\nSAP Fiori appsFaster generation of the maintenance plan, benefiting several capital -intensive \\nprocesses99%“Simplification, increased performance of \\nbusiness processes, and preparation for the next steps of the transformation were the main \\nneeds of the business ,but we also sought to \\nimprove the user experience.  We brought mobility features into the scope and digitalized processes that were still manual –it was a big transformation.”\\nRonaldo Neves Ribeiro, CIO, Celulose Nipo- Brasileira \\nS.A.  (CENIBRA)\\nImproved\\n', 'original_sentence': 'CENIBRA simplified its processes and increased customer service levels by adopting 320 \\nSAP Fiori\\n®apps and mobile technology. '}, hash='00cfeb672c44113955e788a43043b94d6a7062fa3fa8ab7b4164000caacc0503'), <NodeRelationship.NEXT: '3'>: RelatedNodeInfo(node_id='e71df995-283f-40f8-9252-bc92bfadc3c4', node_type=<ObjectType.TEXT: '1'>, metadata={'window': 'Even with challenges due to the COVID -19 pandemic, the team \\nwas able to work virtually and deliver the results as planned.\\n CENIBRA simplified its processes and increased customer service levels by adopting 320 \\nSAP Fiori\\n®apps and mobile technology.  Processes such as maintenance, finance, and \\nlogistics have benefited from the new technology, with the focus changed from manual \\nwork to a better evaluation of business scenarios and streamlined decision -making.Enabling Next -Level Productivity by Simplifying \\nand Integrating Processes\\nProcesses with \\nSAP Fiori appsFaster generation of the maintenance plan, benefiting several capital -intensive \\nprocesses99%“Simplification, increased performance of \\nbusiness processes, and preparation for the next steps of the transformation were the main \\nneeds of the business ,but we also sought to \\nimprove the user experience.  We brought mobility features into the scope and digitalized processes that were still manual –it was a big transformation.”\\nRonaldo Neves Ribeiro, CIO, Celulose Nipo- Brasileira \\nS.A.  (CENIBRA)\\nImproved\\n', 'original_sentence': 'We brought mobility features into the scope and digitalized processes that were still manual –it was a big transformation.”\\nRonaldo Neves Ribeiro, CIO, Celulose Nipo- Brasileira \\nS.A. '}, hash='690c7ad55e8b352bec7bf0ae44cc7d0fd13c513f7237dd316dfca0089af2d7e3')}, text='Processes such as maintenance, finance, and \\nlogistics have benefited from the new technology, with the focus changed from manual \\nwork to a better evaluation of business scenarios and streamlined decision -making.Enabling Next -Level Productivity by Simplifying \\nand Integrating Processes\\nProcesses with \\nSAP Fiori appsFaster generation of the maintenance plan, benefiting several capital -intensive \\nprocesses99%“Simplification, increased performance of \\nbusiness processes, and preparation for the next steps of the transformation were the main \\nneeds of the business ,but we also sought to \\nimprove the user experience. ', mimetype='text/plain', start_char_idx=1085, end_char_idx=1709, text_template='{metadata_str}\\n\\n{content}', metadata_template='{key}: {value}', metadata_seperator='\\n'),\n",
       " TextNode(id_='e71df995-283f-40f8-9252-bc92bfadc3c4', embedding=None, metadata={'page_label': '3', 'file_name': 'CENIBRA_ Taking the Next Steps Toward Sustainable Excellence with Intelligent Technologies.pdf', 'file_path': '/home/jupyter/Untitled Folder/SAP/CENIBRA_ Taking the Next Steps Toward Sustainable Excellence with Intelligent Technologies.pdf', 'file_type': 'application/pdf', 'file_size': 434369, 'creation_date': '2024-08-15', 'last_modified_date': '2024-08-15', 'window': 'Even with challenges due to the COVID -19 pandemic, the team \\nwas able to work virtually and deliver the results as planned.\\n CENIBRA simplified its processes and increased customer service levels by adopting 320 \\nSAP Fiori\\n®apps and mobile technology.  Processes such as maintenance, finance, and \\nlogistics have benefited from the new technology, with the focus changed from manual \\nwork to a better evaluation of business scenarios and streamlined decision -making.Enabling Next -Level Productivity by Simplifying \\nand Integrating Processes\\nProcesses with \\nSAP Fiori appsFaster generation of the maintenance plan, benefiting several capital -intensive \\nprocesses99%“Simplification, increased performance of \\nbusiness processes, and preparation for the next steps of the transformation were the main \\nneeds of the business ,but we also sought to \\nimprove the user experience.  We brought mobility features into the scope and digitalized processes that were still manual –it was a big transformation.”\\nRonaldo Neves Ribeiro, CIO, Celulose Nipo- Brasileira \\nS.A.  (CENIBRA)\\nImproved\\n', 'original_sentence': 'We brought mobility features into the scope and digitalized processes that were still manual –it was a big transformation.”\\nRonaldo Neves Ribeiro, CIO, Celulose Nipo- Brasileira \\nS.A. '}, excluded_embed_metadata_keys=['file_name', 'file_type', 'file_size', 'creation_date', 'last_modified_date', 'last_accessed_date', 'window', 'original_sentence'], excluded_llm_metadata_keys=['file_name', 'file_type', 'file_size', 'creation_date', 'last_modified_date', 'last_accessed_date', 'window', 'original_sentence'], relationships={<NodeRelationship.SOURCE: '1'>: RelatedNodeInfo(node_id='ed6b1242-2a4d-42a9-adc8-cac0996a800a', node_type=<ObjectType.DOCUMENT: '4'>, metadata={'page_label': '3', 'file_name': 'CENIBRA_ Taking the Next Steps Toward Sustainable Excellence with Intelligent Technologies.pdf', 'file_path': '/home/jupyter/Untitled Folder/SAP/CENIBRA_ Taking the Next Steps Toward Sustainable Excellence with Intelligent Technologies.pdf', 'file_type': 'application/pdf', 'file_size': 434369, 'creation_date': '2024-08-15', 'last_modified_date': '2024-08-15'}, hash='16764ffea6e25e5293bcab5255ac07d964447809fb7f5aa4af29edbc79658f16'), <NodeRelationship.PREVIOUS: '2'>: RelatedNodeInfo(node_id='9a3ba4fb-4044-4934-820e-3f1d13e8b869', node_type=<ObjectType.TEXT: '1'>, metadata={'page_label': '3', 'file_name': 'CENIBRA_ Taking the Next Steps Toward Sustainable Excellence with Intelligent Technologies.pdf', 'file_path': '/home/jupyter/Untitled Folder/SAP/CENIBRA_ Taking the Next Steps Toward Sustainable Excellence with Intelligent Technologies.pdf', 'file_type': 'application/pdf', 'file_size': 434369, 'creation_date': '2024-08-15', 'last_modified_date': '2024-08-15', 'window': 'The 13 -month project covered all main processes, including sales, finance, production, \\nHR, purchasing, warehouse, transportation, project document management, and treasury and risk management.  Even with challenges due to the COVID -19 pandemic, the team \\nwas able to work virtually and deliver the results as planned.\\n CENIBRA simplified its processes and increased customer service levels by adopting 320 \\nSAP Fiori\\n®apps and mobile technology.  Processes such as maintenance, finance, and \\nlogistics have benefited from the new technology, with the focus changed from manual \\nwork to a better evaluation of business scenarios and streamlined decision -making.Enabling Next -Level Productivity by Simplifying \\nand Integrating Processes\\nProcesses with \\nSAP Fiori appsFaster generation of the maintenance plan, benefiting several capital -intensive \\nprocesses99%“Simplification, increased performance of \\nbusiness processes, and preparation for the next steps of the transformation were the main \\nneeds of the business ,but we also sought to \\nimprove the user experience.  We brought mobility features into the scope and digitalized processes that were still manual –it was a big transformation.”\\nRonaldo Neves Ribeiro, CIO, Celulose Nipo- Brasileira \\nS.A.  (CENIBRA)\\nImproved\\n', 'original_sentence': 'Processes such as maintenance, finance, and \\nlogistics have benefited from the new technology, with the focus changed from manual \\nwork to a better evaluation of business scenarios and streamlined decision -making.Enabling Next -Level Productivity by Simplifying \\nand Integrating Processes\\nProcesses with \\nSAP Fiori appsFaster generation of the maintenance plan, benefiting several capital -intensive \\nprocesses99%“Simplification, increased performance of \\nbusiness processes, and preparation for the next steps of the transformation were the main \\nneeds of the business ,but we also sought to \\nimprove the user experience. '}, hash='a237d2b21865120beafbbdd4975fe6f9fb45d7cc1f216a8d0211975bce8abd1e'), <NodeRelationship.NEXT: '3'>: RelatedNodeInfo(node_id='0ca4db8a-e2c7-4e77-962c-6334dbc78e8f', node_type=<ObjectType.TEXT: '1'>, metadata={'window': 'CENIBRA simplified its processes and increased customer service levels by adopting 320 \\nSAP Fiori\\n®apps and mobile technology.  Processes such as maintenance, finance, and \\nlogistics have benefited from the new technology, with the focus changed from manual \\nwork to a better evaluation of business scenarios and streamlined decision -making.Enabling Next -Level Productivity by Simplifying \\nand Integrating Processes\\nProcesses with \\nSAP Fiori appsFaster generation of the maintenance plan, benefiting several capital -intensive \\nprocesses99%“Simplification, increased performance of \\nbusiness processes, and preparation for the next steps of the transformation were the main \\nneeds of the business ,but we also sought to \\nimprove the user experience.  We brought mobility features into the scope and digitalized processes that were still manual –it was a big transformation.”\\nRonaldo Neves Ribeiro, CIO, Celulose Nipo- Brasileira \\nS.A.  (CENIBRA)\\nImproved\\n', 'original_sentence': '(CENIBRA)\\nImproved\\n'}, hash='dba2f60c2e7f16bc29ac9befbd257a8e01708a689205c64ba87a9cbc42f1df65')}, text='We brought mobility features into the scope and digitalized processes that were still manual –it was a big transformation.”\\nRonaldo Neves Ribeiro, CIO, Celulose Nipo- Brasileira \\nS.A. ', mimetype='text/plain', start_char_idx=1709, end_char_idx=1893, text_template='{metadata_str}\\n\\n{content}', metadata_template='{key}: {value}', metadata_seperator='\\n'),\n",
       " TextNode(id_='0ca4db8a-e2c7-4e77-962c-6334dbc78e8f', embedding=None, metadata={'page_label': '3', 'file_name': 'CENIBRA_ Taking the Next Steps Toward Sustainable Excellence with Intelligent Technologies.pdf', 'file_path': '/home/jupyter/Untitled Folder/SAP/CENIBRA_ Taking the Next Steps Toward Sustainable Excellence with Intelligent Technologies.pdf', 'file_type': 'application/pdf', 'file_size': 434369, 'creation_date': '2024-08-15', 'last_modified_date': '2024-08-15', 'window': 'CENIBRA simplified its processes and increased customer service levels by adopting 320 \\nSAP Fiori\\n®apps and mobile technology.  Processes such as maintenance, finance, and \\nlogistics have benefited from the new technology, with the focus changed from manual \\nwork to a better evaluation of business scenarios and streamlined decision -making.Enabling Next -Level Productivity by Simplifying \\nand Integrating Processes\\nProcesses with \\nSAP Fiori appsFaster generation of the maintenance plan, benefiting several capital -intensive \\nprocesses99%“Simplification, increased performance of \\nbusiness processes, and preparation for the next steps of the transformation were the main \\nneeds of the business ,but we also sought to \\nimprove the user experience.  We brought mobility features into the scope and digitalized processes that were still manual –it was a big transformation.”\\nRonaldo Neves Ribeiro, CIO, Celulose Nipo- Brasileira \\nS.A.  (CENIBRA)\\nImproved\\n', 'original_sentence': '(CENIBRA)\\nImproved\\n'}, excluded_embed_metadata_keys=['file_name', 'file_type', 'file_size', 'creation_date', 'last_modified_date', 'last_accessed_date', 'window', 'original_sentence'], excluded_llm_metadata_keys=['file_name', 'file_type', 'file_size', 'creation_date', 'last_modified_date', 'last_accessed_date', 'window', 'original_sentence'], relationships={<NodeRelationship.SOURCE: '1'>: RelatedNodeInfo(node_id='ed6b1242-2a4d-42a9-adc8-cac0996a800a', node_type=<ObjectType.DOCUMENT: '4'>, metadata={'page_label': '3', 'file_name': 'CENIBRA_ Taking the Next Steps Toward Sustainable Excellence with Intelligent Technologies.pdf', 'file_path': '/home/jupyter/Untitled Folder/SAP/CENIBRA_ Taking the Next Steps Toward Sustainable Excellence with Intelligent Technologies.pdf', 'file_type': 'application/pdf', 'file_size': 434369, 'creation_date': '2024-08-15', 'last_modified_date': '2024-08-15'}, hash='16764ffea6e25e5293bcab5255ac07d964447809fb7f5aa4af29edbc79658f16'), <NodeRelationship.PREVIOUS: '2'>: RelatedNodeInfo(node_id='e71df995-283f-40f8-9252-bc92bfadc3c4', node_type=<ObjectType.TEXT: '1'>, metadata={'page_label': '3', 'file_name': 'CENIBRA_ Taking the Next Steps Toward Sustainable Excellence with Intelligent Technologies.pdf', 'file_path': '/home/jupyter/Untitled Folder/SAP/CENIBRA_ Taking the Next Steps Toward Sustainable Excellence with Intelligent Technologies.pdf', 'file_type': 'application/pdf', 'file_size': 434369, 'creation_date': '2024-08-15', 'last_modified_date': '2024-08-15', 'window': 'Even with challenges due to the COVID -19 pandemic, the team \\nwas able to work virtually and deliver the results as planned.\\n CENIBRA simplified its processes and increased customer service levels by adopting 320 \\nSAP Fiori\\n®apps and mobile technology.  Processes such as maintenance, finance, and \\nlogistics have benefited from the new technology, with the focus changed from manual \\nwork to a better evaluation of business scenarios and streamlined decision -making.Enabling Next -Level Productivity by Simplifying \\nand Integrating Processes\\nProcesses with \\nSAP Fiori appsFaster generation of the maintenance plan, benefiting several capital -intensive \\nprocesses99%“Simplification, increased performance of \\nbusiness processes, and preparation for the next steps of the transformation were the main \\nneeds of the business ,but we also sought to \\nimprove the user experience.  We brought mobility features into the scope and digitalized processes that were still manual –it was a big transformation.”\\nRonaldo Neves Ribeiro, CIO, Celulose Nipo- Brasileira \\nS.A.  (CENIBRA)\\nImproved\\n', 'original_sentence': 'We brought mobility features into the scope and digitalized processes that were still manual –it was a big transformation.”\\nRonaldo Neves Ribeiro, CIO, Celulose Nipo- Brasileira \\nS.A. '}, hash='5e2010a8c43c613ca9358cd234a395d2c58a68fd7ecd43d5faec02d4d330fb30')}, text='(CENIBRA)\\nImproved\\n', mimetype='text/plain', start_char_idx=1893, end_char_idx=1912, text_template='{metadata_str}\\n\\n{content}', metadata_template='{key}: {value}', metadata_seperator='\\n')]"
      ]
     },
     "execution_count": 10,
     "metadata": {},
     "output_type": "execute_result"
    }
   ],
   "source": [
    "nodes"
   ]
  },
  {
   "cell_type": "code",
   "execution_count": 11,
   "id": "c5a87a09-d33a-49c2-a145-9c4902710443",
   "metadata": {
    "tags": []
   },
   "outputs": [
    {
     "data": {
      "text/plain": [
       "25"
      ]
     },
     "execution_count": 11,
     "metadata": {},
     "output_type": "execute_result"
    }
   ],
   "source": [
    "len(nodes)"
   ]
  },
  {
   "cell_type": "code",
   "execution_count": 12,
   "id": "5f5ed134-6717-48cc-a48e-d11ceb85abf3",
   "metadata": {
    "tags": []
   },
   "outputs": [
    {
     "data": {
      "text/plain": [
       "TextNode(id_='b5d13ab3-68f0-49ec-bdd4-f04e2f2b3bd7', embedding=None, metadata={'page_label': '1', 'file_name': 'CENIBRA_ Taking the Next Steps Toward Sustainable Excellence with Intelligent Technologies.pdf', 'file_path': '/home/jupyter/Untitled Folder/SAP/CENIBRA_ Taking the Next Steps Toward Sustainable Excellence with Intelligent Technologies.pdf', 'file_type': 'application/pdf', 'file_size': 434369, 'creation_date': '2024-08-15', 'last_modified_date': '2024-08-15', 'window': 'PUBLIC\\nSince 1975, Celulose Nipo -Brasileira S.A.  (CENIBRA) has been processing pulp and \\nproducing paper products with a focus on sustainability, biodiversity, and traceability.  Pulp \\nproduction requires large investments in capital, and asset utilization is a key component of a profitable producer.  In addition, industry volatility has increased due to economic \\nturmoil that is impacting prices and logistical resources. \\n', 'original_sentence': 'PUBLIC\\nSince 1975, Celulose Nipo -Brasileira S.A. '}, excluded_embed_metadata_keys=['file_name', 'file_type', 'file_size', 'creation_date', 'last_modified_date', 'last_accessed_date', 'window', 'original_sentence'], excluded_llm_metadata_keys=['file_name', 'file_type', 'file_size', 'creation_date', 'last_modified_date', 'last_accessed_date', 'window', 'original_sentence'], relationships={<NodeRelationship.SOURCE: '1'>: RelatedNodeInfo(node_id='68564a1b-379c-4d6a-b127-aad93ea0ac12', node_type=<ObjectType.DOCUMENT: '4'>, metadata={'page_label': '1', 'file_name': 'CENIBRA_ Taking the Next Steps Toward Sustainable Excellence with Intelligent Technologies.pdf', 'file_path': '/home/jupyter/Untitled Folder/SAP/CENIBRA_ Taking the Next Steps Toward Sustainable Excellence with Intelligent Technologies.pdf', 'file_type': 'application/pdf', 'file_size': 434369, 'creation_date': '2024-08-15', 'last_modified_date': '2024-08-15'}, hash='3a0cc6f2ede1df7e1fb4136d1129139e1b1bb84ab9e91bdccaddbcd17f4b8aef'), <NodeRelationship.NEXT: '3'>: RelatedNodeInfo(node_id='3d07c6b9-d368-42fd-ae44-18d6196649c9', node_type=<ObjectType.TEXT: '1'>, metadata={'window': 'PUBLIC\\nSince 1975, Celulose Nipo -Brasileira S.A.  (CENIBRA) has been processing pulp and \\nproducing paper products with a focus on sustainability, biodiversity, and traceability.  Pulp \\nproduction requires large investments in capital, and asset utilization is a key component of a profitable producer.  In addition, industry volatility has increased due to economic \\nturmoil that is impacting prices and logistical resources. \\n CENIBRA has a long history of achievements, however, it knew that transforming its IT \\nlandscape and processes was necessary to meet new market requirements and its \\nbusiness strategy. ', 'original_sentence': '(CENIBRA) has been processing pulp and \\nproducing paper products with a focus on sustainability, biodiversity, and traceability. '}, hash='8ca553b529aace9a2b0fd2a12ff0ff7ed109cbd55a48717678db69805c145ab5')}, text='PUBLIC\\nSince 1975, Celulose Nipo -Brasileira S.A. ', mimetype='text/plain', start_char_idx=0, end_char_idx=50, text_template='{metadata_str}\\n\\n{content}', metadata_template='{key}: {value}', metadata_seperator='\\n')"
      ]
     },
     "execution_count": 12,
     "metadata": {},
     "output_type": "execute_result"
    }
   ],
   "source": [
    "nodes[0]"
   ]
  },
  {
   "cell_type": "markdown",
   "id": "ea970ed8-163d-45b7-a5b0-e4093c7435cd",
   "metadata": {},
   "source": [
    "### Simple explanation here is that This text represents a TextNode object, which is part of the '''document processing''''.\n",
    "### ID: 'a2468c97-f825-4b18-9bd0-e545a0960348'\n",
    "### Embedding: None \n",
    "### Metadata: page_label: '1'\n",
    "### file_name: 'CENIBRA_ Taking the Next Steps Toward Sustainable Excellence with Intelligent Technologies.pdf'\n",
    "### file_path: '/home/jupyter/Untitled Folder/SAP/CENIBRA_ Taking the Next Steps Toward Sustainable Excellence with Intelligent Technologies.pdf'\n",
    "### file_type: 'application/pdf'\n",
    "### file_size: 434369\n",
    "### creation_date: '2024-08-15'\n",
    "### last_modified_date: '2024-08-15'\n",
    "### window: Contains a larger text excerpt from the document\n",
    "### original_sentence: 'PUBLIC\\nSince 1975, Celulose Nipo -Brasileira S.A. '"
   ]
  },
  {
   "cell_type": "markdown",
   "id": "9849c20d-f428-435e-87d2-6230cadc315e",
   "metadata": {
    "tags": []
   },
   "source": [
    "### We will need to perform Manual Preprocessing before we pass text data to LlamaIndex, we can use libaries such as BeautifulSoup( for HTML parsing)\n",
    "### and re(for regular expressions) to clean our text data. THis ensures that our data is free from unwanted characters and noise. Let's see an example. "
   ]
  },
  {
   "cell_type": "code",
   "execution_count": 14,
   "id": "64db1661-a2cd-478f-92c8-387d564ebb23",
   "metadata": {
    "tags": []
   },
   "outputs": [],
   "source": [
    "sentence_index = VectorStoreIndex(nodes)"
   ]
  },
  {
   "cell_type": "code",
   "execution_count": 15,
   "id": "94c93424-040b-42b3-babf-fe58ac2d3730",
   "metadata": {
    "tags": []
   },
   "outputs": [
    {
     "name": "stdout",
     "output_type": "stream",
     "text": [
      "Single source of truth for customers and suppliers, flexible and faster cash-flow evaluation, improved operations through best practices from SAP Extended Warehouse Management and SAP Transportation Management applications, simplification of financial processes for accelerated monthly closing and greater financial insight, improvement in asset management for integrated management of depreciation and usage, and more efficient IT process management using SAP Solution Manager and focused developments.\n"
     ]
    }
   ],
   "source": [
    "query_engine = sentence_index.as_query_engine(\n",
    "    similarity_top_k=2,\n",
    "    # the target key defaults to `window` to match the node_parser's default\n",
    "    node_postprocessors=[\n",
    "        MetadataReplacementPostProcessor(target_metadata_key=\"window\")\n",
    "    ],\n",
    ")\n",
    "window_response = query_engine.query(\n",
    "    \"List Value drivers in the Milling Industry for S/4HANA transformation, where also SAP EWM and TM was deployed\"\n",
    ")\n",
    "print(window_response)"
   ]
  },
  {
   "cell_type": "code",
   "execution_count": 17,
   "id": "35b3ab76-bfbe-46e1-9415-01293eae436e",
   "metadata": {
    "tags": []
   },
   "outputs": [],
   "source": [
    "def scrape_website(url):\n",
    "    # Fetching the contant from website \n",
    "    response = requests.get(url)\n",
    "    soup = BeautifulSoup(response.content, 'html.parser')\n",
    "    \n",
    "    # Remove the HTML tags and clean text Meanual Preprocessing\n",
    "    text = soup.get_text()\n",
    "    text = re.sub(r'\\s+',' ',text)  # Replace multiple spaces with a single space\n",
    "    return text \n"
   ]
  },
  {
   "cell_type": "code",
   "execution_count": 18,
   "id": "6baa4c98-c057-4e8b-ad41-6b0da5b3348f",
   "metadata": {
    "tags": []
   },
   "outputs": [],
   "source": [
    "def indexing_website_content(url):\n",
    "    text = scrape_website(url)\n",
    "    \n",
    "    # Create a document for LlamaIndex\n",
    "    document = Document(text=text)\n",
    "    \n",
    "    # Index Document \n",
    "    index = VectorStoreIndex([document])\n",
    "    return index "
   ]
  },
  {
   "cell_type": "code",
   "execution_count": 19,
   "id": "842d36e0-1b41-49be-8e09-a0c82183bd57",
   "metadata": {
    "tags": []
   },
   "outputs": [],
   "source": [
    "# Step 3: Querying the Index using Query Engine\n",
    "def query_index(index, query):\n",
    "    # Create a query engine from the index\n",
    "    query_engine = index.as_query_engine()\n",
    "    \n",
    "    # Perform the query\n",
    "    response = query_engine.query(query)\n",
    "    return response"
   ]
  },
  {
   "cell_type": "code",
   "execution_count": 20,
   "id": "020a1596-3998-4dcd-9e28-5f232ff9c0e8",
   "metadata": {
    "tags": []
   },
   "outputs": [
    {
     "name": "stdin",
     "output_type": "stream",
     "text": [
      "Enter the URL of the website you want to scrape:  https://www.sap.com/index.html\n",
      "Enter your query:  What does SAP stand for?\n"
     ]
    },
    {
     "name": "stdout",
     "output_type": "stream",
     "text": [
      "Query Response:\n",
      "Systems, Applications, and Products in Data Processing.\n"
     ]
    }
   ],
   "source": [
    "url = input(\"Enter the URL of the website you want to scrape: \")\n",
    "index = indexing_website_content(url)\n",
    "\n",
    "query = input(\"Enter your query: \")\n",
    "response = query_index(index, query) \n",
    "print(f\"Query Response:\\n{response}\")"
   ]
  },
  {
   "cell_type": "markdown",
   "id": "2c3b93b7-6bff-4eda-9403-a74deddf3183",
   "metadata": {},
   "source": [
    "## Solution 2 :Using Neo4j Graph Database"
   ]
  },
  {
   "cell_type": "code",
   "execution_count": 23,
   "id": "dbf3a701-cb6f-4016-af1c-571eec2f797b",
   "metadata": {
    "tags": []
   },
   "outputs": [],
   "source": [
    "embed_dim = 1536\n",
    "neo4j_vector = Neo4jVectorStore(username, password, url, embed_dim)"
   ]
  },
  {
   "cell_type": "code",
   "execution_count": 26,
   "id": "057e840e-f47c-483f-8216-e23dc587b082",
   "metadata": {
    "tags": []
   },
   "outputs": [
    {
     "name": "stderr",
     "output_type": "stream",
     "text": [
      "Received notification from DBMS server: {severity: WARNING} {code: Neo.ClientNotification.Statement.FeatureDeprecationWarning} {category: DEPRECATION} {title: This feature is deprecated and will be removed in future versions.} {description: The query used a deprecated procedure. ('db.create.setVectorProperty' has been replaced by 'db.create.setNodeVectorProperty')} {position: line: 1, column: 80, offset: 79} for query: \"UNWIND $data AS row CALL { WITH row MERGE (c:`Chunk` {id: row.id}) WITH c, row CALL db.create.setVectorProperty(c, 'embedding', row.embedding) YIELD node SET c.`text` = row.text SET c += row.metadata } IN TRANSACTIONS OF 1000 ROWS\"\n"
     ]
    }
   ],
   "source": [
    "storage_context = StorageContext.from_defaults(vector_store=neo4j_vector)\n",
    "index = VectorStoreIndex.from_documents(\n",
    "    documents, storage_context=storage_context\n",
    ")"
   ]
  },
  {
   "cell_type": "code",
   "execution_count": 27,
   "id": "88bb1e27-3aca-47dd-8746-71defe32e099",
   "metadata": {
    "tags": []
   },
   "outputs": [
    {
     "data": {
      "text/markdown": [
       "<b>SAP S/4HANA is a software solution that includes the latest digital capabilities to bring flexibility and productivity to an organization's IT department. It allows for a faster implementation, quality assurance, best practice selection, and knowledge transfer through the SAP Value Assurance program. Additionally, SAP S/4HANA and SAP Fiori apps help reduce manual efforts and streamline processes for improved efficiency.</b>"
      ],
      "text/plain": [
       "<IPython.core.display.Markdown object>"
      ]
     },
     "metadata": {},
     "output_type": "display_data"
    }
   ],
   "source": [
    "query_engine = index.as_query_engine()\n",
    "response = query_engine.query(\"What is SAP 4HANA?\")\n",
    "display(Markdown(f\"<b>{response}</b>\"))"
   ]
  },
  {
   "cell_type": "markdown",
   "id": "7dd5d8bc-6356-4e75-85c7-df19888ee844",
   "metadata": {},
   "source": [
    "### Let's extract some entities and relationships that could potenttially be useful for constructing Knowledge graph "
   ]
  },
  {
   "cell_type": "code",
   "execution_count": 31,
   "id": "e8e1ff1c-dd65-48c0-a5e4-984e17c59ab4",
   "metadata": {
    "tags": []
   },
   "outputs": [],
   "source": [
    "nlp = spacy.load('en_core_web_sm')"
   ]
  },
  {
   "cell_type": "code",
   "execution_count": 32,
   "id": "81e84364-d850-4ca5-b24d-aa077c764069",
   "metadata": {
    "tags": []
   },
   "outputs": [],
   "source": [
    "# Process the text with spacy \n",
    "doc = nlp(text)"
   ]
  },
  {
   "cell_type": "code",
   "execution_count": 34,
   "id": "f222b350-6bcd-4052-8d6c-5ec2d9551945",
   "metadata": {
    "tags": []
   },
   "outputs": [],
   "source": [
    "def extract_entities(doc):\n",
    "    entities = []\n",
    "    for ent in doc.ents:\n",
    "        entities.append((ent.text, ent.label))\n",
    "    return entities "
   ]
  },
  {
   "cell_type": "code",
   "execution_count": 46,
   "id": "ac928006-6c8d-409d-a1b4-a74f233103f8",
   "metadata": {
    "tags": []
   },
   "outputs": [],
   "source": [
    "# Function to extract relationships focusing on SVO structure\n",
    "def extract_relationships(doc):\n",
    "    relationships = []\n",
    "    for token in doc:\n",
    "        if token.dep_ == 'ROOT':  # Root verbs are often the main action in a sentence\n",
    "            subject = None\n",
    "            object_ = None\n",
    "            \n",
    "            # Look for the subject (nsubj)\n",
    "            for child in token.lefts:\n",
    "                if child.dep_ == 'nsubj':\n",
    "                    subject = child.text\n",
    "            \n",
    "            # Look for the object (dobj, pobj)\n",
    "            for child in token.rights:\n",
    "                if child.dep_ in ('dobj', 'pobj'):\n",
    "                    object_ = child.text\n",
    "            \n",
    "            if subject and object_:\n",
    "                relationships.append((subject, token.lemma_, object_))\n",
    "    return relationships\n"
   ]
  },
  {
   "cell_type": "code",
   "execution_count": 36,
   "id": "5d9be8ed-f959-44ff-855e-d8b5edde40c5",
   "metadata": {
    "tags": []
   },
   "outputs": [],
   "source": [
    "# Extract entities and relationships\n",
    "entities = extract_entities(doc)\n",
    "relationships = extract_relationships(doc)"
   ]
  },
  {
   "cell_type": "code",
   "execution_count": 37,
   "id": "7dff1a01-8c20-48fe-a901-c2044268469e",
   "metadata": {
    "tags": []
   },
   "outputs": [
    {
     "name": "stdout",
     "output_type": "stream",
     "text": [
      "Entities:\n",
      " - One (397)\n",
      " - Celulose Nipo-Brasileira S.A. (383)\n",
      " - two (397)\n",
      " - Brazilian (381)\n",
      " - Japanese (381)\n",
      " - SAP (383)\n",
      " - ERP (383)\n",
      " - more than 17 years ago (391)\n",
      " - Logística (9191306739292312949)\n",
      " - CENIBRA (383)\n",
      " - 13-month (391)\n",
      " - treasury (383)\n",
      " - COVID-19 (383)\n",
      " - CENIBRA (383)\n",
      " - 320 (397)\n",
      " - Enabling Next-Level Productivity (383)\n",
      " - Faster (380)\n",
      " - 99% (393)\n",
      " - Simplification (383)\n",
      " - Ronaldo Neves Ribeiro (380)\n",
      " - Celulose Nipo-Brasileira \n",
      "S.A. (383)\n"
     ]
    }
   ],
   "source": [
    "# Display the extracted entities\n",
    "print(\"Entities:\")\n",
    "for entity in entities:\n",
    "    print(f\" - {entity[0]} ({entity[1]})\")"
   ]
  },
  {
   "cell_type": "markdown",
   "id": "f195163a-3392-413e-8ac9-ae5c80df1676",
   "metadata": {},
   "source": [
    "### All these are not very useful entities"
   ]
  },
  {
   "cell_type": "code",
   "execution_count": 43,
   "id": "ed1604c7-65a4-44d7-9bea-95de6c3e0b24",
   "metadata": {
    "tags": []
   },
   "outputs": [],
   "source": [
    "# Function to extract entities, filtered by type\n",
    "def extract_entities(doc):\n",
    "    entities = []\n",
    "    for ent in doc.ents:\n",
    "        if ent.label_ in ['ORG', 'PERSON', 'GPE']:  # hERE WE ARE TRYING TO IDENTIFY RELEVANT ENTITIES\n",
    "            entities.append((ent.text, ent.label_))\n",
    "    return entities"
   ]
  },
  {
   "cell_type": "code",
   "execution_count": 44,
   "id": "7a50e373-e9e0-45b7-88c7-302acf0a8ccf",
   "metadata": {
    "tags": []
   },
   "outputs": [],
   "source": [
    "entities = extract_entities(doc)"
   ]
  },
  {
   "cell_type": "code",
   "execution_count": 45,
   "id": "dfa171d2-be77-423f-8162-24744cdafabe",
   "metadata": {
    "tags": []
   },
   "outputs": [
    {
     "name": "stdout",
     "output_type": "stream",
     "text": [
      "Filtered Entities:\n",
      " - Celulose Nipo-Brasileira S.A. (ORG)\n",
      " - SAP (ORG)\n",
      " - ERP (ORG)\n",
      " - CENIBRA (ORG)\n",
      " - treasury (ORG)\n",
      " - COVID-19 (ORG)\n",
      " - CENIBRA (ORG)\n",
      " - Enabling Next-Level Productivity (ORG)\n",
      " - Faster (PERSON)\n",
      " - Simplification (ORG)\n",
      " - Ronaldo Neves Ribeiro (PERSON)\n",
      " - Celulose Nipo-Brasileira \n",
      "S.A. (ORG)\n"
     ]
    }
   ],
   "source": [
    "# Display the extracted entities\n",
    "print(\"Filtered Entities:\")\n",
    "for entity in entities:\n",
    "    print(f\" - {entity[0]} ({entity[1]})\")"
   ]
  },
  {
   "cell_type": "code",
   "execution_count": 47,
   "id": "3e617fbb-246c-4f91-a0e0-0c076c67e98d",
   "metadata": {
    "tags": []
   },
   "outputs": [],
   "source": [
    "relationships = extract_relationships(doc)"
   ]
  },
  {
   "cell_type": "code",
   "execution_count": 48,
   "id": "a407a2e1-b560-4ba0-ad4c-b86a9f6622de",
   "metadata": {
    "tags": []
   },
   "outputs": [
    {
     "name": "stdout",
     "output_type": "stream",
     "text": [
      "\n",
      "Relationships:\n",
      " - One increase productivity\n",
      " - project cover processes\n",
      " - CENIBRA simplify processes\n"
     ]
    }
   ],
   "source": [
    "# Display the extracted relationships\n",
    "print(\"\\nRelationships:\")\n",
    "for relationship in relationships:\n",
    "    print(f\" - {relationship[0]} {relationship[1]} {relationship[2]}\")"
   ]
  },
  {
   "cell_type": "code",
   "execution_count": 49,
   "id": "845ebe38-9b1f-48d1-bd0d-a773c9ab307e",
   "metadata": {
    "tags": []
   },
   "outputs": [],
   "source": [
    "# Function to create nodes\n",
    "def create_node(tx, entity, label):\n",
    "    tx.run(\"MERGE (e:Entity {name: $name, label: $label})\", name=entity, label=label)"
   ]
  },
  {
   "cell_type": "code",
   "execution_count": 50,
   "id": "b1841a48-c21b-448d-a77d-70df0b34b2d7",
   "metadata": {
    "tags": []
   },
   "outputs": [],
   "source": [
    "# Function to create relationships\n",
    "def create_relationship(tx, subject, verb, object_):\n",
    "    tx.run(\"\"\"\n",
    "        MATCH (a:Entity {name: $subject}), (b:Entity {name: $object_})\n",
    "        MERGE (a)-[r:RELATIONSHIP {type: $verb}]->(b)\n",
    "    \"\"\", subject=subject, verb=verb, object_=object_)"
   ]
  },
  {
   "cell_type": "code",
   "execution_count": 51,
   "id": "095f4921-bdca-4720-9eeb-4cb41915dcb9",
   "metadata": {
    "tags": []
   },
   "outputs": [],
   "source": [
    "# List of entities and their types\n",
    "entities = [\n",
    "    (\"CENIBRA\", \"ORG\"),\n",
    "    (\"Celulose Nipo-Brasileira S.A.\", \"ORG\"),\n",
    "    (\"Ronaldo Neves Ribeiro\", \"PERSON\"),\n",
    "    (\"SAP\", \"ORG\"),\n",
    "    (\"COVID-19\", \"EVENT\")\n",
    "]"
   ]
  },
  {
   "cell_type": "code",
   "execution_count": 52,
   "id": "50ddfb5a-78bf-43b2-a3bb-0d80ff1380cd",
   "metadata": {
    "tags": []
   },
   "outputs": [],
   "source": [
    "# List of relationships (subject, verb, object)\n",
    "relationships = [\n",
    "    (\"CENIBRA\", \"simplify\", \"processes\"),\n",
    "    (\"project\", \"cover\", \"all processes\"),\n",
    "    (\"team\", \"work on\", \"transformation\")\n",
    "]"
   ]
  },
  {
   "cell_type": "code",
   "execution_count": 56,
   "id": "1dba94c9-071f-457b-8c56-9e2fa9e9f71a",
   "metadata": {
    "tags": []
   },
   "outputs": [],
   "source": [
    "driver = GraphDatabase.driver(url, auth=(username, password))"
   ]
  },
  {
   "cell_type": "code",
   "execution_count": 58,
   "id": "f600c38f-ded5-4e42-8e51-9cc5e0657683",
   "metadata": {
    "tags": []
   },
   "outputs": [
    {
     "name": "stderr",
     "output_type": "stream",
     "text": [
      "/var/tmp/ipykernel_212759/1211116460.py:4: DeprecationWarning: write_transaction has been renamed to execute_write\n",
      "  session.write_transaction(create_node, entity, label)\n",
      "/var/tmp/ipykernel_212759/1211116460.py:7: DeprecationWarning: write_transaction has been renamed to execute_write\n",
      "  session.write_transaction(create_relationship, subject, verb, object_)\n"
     ]
    },
    {
     "name": "stdout",
     "output_type": "stream",
     "text": [
      "Graph construction complete!\n"
     ]
    }
   ],
   "source": [
    "# Create nodes and relationships in the graph\n",
    "with driver.session() as session:\n",
    "    for entity, label in entities:\n",
    "        session.write_transaction(create_node, entity, label)\n",
    "    \n",
    "    for subject, verb, object_ in relationships:\n",
    "        session.write_transaction(create_relationship, subject, verb, object_)\n",
    "\n",
    "print(\"Graph construction complete!\")"
   ]
  }
 ],
 "metadata": {
  "environment": {
   "kernel": "conda-env-tensorflow-tensorflow",
   "name": "workbench-notebooks.m124",
   "type": "gcloud",
   "uri": "us-docker.pkg.dev/deeplearning-platform-release/gcr.io/workbench-notebooks:m124"
  },
  "kernelspec": {
   "display_name": "TensorFlow 2-11 (Local)",
   "language": "python",
   "name": "conda-env-tensorflow-tensorflow"
  },
  "language_info": {
   "codemirror_mode": {
    "name": "ipython",
    "version": 3
   },
   "file_extension": ".py",
   "mimetype": "text/x-python",
   "name": "python",
   "nbconvert_exporter": "python",
   "pygments_lexer": "ipython3",
   "version": "3.10.14"
  }
 },
 "nbformat": 4,
 "nbformat_minor": 5
}
